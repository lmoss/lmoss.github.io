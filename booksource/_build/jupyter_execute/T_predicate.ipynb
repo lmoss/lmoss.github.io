{
 "cells": [
  {
   "cell_type": "markdown",
   "metadata": {
    "colab_type": "text",
    "id": "view-in-github"
   },
   "source": [
    "<a href=\"https://colab.research.google.com/github/lmoss/onesharp/blob/main/T_predicate.ipynb\" target=\"_parent\"><img src=\"https://colab.research.google.com/assets/colab-badge.svg\" alt=\"Open In Colab\"/></a>"
   ]
  },
  {
   "cell_type": "markdown",
   "metadata": {
    "id": "4v32slgLIcOy"
   },
   "source": [
    "# The T predicate\n",
    "\n",
    "\n"
   ]
  },
  {
   "cell_type": "code",
   "execution_count": 1,
   "metadata": {
    "cellView": "form",
    "id": "3zbxv62sfABy"
   },
   "outputs": [],
   "source": [
    "#@title\n",
    "import pandas as pd\n",
    "import numpy as np\n",
    "\n",
    "def program_checker(str):\n",
    "    m = len(str)\n",
    "    x1 = str[m - 1] == '#'\n",
    "    x2 = all((str[i] == '1' or str[i] == '#') for i in range(m))\n",
    "    x3 = (str.find('######') == -1)\n",
    "    if (x1 and x2 and x3):\n",
    "        flag = True\n",
    "    else:\n",
    "        flag = False\n",
    "        print('The input ' + str + ' is not a valid 1# program.')\n",
    "        print('It is not the concatenation of a sequence of instructions in the language.')\n",
    "        print('So what you are asking for is undefined.')\n",
    "    return (flag)\n",
    "\n",
    "def one_or_sharp_check(letter):\n",
    "    if (letter==\"1\" or letter==\"#\"):\n",
    "        return(True)\n",
    "    else:\n",
    "        return(False)\n",
    "\n",
    "def word_checker(strg):\n",
    "    answer = all([one_or_sharp_check(x)==True for x in strg])\n",
    "    return(answer)\n",
    "\n",
    "def input_checker(input_seq):\n",
    "    seq = [word_checker(x) for x in input_seq]\n",
    "    flag = all([word_checker(x) for x in input_seq])\n",
    "    if not flag:\n",
    "        print('The input sequence contains words with characters other than 1 and #.')\n",
    "        print('So what you are asking for is undefined.')\n",
    "    return(flag)\n",
    "                                                                                \n",
    "class Augmented:\n",
    "    def __init__(self, string, remainders):\n",
    "        self.string = string\n",
    "        self.remainders = remainders\n",
    "\n",
    "class Snapshot:\n",
    "    def __init__(self, instr_number, regs, proceed,verbose,\n",
    "                 program_length, step_number,display_formal_snapshot,partial_trace):\n",
    "        self.instr_number = instr_number\n",
    "        self.regs = regs\n",
    "        self.proceed = proceed\n",
    "        self.verbose = verbose\n",
    "        self.program_length = program_length\n",
    "        self.step_number = step_number\n",
    "        self.display_formal_snapshot = display_formal_snapshot\n",
    "        self.partial_trace = partial_trace\n",
    "        \n",
    "def preparse(xstr):\n",
    "    b = xstr.string.find('#1')\n",
    "    xstr.remainders = xstr.remainders + [xstr.string[:(b + 1)]]\n",
    "    xstr.string = xstr.string[(b + 1):]\n",
    "    return (xstr)\n",
    "\n",
    "\n",
    "\n",
    "def parse(y):\n",
    "    tempx = Augmented(y, [])\n",
    "    while tempx.string.find('#1') >= 0:\n",
    "        tempx = preparse(tempx)\n",
    "    return (tempx.remainders + [tempx.string])\n",
    "\n",
    "def unparse(p):\n",
    "    return (''.join(p))\n",
    "\n",
    "def instruction_type(instruction):\n",
    "    if instruction[-2:] == '1#':\n",
    "        return ('add1')\n",
    "    if instruction[-3:] == '1##':\n",
    "        return ('add#')\n",
    "    if instruction[-4:] == '1###':\n",
    "        return ('forward')\n",
    "    if instruction[-5:] == '1####':\n",
    "        return ('backward')\n",
    "    if instruction[-6:] == '1#####':\n",
    "        return ('cases')\n",
    "\n",
    "def tail(list):\n",
    "    return (list[1:])\n",
    "\n",
    "def one_step(p, snapshot): # p is parsed\n",
    "    truth_value = snapshot.display_formal_snapshot\n",
    "    i = snapshot.instr_number\n",
    "    r = snapshot.regs\n",
    "    instruction = p[-1 + i]\n",
    "    if snapshot.verbose:\n",
    "        print('Step ' + str(snapshot.step_number) + ':')\n",
    "        print('Execute instruction ' + str(i) + ':' + \" \" +\n",
    "              instruction_gloss(instruction,i-1) \n",
    "              + '.')\n",
    "        if instruction_type(instruction)=='cases':\n",
    "            billy= len(instruction) - 5\n",
    "            if snapshot.regs[billy-1] == \"\":\n",
    "                print('The register is empty, so we go ahead 1 instruction.')\n",
    "            elif snapshot.regs[billy-1][0] == \"1\":\n",
    "                print('The first symbol in that register is 1,' +\n",
    "                      ' so we delete that symbol and go forward 2 instructions.')\n",
    "            elif snapshot.regs[billy-1][0] == \"#\":\n",
    "                print('The first symbol in that register is #,' +\n",
    "                      ' so we delete that symbol and go forward 3 instructions.')     \n",
    "    t = instruction_type(instruction)\n",
    "    if t == 'add1':\n",
    "        snapshot.instr_number = 1 + snapshot.instr_number\n",
    "        l = len(instruction)\n",
    "        reg = len(instruction[:(l - 1)])\n",
    "        snapshot.regs[reg - 1] = snapshot.regs[reg - 1] + '1'\n",
    "    if t == 'add#':\n",
    "        snapshot.instr_number = 1 + snapshot.instr_number\n",
    "        l = len(instruction)\n",
    "        reg = len(instruction[:(l - 2)])\n",
    "        snapshot.regs[reg - 1] = snapshot.regs[reg - 1] + '#'\n",
    "    if t == 'forward':\n",
    "        l = len(instruction)\n",
    "        offset = len(instruction[:(l - 3)])\n",
    "        snapshot.instr_number = offset + snapshot.instr_number\n",
    "    if t == 'backward':\n",
    "        l = len(instruction)\n",
    "        offset = len(instruction[:(l - 4)])\n",
    "        snapshot.instr_number = (-offset) + snapshot.instr_number\n",
    "    if t == 'cases':\n",
    "        l = len(instruction)\n",
    "        reg = len(instruction[:(l - 5)])\n",
    "        if snapshot.regs[reg - 1] == '':\n",
    "            snapshot.instr_number = 1 + snapshot.instr_number\n",
    "        elif snapshot.regs[reg - 1][0] == '1':\n",
    "            snapshot.instr_number = 2 + snapshot.instr_number\n",
    "            snapshot.regs[reg - 1] = tail(snapshot.regs[reg - 1])\n",
    "        elif snapshot.regs[reg - 1][0] == '#':\n",
    "            snapshot.instr_number = 3 + snapshot.instr_number\n",
    "            snapshot.regs[reg - 1] = tail(snapshot.regs[reg - 1])\n",
    "    if 0< snapshot.instr_number <= len(p):\n",
    "        snapshot.proceed = True\n",
    "        if snapshot.verbose == True:\n",
    "            print_snapshot(snapshot,truth_value)\n",
    "    else:\n",
    "         snapshot.proceed = False\n",
    "    return (snapshot)\n",
    "\n",
    "\n",
    "def number_help(instr):\n",
    "    if instruction_type(instr) == 'add1':\n",
    "        return (len(instr) - 1)\n",
    "    if instruction_type(instr) == 'add#':\n",
    "        return (len(instr) - 2)\n",
    "    if instruction_type(instr) == 'cases':\n",
    "        return (len(instr)-5)\n",
    "    else:\n",
    "        return (0)\n",
    "\n",
    "\n",
    "def max_register(p):\n",
    "    return (max([number_help(instr) for instr in parse(p)]))\n",
    "\n",
    "\n",
    "def pad(p, register_inputs):\n",
    "    n = len(register_inputs)\n",
    "    m = max_register(p)\n",
    "    extras = ['' for x in range(m - n)]\n",
    "    bigger = register_inputs + extras\n",
    "    return (bigger)\n",
    "\n",
    "def addones(word): ### needed to get out the formal snapshots: see print_snapshot below\n",
    "  if word == '':\n",
    "    return(word)\n",
    "  else:\n",
    "    x = word[0]\n",
    "    y = '1'+ x\n",
    "    z = word[1:]\n",
    "    p = addones(z)\n",
    "    return(y + p)\n",
    "\n",
    "def word_representation(snapshot): ### needed to get out the formal snapshots: see print_snapshot below\n",
    "    i = snapshot.instr_number\n",
    "    r = snapshot.regs\n",
    "    registers = len(r)\n",
    "    a = ones(i)\n",
    "    b = [addones(snapshot.regs[i]) + '##' for i in range(registers)]\n",
    "    c = \"\".join(b)\n",
    "    return(a+ '##' + c)\n",
    "\n",
    "def print_snapshot(snap,truth_value):\n",
    "    regdf = pd.DataFrame([[snap.regs[n]] for n in range(len(snap.regs))],columns=[\"contents\"])\n",
    "    regdf.index = np.arange(1, len(regdf) + 1)\n",
    "    def make_pretty(styler):\n",
    "        styler.set_properties(**{'background-color': '#FFFFCC'})\n",
    "        styler.set_properties(**{'text-align': 'left'})\n",
    "        #styler.set_caption(\"at the start\")\n",
    "        #styler.hide(axis='index')\n",
    "        return styler\n",
    "    display(regdf.style.pipe(make_pretty))  \n",
    "    if truth_value == True:\n",
    "        print()\n",
    "        w = word_representation(snap)\n",
    "        print('The formal snapshot is ' + w)\n",
    "        print()\n",
    "        snap.partial_trace = snap.partial_trace + w + '#1'\n",
    "\n",
    "\n",
    "def step_by_step_with_snapshots(word_prog, register_inputs):\n",
    "    step_by_step_prelim(word_prog,register_inputs,True)\n",
    "\n",
    "def step_by_step(word_prog, register_inputs):\n",
    "    step_by_step_prelim(word_prog, register_inputs,False)\n",
    "\n",
    "def step_by_step_prelim(word_prog, register_inputs,display_formal_snapshot):\n",
    "    truth_value = display_formal_snapshot\n",
    "    word_prog = word_prog.replace(\" \", \"\")\n",
    "    register_inputs = [word.replace(\" \", \"\") for word in register_inputs]\n",
    "    if program_checker(word_prog) and input_checker(register_inputs):\n",
    "        print('First, here is the program:')\n",
    "        parse_explain(word_prog)\n",
    "        print()\n",
    "        regs = pad(word_prog, register_inputs)\n",
    "        prog = parse(word_prog)\n",
    "        N = len(prog)\n",
    "        snap = Snapshot(1, regs,True,True,N,1,truth_value,'')\n",
    "        print('The computation starts with the register contents shown below.')\n",
    "        print('The registers include those those which you entered as part of the input')\n",
    "        print('and also others mentioned in the input program.')\n",
    "        print_snapshot(snap,display_formal_snapshot)\n",
    "        print()\n",
    "        while 0 < snap.instr_number < N + 1:\n",
    "            snap = one_step(prog, snap)\n",
    "            snap.step_number = (snap.step_number) + 1\n",
    "        if snap.instr_number <= 0:\n",
    "            print(\n",
    "                'The computation has not halted properly ' +\n",
    "                'because the control went above instruction 1 of the program.'\n",
    "                 )\n",
    "        elif (snap.instr_number == (N + 1)) and all(\n",
    "                snap.regs[i] == \"\"\n",
    "                for i in range(1, len(snap.regs))):\n",
    "            print(\n",
    "                'The computation then halts properly because' +\n",
    "                ' the control is just below the last line of the program,')\n",
    "            print('and because all registers other than R1 are empty.')\n",
    "            print()\n",
    "            print_snapshot(snap,display_formal_snapshot)\n",
    "            print('The trace is shown below:') ##\n",
    "            print(snap.partial_trace) ##\n",
    "            print()\n",
    "            if snap.regs[0] == \"\":\n",
    "                print('The output is the empty word.')\n",
    "            else:\n",
    "                print('The output is ' + snap.regs[0] + '.')\n",
    "        else:\n",
    "            print('This computation does not halt.')\n",
    "            if snap.instr_number != N + 1:\n",
    "                print('This is because the program has ' + str(len(prog)) +\n",
    "                  ' instructions, and control at the end is not one line ' + \n",
    "                   'below the bottom of the program.')\n",
    "                print()\n",
    "            else:\n",
    "                not_blank = [\n",
    "                    i + 1 for i in range(1, len(snap.regs))\n",
    "                    if snap.regs[i] != \"\"\n",
    "                ]\n",
    "                print('Here is the list of registers whose contents ' +\n",
    "                      'are not empty at this point, other than R1:' +\n",
    "                      str(not_blank) + '.')\n",
    "                print('The register contents at the end are shown above.')\n",
    "\n",
    "\n",
    "def onesharp(word_prog, register_inputs):\n",
    "    word_prog = word_prog.replace(\" \", \"\")\n",
    "    register_inputs = [word.replace(\" \", \"\") for word in register_inputs]  \n",
    "    if program_checker(word_prog) and input_checker(register_inputs):\n",
    "        register_inputs = [word.replace(\" \", \"\") for word in register_inputs]\n",
    "        regs = pad(word_prog, register_inputs)\n",
    "        prog = parse(word_prog)\n",
    "        N = len(prog)\n",
    "        snap = Snapshot(1, regs,True,False, N, 1,False,'')\n",
    "        while snap.proceed:\n",
    "            snap = one_step(prog, snap)\n",
    "            snap.step_number = (snap.step_number)+1\n",
    "        if (snap.instr_number == (N + 1)) and all(\n",
    "                snap.regs[i] == \"\" for i in range(1, len(snap.regs))):\n",
    "            return ((snap.regs)[0])\n",
    "        else:            \n",
    "            print(\"This is undefined.\")\n",
    "            print(\"The register contents at the end are shown below.\")\n",
    "            print_snapshot(snap,False)\n",
    "    else:\n",
    "        return('undefined')\n",
    "\n",
    "\n",
    "def instruction_gloss(instr,line):\n",
    "    if instruction_type(instr) == 'add1':\n",
    "        return ('add 1 to R' + str(len(instr) - 1))\n",
    "    if instruction_type(instr) == 'add#':\n",
    "        return ('add # to R' + str(len(instr) - 2))\n",
    "    if instruction_type(instr) == 'forward':\n",
    "        w = len(instr) - 3\n",
    "        return ('go forward ' + str(w) + ' to instruction ' + str(w+line+1))\n",
    "    if instruction_type(instr) == 'backward':\n",
    "        w = len(instr) - 4\n",
    "        return ('go backward ' + str(w) + ' to instruction ' + str(line - w+1))\n",
    "    if instruction_type(instr) == 'cases':\n",
    "        return ('cases on R' + str(len(instr) - 5))\n",
    "\n",
    "def expanded(gorp):\n",
    "    pgorp = parse(gorp)\n",
    "    wwgorp = [[pgorp[x],instruction_gloss(pgorp[x],x)] for x in range(len(pgorp))]\n",
    "    return(wwgorp)\n",
    "\n",
    "def parse_explain(prog):\n",
    "    df = pd.DataFrame(expanded(prog),\n",
    "                      columns=[\"instruction\", 'explanation'])\n",
    "    df.index = np.arange(1, len(df) + 1)\n",
    "    def make_pretty(styler):\n",
    "                styler.set_properties(**{'background-color': '#C9DFEC'})        \n",
    "                styler.set_properties(**{'text-align': 'left'})\n",
    "                return styler\n",
    "    display(df.style.pipe(make_pretty))\n",
    "    #display(df)\n",
    "\n",
    "def ones(n):\n",
    "    w = ['1' for i in range(n)]\n",
    "    return(unparse(w)) \n",
    "\n",
    "clear_1 = '1#####111###11####111####'\n",
    "\n",
    "move_2_1 = '11#####111111###111###1##1111####1#111111####'\n",
    "\n",
    "copy_1_2_3 = '1#####11111111###1111###11##111##11111####11#111#11111111####111#####111111###111###1##1111####1#111111####'\n",
    "\n",
    "length = '1#####1111111###11####11#1#####111###111111####111####11#####111111###111###1##1111####1#111111####'\n",
    "\n",
    "write = '1#####111111111###11111###11#11##11##111111####11#11##111111111####11#####111111###111###1##1111####1#111111####'\n",
    "\n",
    "diag = '1#####11111111111###111111###11##111#111##111##1111111####11#111#111##1111####111#####111111###111###1##1111####1#11####11#####111111###111###1##1111####1#11####'\n",
    "\n",
    "self = '1#1##1##1##1##1##1#1#1#1#1#1#1#1#1#1#1#1##1##1##1#1#1#1#1#1#1##1##1##1#1#1##1##1#1#1#1##1#1#1#1##1##1#1#1#1##1##1#1#1#1#1#1#1#1##1##1##1##1#1#1##1#1#1#1##1#1#1#1##1##1#1#1#1#1##1##1##1##1#1#1#1##1##1##1##1##1#1#1#1#1#1#1##1##1##1#1#1#1##1##1##1#1##1##1#1#1#1#1##1##1##1##1#1##1#1#1##1##1##1##1#1#1##1##1##1##1##1#1#1#1#1#1#1##1##1##1#1#1#1##1##1##1#1##1##1#1#1#1#1##1##1##1##1#1##1#1#1##1##1##1##1#####11111111111###111111###11##111#111##111##1111111####11#111#111##1111####111#####111111###111###1##1111####1#11####11#####111111###111###1##1111####1#11####'\n",
    "\n",
    "multiply = '111##1111##11#####11111111###1111###11111##111111##11111####11111#111111#11111111####111111#####111111###111###11##1111####11#111111####111#####11111111###1111###111111##1111111##11111####111111#1111111#11111111####1111111#####111111###111###111##1111####111#111111####11111#####111111###111111111###111111#####11111111111###1111111111###111111####111111#####111111111111111###111111###11111###111111#####111###1111111111111####1###11111#####111###11####111####111111#####1111###11####111####11111#11111#####111###1111111111111111111111111111111111111111111111111111111111111111111111111111111111111111111111111111111###1#1#####11111111###1111###11111##111111##11111####11111#111111#11111111####111111#####111111###111###1##1111####1#111111####1111#####111111###111###111111##1111####111111#111111####11111#####111###111111###111111111###111111#####11111111111111111111111111111111111###11111111111111111111111111###111111111111111111111111111###111111#####11111111111111111111111###1111111111111111111111111111###111111111111111111111###111111#####111111111111111111111###111111111111111111###1111111111111111111###11111#####111###111111###111111111###111111#####11111111111###1111111111111111###111111111###111111#####1111111111111###1111111111###11111111111###111111#####111###11111111###1###1111111#111111111111111111111111111111111####1111111##11111111111111111111111111111111111####1111111#111111111111111111111####1111111##11111111111111111111111####1###1111111#####111111###111###11111##1111####11111#111111####11111#####111111###111###1111##1111####1111#111111####111#####1111111111111###1111111111###11111#111#####111111###111###11111##1111####11111#111111####1111###11111##1111111111111####11111#11111#####111111###111###111##1111####111#111111####1111111111111111111111111111111111111111111111111111111111111111111111111111111111111111111111111111111111111111111111111111111111111111111111111111111111111111####1#####111###11####111####11#####111###11####111####111#####111###11####111####1111#####111111###111###1##1111####1#111111####'\n",
    "\n",
    "universal = '1#####1###11###11####111111#1#####111###111111###1111111###11111#####1111111111111111111111111111111111111111111111111111111111111111111111111111111111111111111111111111111111111111111###1###1####111#111111111####111##1#####1111###11###11111###111#11111#####1111111111111111111111111111111111111111111111###111111111###111##1#####1111###11###11111###111#11111#####1111111111111111111111111111111111111###111111111###111##1#####1111###11###11111###111#11111#####1111111111111111111111111111111111111111111111###111111111###111##1#####1111###11###11111###111#11111#####111111111111111111111111111111111111111111111111111111###111111111###111##1#####1111###11###11111111111111111111111111111111111111111111111111111111111111111111111111111111111111111111111111111111111111111111111111111111111111111111111111111111111111111111111111111111111111111111111111111111111111111111111111111111111111111111111111111###111#11111#####1111111111###1###111#####111111###111###1111##1111####1111#111111####11111111111111111111111111111111111111111111111111111111111111####111#####1###11###1111###11111#1111#111111####11111##1111##111#####1111111###1111###1111##11111##11111####1111#1111111####111111111111111111111111111111111111111111111111111111111111111111111111111###111#####1###11###11111###11111#1111#111111#1111111####1111##111#####111111###111###1111##1111####1111#111111####11111111111111111111111111111111111111111111111111111111111111111111111111111111111111111111111111####111#####1###11###1111###1111#11111#111111####11111#11111#1111##111#####111111###111###1111##1111####1111#111111####11111#####11111111###11###1###111111#####111111111111111111111111111111111111111111111111111111111111111111111111111111111111111111111111111111111111111111111111111111111111111111111111111###1###1###11111111####111111#####1111###111#11111#1111####111#####111###111111#111####1#####111111###111###111##1111####111#111111####1111#####111111###111###1##1111####1#111111####111#####111111###111###1##1111####1#111111####111111111111111111111111111111111111111111111111111111111####11#####111###11111###111111111111###11##11##111111####111#11#####1###111###111##11###111#11111111111111####111##11#####11111111111111111111111111111111111111111111111111111111111111111111###1###111##11111#####1###1111111111111111111111####11111#####1111111111111111111111111111###111111111111111111111111111###11111#####111###11###111111111111111111111111111111111111111111111###11#####111111111111111111###111111111###111#11#####1###1###111#111##111##111111111111111111111111111111111111111111111111111111111###111#11#####1###111###111##11###111#111111111111111111####111#111#1111111111111111111111111111111111111111111111###11#####111111111111111111###111111111###111#11#####1###1###111##111##111##11111111111111111111111111111111111###111#11#####1###111###111##11###111#111111111111111111####111#111##111111111111111111111111###11111#####1###1###11111#####1###1###11#####11111111111111111111111###111###111##1111111111111###11#####1###11111###1###11111#111111#111111###11111#11111#111111#111111#1###11#####111111###111###111##1111####111#111111####111#####111111###111###11##1111####11#111111####1111111111111111111111111111111111111111111111111111111111111111111111111111111111111111111111111111111111111111####11#####1###1###11#####1###1###11#####11111111111111###11###11111111###11#####1###111###1#11111111####1##1111111111####11#####111###11####111####111111#####11###11####1111#####111###11####111####'\n",
    "\n",
    "clear_2 = '11#####111###11####111####'\n",
    "clear_3 = '111#####111###11####111####'\n",
    "clear_4 = '1111#####111###11####111####'\n",
    "move_1_2= '1#####111111###111###11##1111####11#111111####'\n",
    "move_1_3= '1#####111111###111###111##1111####111#111111####'\n",
    "move_1_4= '1#####111111###111###1111##1111####1111#111111####'\n",
    "move_2_1= '11#####111111###111###1##1111####1#111111####'\n",
    "move_2_3= '11#####111111###111###111##1111####111#111111####'\n",
    "move_2_4= '11#####111111###111###1111##1111####1111#111111####'\n",
    "move_3_1= '111#####111111###111###1##1111####1#111111####'\n",
    "move_3_2= '111#####111111###111###11##1111####11#111111####'\n",
    "move_3_4= '111#####111111###111###1111##1111####1111#111111####'\n",
    "move_4_1= '1111#####111111###111###1##1111####1#111111####'\n",
    "move_4_2= '1111#####111111###111###11##1111####11#111111####'\n",
    "move_4_3= '1111#####111111###111###111##1111####111#111111####'\n",
    "copy_1_2_3 = '1#####11111111###1111###11##111##11111####11#111#11111111####111#####111111###111###1##1111####1#111111####'\n",
    "copy_1_2_4 ='1#####11111111###1111###11##1111##11111####11#1111#11111111####1111#####111111###111###1##1111####1#111111####'\n",
    "copy_1_3_4='1#####11111111###1111###111##1111##11111####111#1111#11111111####1111#####111111###111###1##1111####1#111111####'\n",
    "copy_2_3_4 = '11#####11111111###1111###111##1111##11111####111#1111#11111111####1111#####111111###111###11##1111####11#111111####'"
   ]
  },
  {
   "cell_type": "markdown",
   "metadata": {
    "id": "oSqOVeVDIyvN"
   },
   "source": [
    "## To start, review the definitons of *snapshot* and *trace*.\n",
    "\n",
    "##### We encode a word on {1,#}, say a1, . . . a_n by 1 a_1 1 a_2 . . . 1 a_n.\n",
    "That is, we put the symbol 1 between all symbols of the word that we want to encode.\n",
    "\n",
    "##### We encode a sequence of words by adding the separator ## after the enconding of each word in the sequence.\n",
    "\n",
    "#### We encode a snapshot by taking a number n and turning it into unary notation, and then following it by a sequence encoding some words.  The idea is that the number n should be an instruction number in a program, and the encoded words should be the conents of the registers."
   ]
  },
  {
   "cell_type": "markdown",
   "metadata": {
    "id": "psrSIkk8anuG"
   },
   "source": [
    "<img src=\"https://github.com/lmoss/onesharp/blob/main/harp.jpg?raw=1\" width=\"200\" height=\"160\">"
   ]
  },
  {
   "cell_type": "markdown",
   "metadata": {
    "id": "_zFp0Yaeas9W"
   },
   "source": [
    "## Here is a new interface for running program which includes a \"mode\" capability that includes the option of seeing all the snapshots and the overall trace."
   ]
  },
  {
   "cell_type": "code",
   "execution_count": 2,
   "metadata": {
    "cellView": "form",
    "colab": {
     "base_uri": "https://localhost:8080/",
     "height": 583
    },
    "id": "THLtJ9nHTq16",
    "outputId": "9efd98f1-5e88-4e25-fea6-b2a293091f88"
   },
   "outputs": [
    {
     "name": "stdout",
     "output_type": "stream",
     "text": [
      "First, here is the program:\n"
     ]
    },
    {
     "data": {
      "text/html": [
       "<style  type=\"text/css\" >\n",
       "#T_f7e6ecc8_7cb9_11ed_9447_1e0062143c78row0_col0,#T_f7e6ecc8_7cb9_11ed_9447_1e0062143c78row0_col1{\n",
       "            background-color:  #C9DFEC;\n",
       "            text-align:  left;\n",
       "        }</style><table id=\"T_f7e6ecc8_7cb9_11ed_9447_1e0062143c78\" ><thead>    <tr>        <th class=\"blank level0\" ></th>        <th class=\"col_heading level0 col0\" >instruction</th>        <th class=\"col_heading level0 col1\" >explanation</th>    </tr></thead><tbody>\n",
       "                <tr>\n",
       "                        <th id=\"T_f7e6ecc8_7cb9_11ed_9447_1e0062143c78level0_row0\" class=\"row_heading level0 row0\" >1</th>\n",
       "                        <td id=\"T_f7e6ecc8_7cb9_11ed_9447_1e0062143c78row0_col0\" class=\"data row0 col0\" >1#</td>\n",
       "                        <td id=\"T_f7e6ecc8_7cb9_11ed_9447_1e0062143c78row0_col1\" class=\"data row0 col1\" >add 1 to R1</td>\n",
       "            </tr>\n",
       "    </tbody></table>"
      ],
      "text/plain": [
       "<pandas.io.formats.style.Styler at 0x7fe759783b50>"
      ]
     },
     "metadata": {},
     "output_type": "display_data"
    },
    {
     "name": "stdout",
     "output_type": "stream",
     "text": [
      "\n",
      "The computation starts with the register contents shown below.\n",
      "The registers include those those which you entered as part of the input\n",
      "and also others mentioned in the input program.\n"
     ]
    },
    {
     "data": {
      "text/html": [
       "<style  type=\"text/css\" >\n",
       "#T_f7eb01fa_7cb9_11ed_9447_1e0062143c78row0_col0{\n",
       "            background-color:  #FFFFCC;\n",
       "            text-align:  left;\n",
       "        }</style><table id=\"T_f7eb01fa_7cb9_11ed_9447_1e0062143c78\" ><thead>    <tr>        <th class=\"blank level0\" ></th>        <th class=\"col_heading level0 col0\" >contents</th>    </tr></thead><tbody>\n",
       "                <tr>\n",
       "                        <th id=\"T_f7eb01fa_7cb9_11ed_9447_1e0062143c78level0_row0\" class=\"row_heading level0 row0\" >1</th>\n",
       "                        <td id=\"T_f7eb01fa_7cb9_11ed_9447_1e0062143c78row0_col0\" class=\"data row0 col0\" >1#1#</td>\n",
       "            </tr>\n",
       "    </tbody></table>"
      ],
      "text/plain": [
       "<pandas.io.formats.style.Styler at 0x7fe75a55d3d0>"
      ]
     },
     "metadata": {},
     "output_type": "display_data"
    },
    {
     "name": "stdout",
     "output_type": "stream",
     "text": [
      "\n",
      "The formal snapshot is 1##111#111###\n",
      "\n",
      "\n",
      "Step 1:\n",
      "Execute instruction 1: add 1 to R1.\n",
      "The computation then halts properly because the control is just below the last line of the program,\n",
      "and because all registers other than R1 are empty.\n",
      "\n"
     ]
    },
    {
     "data": {
      "text/html": [
       "<style  type=\"text/css\" >\n",
       "#T_f7eb85e4_7cb9_11ed_9447_1e0062143c78row0_col0{\n",
       "            background-color:  #FFFFCC;\n",
       "            text-align:  left;\n",
       "        }</style><table id=\"T_f7eb85e4_7cb9_11ed_9447_1e0062143c78\" ><thead>    <tr>        <th class=\"blank level0\" ></th>        <th class=\"col_heading level0 col0\" >contents</th>    </tr></thead><tbody>\n",
       "                <tr>\n",
       "                        <th id=\"T_f7eb85e4_7cb9_11ed_9447_1e0062143c78level0_row0\" class=\"row_heading level0 row0\" >1</th>\n",
       "                        <td id=\"T_f7eb85e4_7cb9_11ed_9447_1e0062143c78row0_col0\" class=\"data row0 col0\" >1#1#1</td>\n",
       "            </tr>\n",
       "    </tbody></table>"
      ],
      "text/plain": [
       "<pandas.io.formats.style.Styler at 0x7fe728f8d280>"
      ]
     },
     "metadata": {},
     "output_type": "display_data"
    },
    {
     "name": "stdout",
     "output_type": "stream",
     "text": [
      "\n",
      "The formal snapshot is 11##111#111#11##\n",
      "\n",
      "The trace is shown below:\n",
      "1##111#111####111##111#111#11###1\n",
      "\n",
      "The output is 1#1#1.\n"
     ]
    }
   ],
   "source": [
    "#@title Text Register Machine <br> The entries for the program and registers must be words on the alphabet {1,#}, without quotes.\n",
    "def end_strip(list): ## removes the tail of empty registers\n",
    "  if list == []:\n",
    "    return(list)\n",
    "  elif list[-1] == '':\n",
    "    return(end_strip(list[:-1]))\n",
    "  else:\n",
    "    return(list)\n",
    "def remove_multiple_blanks(my_str):\n",
    "   return(my_str.replace(\" \", \"\"))\n",
    "\n",
    "\n",
    "program = '1#' #@param {type:\"string\"}\n",
    "R1 = '1#1#' #@param {type:\"string\"}\n",
    "R2 = '' #@param {type:\"string\"}\n",
    "R3 = '' #@param {type:\"string\"}\n",
    "\n",
    "## For more registers, add lines here like\n",
    "## R4 = '' #@param {type:\"string\"}\n",
    "## You also must modify the definition of 'a' below accordingly.\n",
    "\n",
    "mode = 'step by step with snapshots and trace' #@param [\"output only\", \"step by step\",\"step by step with snapshots and trace\"]\n",
    "\n",
    "# First, we delete the last batch of empty registers\n",
    "# to simplify the output \n",
    "a = [R1,R2,R3]\n",
    "a = [remove_multiple_blanks(x) for x in a]\n",
    "\n",
    "non_empty_registers = end_strip(a)\n",
    "if mode == 'output only':\n",
    "  onesharp(program,non_empty_registers)\n",
    "if mode == 'step by step':\n",
    "  step_by_step(program,non_empty_registers)\n",
    "if mode == 'step by step with snapshots and trace':\n",
    "  step_by_step_with_snapshots(program,non_empty_registers)"
   ]
  },
  {
   "cell_type": "markdown",
   "metadata": {
    "id": "Jr2BwIF0JYFl"
   },
   "source": [
    "If you want to expand the interface to handle more than three registers, open the code and look around.\n",
    "\n",
    "You can also run things in the notebook cells as we have been doing it.  See below for an example of how we would see the snapshots in a step_by_step execution."
   ]
  },
  {
   "cell_type": "code",
   "execution_count": 3,
   "metadata": {
    "colab": {
     "base_uri": "https://localhost:8080/",
     "height": 768
    },
    "id": "DRCVegtmD0b7",
    "outputId": "3ddf4fd8-bbbf-4546-a0c9-f1f94b640c4c"
   },
   "outputs": [
    {
     "name": "stdout",
     "output_type": "stream",
     "text": [
      "First, here is the program:\n"
     ]
    },
    {
     "data": {
      "text/html": [
       "<style  type=\"text/css\" >\n",
       "#T_f7f0cac2_7cb9_11ed_9447_1e0062143c78row0_col0,#T_f7f0cac2_7cb9_11ed_9447_1e0062143c78row0_col1,#T_f7f0cac2_7cb9_11ed_9447_1e0062143c78row1_col0,#T_f7f0cac2_7cb9_11ed_9447_1e0062143c78row1_col1{\n",
       "            background-color:  #C9DFEC;\n",
       "            text-align:  left;\n",
       "        }</style><table id=\"T_f7f0cac2_7cb9_11ed_9447_1e0062143c78\" ><thead>    <tr>        <th class=\"blank level0\" ></th>        <th class=\"col_heading level0 col0\" >instruction</th>        <th class=\"col_heading level0 col1\" >explanation</th>    </tr></thead><tbody>\n",
       "                <tr>\n",
       "                        <th id=\"T_f7f0cac2_7cb9_11ed_9447_1e0062143c78level0_row0\" class=\"row_heading level0 row0\" >1</th>\n",
       "                        <td id=\"T_f7f0cac2_7cb9_11ed_9447_1e0062143c78row0_col0\" class=\"data row0 col0\" >1#</td>\n",
       "                        <td id=\"T_f7f0cac2_7cb9_11ed_9447_1e0062143c78row0_col1\" class=\"data row0 col1\" >add 1 to R1</td>\n",
       "            </tr>\n",
       "            <tr>\n",
       "                        <th id=\"T_f7f0cac2_7cb9_11ed_9447_1e0062143c78level0_row1\" class=\"row_heading level0 row1\" >2</th>\n",
       "                        <td id=\"T_f7f0cac2_7cb9_11ed_9447_1e0062143c78row1_col0\" class=\"data row1 col0\" >1#</td>\n",
       "                        <td id=\"T_f7f0cac2_7cb9_11ed_9447_1e0062143c78row1_col1\" class=\"data row1 col1\" >add 1 to R1</td>\n",
       "            </tr>\n",
       "    </tbody></table>"
      ],
      "text/plain": [
       "<pandas.io.formats.style.Styler at 0x7fe75a2a8970>"
      ]
     },
     "metadata": {},
     "output_type": "display_data"
    },
    {
     "name": "stdout",
     "output_type": "stream",
     "text": [
      "\n",
      "The computation starts with the register contents shown below.\n",
      "The registers include those those which you entered as part of the input\n",
      "and also others mentioned in the input program.\n"
     ]
    },
    {
     "data": {
      "text/html": [
       "<style  type=\"text/css\" >\n",
       "#T_f7f175ee_7cb9_11ed_9447_1e0062143c78row0_col0{\n",
       "            background-color:  #FFFFCC;\n",
       "            text-align:  left;\n",
       "        }</style><table id=\"T_f7f175ee_7cb9_11ed_9447_1e0062143c78\" ><thead>    <tr>        <th class=\"blank level0\" ></th>        <th class=\"col_heading level0 col0\" >contents</th>    </tr></thead><tbody>\n",
       "                <tr>\n",
       "                        <th id=\"T_f7f175ee_7cb9_11ed_9447_1e0062143c78level0_row0\" class=\"row_heading level0 row0\" >1</th>\n",
       "                        <td id=\"T_f7f175ee_7cb9_11ed_9447_1e0062143c78row0_col0\" class=\"data row0 col0\" >##</td>\n",
       "            </tr>\n",
       "    </tbody></table>"
      ],
      "text/plain": [
       "<pandas.io.formats.style.Styler at 0x7fe728936fa0>"
      ]
     },
     "metadata": {},
     "output_type": "display_data"
    },
    {
     "name": "stdout",
     "output_type": "stream",
     "text": [
      "\n",
      "The formal snapshot is 1##1#1###\n",
      "\n",
      "\n",
      "Step 1:\n",
      "Execute instruction 1: add 1 to R1.\n"
     ]
    },
    {
     "data": {
      "text/html": [
       "<style  type=\"text/css\" >\n",
       "#T_f7f213be_7cb9_11ed_9447_1e0062143c78row0_col0{\n",
       "            background-color:  #FFFFCC;\n",
       "            text-align:  left;\n",
       "        }</style><table id=\"T_f7f213be_7cb9_11ed_9447_1e0062143c78\" ><thead>    <tr>        <th class=\"blank level0\" ></th>        <th class=\"col_heading level0 col0\" >contents</th>    </tr></thead><tbody>\n",
       "                <tr>\n",
       "                        <th id=\"T_f7f213be_7cb9_11ed_9447_1e0062143c78level0_row0\" class=\"row_heading level0 row0\" >1</th>\n",
       "                        <td id=\"T_f7f213be_7cb9_11ed_9447_1e0062143c78row0_col0\" class=\"data row0 col0\" >##1</td>\n",
       "            </tr>\n",
       "    </tbody></table>"
      ],
      "text/plain": [
       "<pandas.io.formats.style.Styler at 0x7fe7597ae400>"
      ]
     },
     "metadata": {},
     "output_type": "display_data"
    },
    {
     "name": "stdout",
     "output_type": "stream",
     "text": [
      "\n",
      "The formal snapshot is 11##1#1#11##\n",
      "\n",
      "Step 2:\n",
      "Execute instruction 2: add 1 to R1.\n",
      "The computation then halts properly because the control is just below the last line of the program,\n",
      "and because all registers other than R1 are empty.\n",
      "\n"
     ]
    },
    {
     "data": {
      "text/html": [
       "<style  type=\"text/css\" >\n",
       "#T_f7f29abe_7cb9_11ed_9447_1e0062143c78row0_col0{\n",
       "            background-color:  #FFFFCC;\n",
       "            text-align:  left;\n",
       "        }</style><table id=\"T_f7f29abe_7cb9_11ed_9447_1e0062143c78\" ><thead>    <tr>        <th class=\"blank level0\" ></th>        <th class=\"col_heading level0 col0\" >contents</th>    </tr></thead><tbody>\n",
       "                <tr>\n",
       "                        <th id=\"T_f7f29abe_7cb9_11ed_9447_1e0062143c78level0_row0\" class=\"row_heading level0 row0\" >1</th>\n",
       "                        <td id=\"T_f7f29abe_7cb9_11ed_9447_1e0062143c78row0_col0\" class=\"data row0 col0\" >##11</td>\n",
       "            </tr>\n",
       "    </tbody></table>"
      ],
      "text/plain": [
       "<pandas.io.formats.style.Styler at 0x7fe75a567ca0>"
      ]
     },
     "metadata": {},
     "output_type": "display_data"
    },
    {
     "name": "stdout",
     "output_type": "stream",
     "text": [
      "\n",
      "The formal snapshot is 111##1#1#1111##\n",
      "\n",
      "The trace is shown below:\n",
      "1##1#1####111##1#1#11###1111##1#1#1111###1\n",
      "\n",
      "The output is ##11.\n"
     ]
    }
   ],
   "source": [
    "#@title\n",
    "step_by_step_with_snapshots('1#1#',['##'])\n"
   ]
  },
  {
   "cell_type": "code",
   "execution_count": 4,
   "metadata": {
    "id": "PDDArRklTXkB"
   },
   "outputs": [
    {
     "name": "stdout",
     "output_type": "stream",
     "text": [
      "First, here is the program:\n"
     ]
    },
    {
     "data": {
      "text/html": [
       "<style  type=\"text/css\" >\n",
       "#T_f7f40d36_7cb9_11ed_9447_1e0062143c78row0_col0,#T_f7f40d36_7cb9_11ed_9447_1e0062143c78row0_col1,#T_f7f40d36_7cb9_11ed_9447_1e0062143c78row1_col0,#T_f7f40d36_7cb9_11ed_9447_1e0062143c78row1_col1,#T_f7f40d36_7cb9_11ed_9447_1e0062143c78row2_col0,#T_f7f40d36_7cb9_11ed_9447_1e0062143c78row2_col1,#T_f7f40d36_7cb9_11ed_9447_1e0062143c78row3_col0,#T_f7f40d36_7cb9_11ed_9447_1e0062143c78row3_col1,#T_f7f40d36_7cb9_11ed_9447_1e0062143c78row4_col0,#T_f7f40d36_7cb9_11ed_9447_1e0062143c78row4_col1,#T_f7f40d36_7cb9_11ed_9447_1e0062143c78row5_col0,#T_f7f40d36_7cb9_11ed_9447_1e0062143c78row5_col1,#T_f7f40d36_7cb9_11ed_9447_1e0062143c78row6_col0,#T_f7f40d36_7cb9_11ed_9447_1e0062143c78row6_col1,#T_f7f40d36_7cb9_11ed_9447_1e0062143c78row7_col0,#T_f7f40d36_7cb9_11ed_9447_1e0062143c78row7_col1,#T_f7f40d36_7cb9_11ed_9447_1e0062143c78row8_col0,#T_f7f40d36_7cb9_11ed_9447_1e0062143c78row8_col1,#T_f7f40d36_7cb9_11ed_9447_1e0062143c78row9_col0,#T_f7f40d36_7cb9_11ed_9447_1e0062143c78row9_col1,#T_f7f40d36_7cb9_11ed_9447_1e0062143c78row10_col0,#T_f7f40d36_7cb9_11ed_9447_1e0062143c78row10_col1,#T_f7f40d36_7cb9_11ed_9447_1e0062143c78row11_col0,#T_f7f40d36_7cb9_11ed_9447_1e0062143c78row11_col1,#T_f7f40d36_7cb9_11ed_9447_1e0062143c78row12_col0,#T_f7f40d36_7cb9_11ed_9447_1e0062143c78row12_col1,#T_f7f40d36_7cb9_11ed_9447_1e0062143c78row13_col0,#T_f7f40d36_7cb9_11ed_9447_1e0062143c78row13_col1,#T_f7f40d36_7cb9_11ed_9447_1e0062143c78row14_col0,#T_f7f40d36_7cb9_11ed_9447_1e0062143c78row14_col1,#T_f7f40d36_7cb9_11ed_9447_1e0062143c78row15_col0,#T_f7f40d36_7cb9_11ed_9447_1e0062143c78row15_col1,#T_f7f40d36_7cb9_11ed_9447_1e0062143c78row16_col0,#T_f7f40d36_7cb9_11ed_9447_1e0062143c78row16_col1,#T_f7f40d36_7cb9_11ed_9447_1e0062143c78row17_col0,#T_f7f40d36_7cb9_11ed_9447_1e0062143c78row17_col1,#T_f7f40d36_7cb9_11ed_9447_1e0062143c78row18_col0,#T_f7f40d36_7cb9_11ed_9447_1e0062143c78row18_col1,#T_f7f40d36_7cb9_11ed_9447_1e0062143c78row19_col0,#T_f7f40d36_7cb9_11ed_9447_1e0062143c78row19_col1,#T_f7f40d36_7cb9_11ed_9447_1e0062143c78row20_col0,#T_f7f40d36_7cb9_11ed_9447_1e0062143c78row20_col1,#T_f7f40d36_7cb9_11ed_9447_1e0062143c78row21_col0,#T_f7f40d36_7cb9_11ed_9447_1e0062143c78row21_col1,#T_f7f40d36_7cb9_11ed_9447_1e0062143c78row22_col0,#T_f7f40d36_7cb9_11ed_9447_1e0062143c78row22_col1,#T_f7f40d36_7cb9_11ed_9447_1e0062143c78row23_col0,#T_f7f40d36_7cb9_11ed_9447_1e0062143c78row23_col1,#T_f7f40d36_7cb9_11ed_9447_1e0062143c78row24_col0,#T_f7f40d36_7cb9_11ed_9447_1e0062143c78row24_col1,#T_f7f40d36_7cb9_11ed_9447_1e0062143c78row25_col0,#T_f7f40d36_7cb9_11ed_9447_1e0062143c78row25_col1{\n",
       "            background-color:  #C9DFEC;\n",
       "            text-align:  left;\n",
       "        }</style><table id=\"T_f7f40d36_7cb9_11ed_9447_1e0062143c78\" ><thead>    <tr>        <th class=\"blank level0\" ></th>        <th class=\"col_heading level0 col0\" >instruction</th>        <th class=\"col_heading level0 col1\" >explanation</th>    </tr></thead><tbody>\n",
       "                <tr>\n",
       "                        <th id=\"T_f7f40d36_7cb9_11ed_9447_1e0062143c78level0_row0\" class=\"row_heading level0 row0\" >1</th>\n",
       "                        <td id=\"T_f7f40d36_7cb9_11ed_9447_1e0062143c78row0_col0\" class=\"data row0 col0\" >1#####</td>\n",
       "                        <td id=\"T_f7f40d36_7cb9_11ed_9447_1e0062143c78row0_col1\" class=\"data row0 col1\" >cases on R1</td>\n",
       "            </tr>\n",
       "            <tr>\n",
       "                        <th id=\"T_f7f40d36_7cb9_11ed_9447_1e0062143c78level0_row1\" class=\"row_heading level0 row1\" >2</th>\n",
       "                        <td id=\"T_f7f40d36_7cb9_11ed_9447_1e0062143c78row1_col0\" class=\"data row1 col0\" >11111111111###</td>\n",
       "                        <td id=\"T_f7f40d36_7cb9_11ed_9447_1e0062143c78row1_col1\" class=\"data row1 col1\" >go forward 11 to instruction 13</td>\n",
       "            </tr>\n",
       "            <tr>\n",
       "                        <th id=\"T_f7f40d36_7cb9_11ed_9447_1e0062143c78level0_row2\" class=\"row_heading level0 row2\" >3</th>\n",
       "                        <td id=\"T_f7f40d36_7cb9_11ed_9447_1e0062143c78row2_col0\" class=\"data row2 col0\" >111111###</td>\n",
       "                        <td id=\"T_f7f40d36_7cb9_11ed_9447_1e0062143c78row2_col1\" class=\"data row2 col1\" >go forward 6 to instruction 9</td>\n",
       "            </tr>\n",
       "            <tr>\n",
       "                        <th id=\"T_f7f40d36_7cb9_11ed_9447_1e0062143c78level0_row3\" class=\"row_heading level0 row3\" >4</th>\n",
       "                        <td id=\"T_f7f40d36_7cb9_11ed_9447_1e0062143c78row3_col0\" class=\"data row3 col0\" >11##</td>\n",
       "                        <td id=\"T_f7f40d36_7cb9_11ed_9447_1e0062143c78row3_col1\" class=\"data row3 col1\" >add # to R2</td>\n",
       "            </tr>\n",
       "            <tr>\n",
       "                        <th id=\"T_f7f40d36_7cb9_11ed_9447_1e0062143c78level0_row4\" class=\"row_heading level0 row4\" >5</th>\n",
       "                        <td id=\"T_f7f40d36_7cb9_11ed_9447_1e0062143c78row4_col0\" class=\"data row4 col0\" >111#</td>\n",
       "                        <td id=\"T_f7f40d36_7cb9_11ed_9447_1e0062143c78row4_col1\" class=\"data row4 col1\" >add 1 to R3</td>\n",
       "            </tr>\n",
       "            <tr>\n",
       "                        <th id=\"T_f7f40d36_7cb9_11ed_9447_1e0062143c78level0_row5\" class=\"row_heading level0 row5\" >6</th>\n",
       "                        <td id=\"T_f7f40d36_7cb9_11ed_9447_1e0062143c78row5_col0\" class=\"data row5 col0\" >111##</td>\n",
       "                        <td id=\"T_f7f40d36_7cb9_11ed_9447_1e0062143c78row5_col1\" class=\"data row5 col1\" >add # to R3</td>\n",
       "            </tr>\n",
       "            <tr>\n",
       "                        <th id=\"T_f7f40d36_7cb9_11ed_9447_1e0062143c78level0_row6\" class=\"row_heading level0 row6\" >7</th>\n",
       "                        <td id=\"T_f7f40d36_7cb9_11ed_9447_1e0062143c78row6_col0\" class=\"data row6 col0\" >111##</td>\n",
       "                        <td id=\"T_f7f40d36_7cb9_11ed_9447_1e0062143c78row6_col1\" class=\"data row6 col1\" >add # to R3</td>\n",
       "            </tr>\n",
       "            <tr>\n",
       "                        <th id=\"T_f7f40d36_7cb9_11ed_9447_1e0062143c78level0_row7\" class=\"row_heading level0 row7\" >8</th>\n",
       "                        <td id=\"T_f7f40d36_7cb9_11ed_9447_1e0062143c78row7_col0\" class=\"data row7 col0\" >1111111####</td>\n",
       "                        <td id=\"T_f7f40d36_7cb9_11ed_9447_1e0062143c78row7_col1\" class=\"data row7 col1\" >go backward 7 to instruction 1</td>\n",
       "            </tr>\n",
       "            <tr>\n",
       "                        <th id=\"T_f7f40d36_7cb9_11ed_9447_1e0062143c78level0_row8\" class=\"row_heading level0 row8\" >9</th>\n",
       "                        <td id=\"T_f7f40d36_7cb9_11ed_9447_1e0062143c78row8_col0\" class=\"data row8 col0\" >11#</td>\n",
       "                        <td id=\"T_f7f40d36_7cb9_11ed_9447_1e0062143c78row8_col1\" class=\"data row8 col1\" >add 1 to R2</td>\n",
       "            </tr>\n",
       "            <tr>\n",
       "                        <th id=\"T_f7f40d36_7cb9_11ed_9447_1e0062143c78level0_row9\" class=\"row_heading level0 row9\" >10</th>\n",
       "                        <td id=\"T_f7f40d36_7cb9_11ed_9447_1e0062143c78row9_col0\" class=\"data row9 col0\" >111#</td>\n",
       "                        <td id=\"T_f7f40d36_7cb9_11ed_9447_1e0062143c78row9_col1\" class=\"data row9 col1\" >add 1 to R3</td>\n",
       "            </tr>\n",
       "            <tr>\n",
       "                        <th id=\"T_f7f40d36_7cb9_11ed_9447_1e0062143c78level0_row10\" class=\"row_heading level0 row10\" >11</th>\n",
       "                        <td id=\"T_f7f40d36_7cb9_11ed_9447_1e0062143c78row10_col0\" class=\"data row10 col0\" >111##</td>\n",
       "                        <td id=\"T_f7f40d36_7cb9_11ed_9447_1e0062143c78row10_col1\" class=\"data row10 col1\" >add # to R3</td>\n",
       "            </tr>\n",
       "            <tr>\n",
       "                        <th id=\"T_f7f40d36_7cb9_11ed_9447_1e0062143c78level0_row11\" class=\"row_heading level0 row11\" >12</th>\n",
       "                        <td id=\"T_f7f40d36_7cb9_11ed_9447_1e0062143c78row11_col0\" class=\"data row11 col0\" >1111####</td>\n",
       "                        <td id=\"T_f7f40d36_7cb9_11ed_9447_1e0062143c78row11_col1\" class=\"data row11 col1\" >go backward 4 to instruction 8</td>\n",
       "            </tr>\n",
       "            <tr>\n",
       "                        <th id=\"T_f7f40d36_7cb9_11ed_9447_1e0062143c78level0_row12\" class=\"row_heading level0 row12\" >13</th>\n",
       "                        <td id=\"T_f7f40d36_7cb9_11ed_9447_1e0062143c78row12_col0\" class=\"data row12 col0\" >111#####</td>\n",
       "                        <td id=\"T_f7f40d36_7cb9_11ed_9447_1e0062143c78row12_col1\" class=\"data row12 col1\" >cases on R3</td>\n",
       "            </tr>\n",
       "            <tr>\n",
       "                        <th id=\"T_f7f40d36_7cb9_11ed_9447_1e0062143c78level0_row13\" class=\"row_heading level0 row13\" >14</th>\n",
       "                        <td id=\"T_f7f40d36_7cb9_11ed_9447_1e0062143c78row13_col0\" class=\"data row13 col0\" >111111###</td>\n",
       "                        <td id=\"T_f7f40d36_7cb9_11ed_9447_1e0062143c78row13_col1\" class=\"data row13 col1\" >go forward 6 to instruction 20</td>\n",
       "            </tr>\n",
       "            <tr>\n",
       "                        <th id=\"T_f7f40d36_7cb9_11ed_9447_1e0062143c78level0_row14\" class=\"row_heading level0 row14\" >15</th>\n",
       "                        <td id=\"T_f7f40d36_7cb9_11ed_9447_1e0062143c78row14_col0\" class=\"data row14 col0\" >111###</td>\n",
       "                        <td id=\"T_f7f40d36_7cb9_11ed_9447_1e0062143c78row14_col1\" class=\"data row14 col1\" >go forward 3 to instruction 18</td>\n",
       "            </tr>\n",
       "            <tr>\n",
       "                        <th id=\"T_f7f40d36_7cb9_11ed_9447_1e0062143c78level0_row15\" class=\"row_heading level0 row15\" >16</th>\n",
       "                        <td id=\"T_f7f40d36_7cb9_11ed_9447_1e0062143c78row15_col0\" class=\"data row15 col0\" >1##</td>\n",
       "                        <td id=\"T_f7f40d36_7cb9_11ed_9447_1e0062143c78row15_col1\" class=\"data row15 col1\" >add # to R1</td>\n",
       "            </tr>\n",
       "            <tr>\n",
       "                        <th id=\"T_f7f40d36_7cb9_11ed_9447_1e0062143c78level0_row16\" class=\"row_heading level0 row16\" >17</th>\n",
       "                        <td id=\"T_f7f40d36_7cb9_11ed_9447_1e0062143c78row16_col0\" class=\"data row16 col0\" >1111####</td>\n",
       "                        <td id=\"T_f7f40d36_7cb9_11ed_9447_1e0062143c78row16_col1\" class=\"data row16 col1\" >go backward 4 to instruction 13</td>\n",
       "            </tr>\n",
       "            <tr>\n",
       "                        <th id=\"T_f7f40d36_7cb9_11ed_9447_1e0062143c78level0_row17\" class=\"row_heading level0 row17\" >18</th>\n",
       "                        <td id=\"T_f7f40d36_7cb9_11ed_9447_1e0062143c78row17_col0\" class=\"data row17 col0\" >1#</td>\n",
       "                        <td id=\"T_f7f40d36_7cb9_11ed_9447_1e0062143c78row17_col1\" class=\"data row17 col1\" >add 1 to R1</td>\n",
       "            </tr>\n",
       "            <tr>\n",
       "                        <th id=\"T_f7f40d36_7cb9_11ed_9447_1e0062143c78level0_row18\" class=\"row_heading level0 row18\" >19</th>\n",
       "                        <td id=\"T_f7f40d36_7cb9_11ed_9447_1e0062143c78row18_col0\" class=\"data row18 col0\" >11####</td>\n",
       "                        <td id=\"T_f7f40d36_7cb9_11ed_9447_1e0062143c78row18_col1\" class=\"data row18 col1\" >go backward 2 to instruction 17</td>\n",
       "            </tr>\n",
       "            <tr>\n",
       "                        <th id=\"T_f7f40d36_7cb9_11ed_9447_1e0062143c78level0_row19\" class=\"row_heading level0 row19\" >20</th>\n",
       "                        <td id=\"T_f7f40d36_7cb9_11ed_9447_1e0062143c78row19_col0\" class=\"data row19 col0\" >11#####</td>\n",
       "                        <td id=\"T_f7f40d36_7cb9_11ed_9447_1e0062143c78row19_col1\" class=\"data row19 col1\" >cases on R2</td>\n",
       "            </tr>\n",
       "            <tr>\n",
       "                        <th id=\"T_f7f40d36_7cb9_11ed_9447_1e0062143c78level0_row20\" class=\"row_heading level0 row20\" >21</th>\n",
       "                        <td id=\"T_f7f40d36_7cb9_11ed_9447_1e0062143c78row20_col0\" class=\"data row20 col0\" >111111###</td>\n",
       "                        <td id=\"T_f7f40d36_7cb9_11ed_9447_1e0062143c78row20_col1\" class=\"data row20 col1\" >go forward 6 to instruction 27</td>\n",
       "            </tr>\n",
       "            <tr>\n",
       "                        <th id=\"T_f7f40d36_7cb9_11ed_9447_1e0062143c78level0_row21\" class=\"row_heading level0 row21\" >22</th>\n",
       "                        <td id=\"T_f7f40d36_7cb9_11ed_9447_1e0062143c78row21_col0\" class=\"data row21 col0\" >111###</td>\n",
       "                        <td id=\"T_f7f40d36_7cb9_11ed_9447_1e0062143c78row21_col1\" class=\"data row21 col1\" >go forward 3 to instruction 25</td>\n",
       "            </tr>\n",
       "            <tr>\n",
       "                        <th id=\"T_f7f40d36_7cb9_11ed_9447_1e0062143c78level0_row22\" class=\"row_heading level0 row22\" >23</th>\n",
       "                        <td id=\"T_f7f40d36_7cb9_11ed_9447_1e0062143c78row22_col0\" class=\"data row22 col0\" >1##</td>\n",
       "                        <td id=\"T_f7f40d36_7cb9_11ed_9447_1e0062143c78row22_col1\" class=\"data row22 col1\" >add # to R1</td>\n",
       "            </tr>\n",
       "            <tr>\n",
       "                        <th id=\"T_f7f40d36_7cb9_11ed_9447_1e0062143c78level0_row23\" class=\"row_heading level0 row23\" >24</th>\n",
       "                        <td id=\"T_f7f40d36_7cb9_11ed_9447_1e0062143c78row23_col0\" class=\"data row23 col0\" >1111####</td>\n",
       "                        <td id=\"T_f7f40d36_7cb9_11ed_9447_1e0062143c78row23_col1\" class=\"data row23 col1\" >go backward 4 to instruction 20</td>\n",
       "            </tr>\n",
       "            <tr>\n",
       "                        <th id=\"T_f7f40d36_7cb9_11ed_9447_1e0062143c78level0_row24\" class=\"row_heading level0 row24\" >25</th>\n",
       "                        <td id=\"T_f7f40d36_7cb9_11ed_9447_1e0062143c78row24_col0\" class=\"data row24 col0\" >1#</td>\n",
       "                        <td id=\"T_f7f40d36_7cb9_11ed_9447_1e0062143c78row24_col1\" class=\"data row24 col1\" >add 1 to R1</td>\n",
       "            </tr>\n",
       "            <tr>\n",
       "                        <th id=\"T_f7f40d36_7cb9_11ed_9447_1e0062143c78level0_row25\" class=\"row_heading level0 row25\" >26</th>\n",
       "                        <td id=\"T_f7f40d36_7cb9_11ed_9447_1e0062143c78row25_col0\" class=\"data row25 col0\" >11####</td>\n",
       "                        <td id=\"T_f7f40d36_7cb9_11ed_9447_1e0062143c78row25_col1\" class=\"data row25 col1\" >go backward 2 to instruction 24</td>\n",
       "            </tr>\n",
       "    </tbody></table>"
      ],
      "text/plain": [
       "<pandas.io.formats.style.Styler at 0x7fe72893a100>"
      ]
     },
     "metadata": {},
     "output_type": "display_data"
    },
    {
     "name": "stdout",
     "output_type": "stream",
     "text": [
      "\n",
      "The computation starts with the register contents shown below.\n",
      "The registers include those those which you entered as part of the input\n",
      "and also others mentioned in the input program.\n"
     ]
    },
    {
     "data": {
      "text/html": [
       "<style  type=\"text/css\" >\n",
       "#T_f7f537e2_7cb9_11ed_9447_1e0062143c78row0_col0,#T_f7f537e2_7cb9_11ed_9447_1e0062143c78row1_col0,#T_f7f537e2_7cb9_11ed_9447_1e0062143c78row2_col0{\n",
       "            background-color:  #FFFFCC;\n",
       "            text-align:  left;\n",
       "        }</style><table id=\"T_f7f537e2_7cb9_11ed_9447_1e0062143c78\" ><thead>    <tr>        <th class=\"blank level0\" ></th>        <th class=\"col_heading level0 col0\" >contents</th>    </tr></thead><tbody>\n",
       "                <tr>\n",
       "                        <th id=\"T_f7f537e2_7cb9_11ed_9447_1e0062143c78level0_row0\" class=\"row_heading level0 row0\" >1</th>\n",
       "                        <td id=\"T_f7f537e2_7cb9_11ed_9447_1e0062143c78row0_col0\" class=\"data row0 col0\" >1#</td>\n",
       "            </tr>\n",
       "            <tr>\n",
       "                        <th id=\"T_f7f537e2_7cb9_11ed_9447_1e0062143c78level0_row1\" class=\"row_heading level0 row1\" >2</th>\n",
       "                        <td id=\"T_f7f537e2_7cb9_11ed_9447_1e0062143c78row1_col0\" class=\"data row1 col0\" ></td>\n",
       "            </tr>\n",
       "            <tr>\n",
       "                        <th id=\"T_f7f537e2_7cb9_11ed_9447_1e0062143c78level0_row2\" class=\"row_heading level0 row2\" >3</th>\n",
       "                        <td id=\"T_f7f537e2_7cb9_11ed_9447_1e0062143c78row2_col0\" class=\"data row2 col0\" ></td>\n",
       "            </tr>\n",
       "    </tbody></table>"
      ],
      "text/plain": [
       "<pandas.io.formats.style.Styler at 0x7fe7597ae700>"
      ]
     },
     "metadata": {},
     "output_type": "display_data"
    },
    {
     "name": "stdout",
     "output_type": "stream",
     "text": [
      "\n",
      "The formal snapshot is 1##111#######\n",
      "\n",
      "\n",
      "Step 1:\n",
      "Execute instruction 1: cases on R1.\n",
      "The first symbol in that register is 1, so we delete that symbol and go forward 2 instructions.\n"
     ]
    },
    {
     "data": {
      "text/html": [
       "<style  type=\"text/css\" >\n",
       "#T_f7f5cee6_7cb9_11ed_9447_1e0062143c78row0_col0,#T_f7f5cee6_7cb9_11ed_9447_1e0062143c78row1_col0,#T_f7f5cee6_7cb9_11ed_9447_1e0062143c78row2_col0{\n",
       "            background-color:  #FFFFCC;\n",
       "            text-align:  left;\n",
       "        }</style><table id=\"T_f7f5cee6_7cb9_11ed_9447_1e0062143c78\" ><thead>    <tr>        <th class=\"blank level0\" ></th>        <th class=\"col_heading level0 col0\" >contents</th>    </tr></thead><tbody>\n",
       "                <tr>\n",
       "                        <th id=\"T_f7f5cee6_7cb9_11ed_9447_1e0062143c78level0_row0\" class=\"row_heading level0 row0\" >1</th>\n",
       "                        <td id=\"T_f7f5cee6_7cb9_11ed_9447_1e0062143c78row0_col0\" class=\"data row0 col0\" >#</td>\n",
       "            </tr>\n",
       "            <tr>\n",
       "                        <th id=\"T_f7f5cee6_7cb9_11ed_9447_1e0062143c78level0_row1\" class=\"row_heading level0 row1\" >2</th>\n",
       "                        <td id=\"T_f7f5cee6_7cb9_11ed_9447_1e0062143c78row1_col0\" class=\"data row1 col0\" ></td>\n",
       "            </tr>\n",
       "            <tr>\n",
       "                        <th id=\"T_f7f5cee6_7cb9_11ed_9447_1e0062143c78level0_row2\" class=\"row_heading level0 row2\" >3</th>\n",
       "                        <td id=\"T_f7f5cee6_7cb9_11ed_9447_1e0062143c78row2_col0\" class=\"data row2 col0\" ></td>\n",
       "            </tr>\n",
       "    </tbody></table>"
      ],
      "text/plain": [
       "<pandas.io.formats.style.Styler at 0x7fe728f8d5b0>"
      ]
     },
     "metadata": {},
     "output_type": "display_data"
    },
    {
     "name": "stdout",
     "output_type": "stream",
     "text": [
      "\n",
      "The formal snapshot is 111##1#######\n",
      "\n",
      "Step 2:\n",
      "Execute instruction 3: go forward 6 to instruction 9.\n"
     ]
    },
    {
     "data": {
      "text/html": [
       "<style  type=\"text/css\" >\n",
       "#T_f7f64fe2_7cb9_11ed_9447_1e0062143c78row0_col0,#T_f7f64fe2_7cb9_11ed_9447_1e0062143c78row1_col0,#T_f7f64fe2_7cb9_11ed_9447_1e0062143c78row2_col0{\n",
       "            background-color:  #FFFFCC;\n",
       "            text-align:  left;\n",
       "        }</style><table id=\"T_f7f64fe2_7cb9_11ed_9447_1e0062143c78\" ><thead>    <tr>        <th class=\"blank level0\" ></th>        <th class=\"col_heading level0 col0\" >contents</th>    </tr></thead><tbody>\n",
       "                <tr>\n",
       "                        <th id=\"T_f7f64fe2_7cb9_11ed_9447_1e0062143c78level0_row0\" class=\"row_heading level0 row0\" >1</th>\n",
       "                        <td id=\"T_f7f64fe2_7cb9_11ed_9447_1e0062143c78row0_col0\" class=\"data row0 col0\" >#</td>\n",
       "            </tr>\n",
       "            <tr>\n",
       "                        <th id=\"T_f7f64fe2_7cb9_11ed_9447_1e0062143c78level0_row1\" class=\"row_heading level0 row1\" >2</th>\n",
       "                        <td id=\"T_f7f64fe2_7cb9_11ed_9447_1e0062143c78row1_col0\" class=\"data row1 col0\" ></td>\n",
       "            </tr>\n",
       "            <tr>\n",
       "                        <th id=\"T_f7f64fe2_7cb9_11ed_9447_1e0062143c78level0_row2\" class=\"row_heading level0 row2\" >3</th>\n",
       "                        <td id=\"T_f7f64fe2_7cb9_11ed_9447_1e0062143c78row2_col0\" class=\"data row2 col0\" ></td>\n",
       "            </tr>\n",
       "    </tbody></table>"
      ],
      "text/plain": [
       "<pandas.io.formats.style.Styler at 0x7fe75a2a8eb0>"
      ]
     },
     "metadata": {},
     "output_type": "display_data"
    },
    {
     "name": "stdout",
     "output_type": "stream",
     "text": [
      "\n",
      "The formal snapshot is 111111111##1#######\n",
      "\n",
      "Step 3:\n",
      "Execute instruction 9: add 1 to R2.\n"
     ]
    },
    {
     "data": {
      "text/html": [
       "<style  type=\"text/css\" >\n",
       "#T_f7f6c85a_7cb9_11ed_9447_1e0062143c78row0_col0,#T_f7f6c85a_7cb9_11ed_9447_1e0062143c78row1_col0,#T_f7f6c85a_7cb9_11ed_9447_1e0062143c78row2_col0{\n",
       "            background-color:  #FFFFCC;\n",
       "            text-align:  left;\n",
       "        }</style><table id=\"T_f7f6c85a_7cb9_11ed_9447_1e0062143c78\" ><thead>    <tr>        <th class=\"blank level0\" ></th>        <th class=\"col_heading level0 col0\" >contents</th>    </tr></thead><tbody>\n",
       "                <tr>\n",
       "                        <th id=\"T_f7f6c85a_7cb9_11ed_9447_1e0062143c78level0_row0\" class=\"row_heading level0 row0\" >1</th>\n",
       "                        <td id=\"T_f7f6c85a_7cb9_11ed_9447_1e0062143c78row0_col0\" class=\"data row0 col0\" >#</td>\n",
       "            </tr>\n",
       "            <tr>\n",
       "                        <th id=\"T_f7f6c85a_7cb9_11ed_9447_1e0062143c78level0_row1\" class=\"row_heading level0 row1\" >2</th>\n",
       "                        <td id=\"T_f7f6c85a_7cb9_11ed_9447_1e0062143c78row1_col0\" class=\"data row1 col0\" >1</td>\n",
       "            </tr>\n",
       "            <tr>\n",
       "                        <th id=\"T_f7f6c85a_7cb9_11ed_9447_1e0062143c78level0_row2\" class=\"row_heading level0 row2\" >3</th>\n",
       "                        <td id=\"T_f7f6c85a_7cb9_11ed_9447_1e0062143c78row2_col0\" class=\"data row2 col0\" ></td>\n",
       "            </tr>\n",
       "    </tbody></table>"
      ],
      "text/plain": [
       "<pandas.io.formats.style.Styler at 0x7fe728936fa0>"
      ]
     },
     "metadata": {},
     "output_type": "display_data"
    },
    {
     "name": "stdout",
     "output_type": "stream",
     "text": [
      "\n",
      "The formal snapshot is 1111111111##1###11####\n",
      "\n",
      "Step 4:\n",
      "Execute instruction 10: add 1 to R3.\n"
     ]
    },
    {
     "data": {
      "text/html": [
       "<style  type=\"text/css\" >\n",
       "#T_f7f73c0e_7cb9_11ed_9447_1e0062143c78row0_col0,#T_f7f73c0e_7cb9_11ed_9447_1e0062143c78row1_col0,#T_f7f73c0e_7cb9_11ed_9447_1e0062143c78row2_col0{\n",
       "            background-color:  #FFFFCC;\n",
       "            text-align:  left;\n",
       "        }</style><table id=\"T_f7f73c0e_7cb9_11ed_9447_1e0062143c78\" ><thead>    <tr>        <th class=\"blank level0\" ></th>        <th class=\"col_heading level0 col0\" >contents</th>    </tr></thead><tbody>\n",
       "                <tr>\n",
       "                        <th id=\"T_f7f73c0e_7cb9_11ed_9447_1e0062143c78level0_row0\" class=\"row_heading level0 row0\" >1</th>\n",
       "                        <td id=\"T_f7f73c0e_7cb9_11ed_9447_1e0062143c78row0_col0\" class=\"data row0 col0\" >#</td>\n",
       "            </tr>\n",
       "            <tr>\n",
       "                        <th id=\"T_f7f73c0e_7cb9_11ed_9447_1e0062143c78level0_row1\" class=\"row_heading level0 row1\" >2</th>\n",
       "                        <td id=\"T_f7f73c0e_7cb9_11ed_9447_1e0062143c78row1_col0\" class=\"data row1 col0\" >1</td>\n",
       "            </tr>\n",
       "            <tr>\n",
       "                        <th id=\"T_f7f73c0e_7cb9_11ed_9447_1e0062143c78level0_row2\" class=\"row_heading level0 row2\" >3</th>\n",
       "                        <td id=\"T_f7f73c0e_7cb9_11ed_9447_1e0062143c78row2_col0\" class=\"data row2 col0\" >1</td>\n",
       "            </tr>\n",
       "    </tbody></table>"
      ],
      "text/plain": [
       "<pandas.io.formats.style.Styler at 0x7fe7597ae1f0>"
      ]
     },
     "metadata": {},
     "output_type": "display_data"
    },
    {
     "name": "stdout",
     "output_type": "stream",
     "text": [
      "\n",
      "The formal snapshot is 11111111111##1###11##11##\n",
      "\n",
      "Step 5:\n",
      "Execute instruction 11: add # to R3.\n"
     ]
    },
    {
     "data": {
      "text/html": [
       "<style  type=\"text/css\" >\n",
       "#T_f7f7b1ca_7cb9_11ed_9447_1e0062143c78row0_col0,#T_f7f7b1ca_7cb9_11ed_9447_1e0062143c78row1_col0,#T_f7f7b1ca_7cb9_11ed_9447_1e0062143c78row2_col0{\n",
       "            background-color:  #FFFFCC;\n",
       "            text-align:  left;\n",
       "        }</style><table id=\"T_f7f7b1ca_7cb9_11ed_9447_1e0062143c78\" ><thead>    <tr>        <th class=\"blank level0\" ></th>        <th class=\"col_heading level0 col0\" >contents</th>    </tr></thead><tbody>\n",
       "                <tr>\n",
       "                        <th id=\"T_f7f7b1ca_7cb9_11ed_9447_1e0062143c78level0_row0\" class=\"row_heading level0 row0\" >1</th>\n",
       "                        <td id=\"T_f7f7b1ca_7cb9_11ed_9447_1e0062143c78row0_col0\" class=\"data row0 col0\" >#</td>\n",
       "            </tr>\n",
       "            <tr>\n",
       "                        <th id=\"T_f7f7b1ca_7cb9_11ed_9447_1e0062143c78level0_row1\" class=\"row_heading level0 row1\" >2</th>\n",
       "                        <td id=\"T_f7f7b1ca_7cb9_11ed_9447_1e0062143c78row1_col0\" class=\"data row1 col0\" >1</td>\n",
       "            </tr>\n",
       "            <tr>\n",
       "                        <th id=\"T_f7f7b1ca_7cb9_11ed_9447_1e0062143c78level0_row2\" class=\"row_heading level0 row2\" >3</th>\n",
       "                        <td id=\"T_f7f7b1ca_7cb9_11ed_9447_1e0062143c78row2_col0\" class=\"data row2 col0\" >1#</td>\n",
       "            </tr>\n",
       "    </tbody></table>"
      ],
      "text/plain": [
       "<pandas.io.formats.style.Styler at 0x7fe75a567640>"
      ]
     },
     "metadata": {},
     "output_type": "display_data"
    },
    {
     "name": "stdout",
     "output_type": "stream",
     "text": [
      "\n",
      "The formal snapshot is 111111111111##1###11##111###\n",
      "\n",
      "Step 6:\n",
      "Execute instruction 12: go backward 4 to instruction 8.\n"
     ]
    },
    {
     "data": {
      "text/html": [
       "<style  type=\"text/css\" >\n",
       "#T_f7f8275e_7cb9_11ed_9447_1e0062143c78row0_col0,#T_f7f8275e_7cb9_11ed_9447_1e0062143c78row1_col0,#T_f7f8275e_7cb9_11ed_9447_1e0062143c78row2_col0{\n",
       "            background-color:  #FFFFCC;\n",
       "            text-align:  left;\n",
       "        }</style><table id=\"T_f7f8275e_7cb9_11ed_9447_1e0062143c78\" ><thead>    <tr>        <th class=\"blank level0\" ></th>        <th class=\"col_heading level0 col0\" >contents</th>    </tr></thead><tbody>\n",
       "                <tr>\n",
       "                        <th id=\"T_f7f8275e_7cb9_11ed_9447_1e0062143c78level0_row0\" class=\"row_heading level0 row0\" >1</th>\n",
       "                        <td id=\"T_f7f8275e_7cb9_11ed_9447_1e0062143c78row0_col0\" class=\"data row0 col0\" >#</td>\n",
       "            </tr>\n",
       "            <tr>\n",
       "                        <th id=\"T_f7f8275e_7cb9_11ed_9447_1e0062143c78level0_row1\" class=\"row_heading level0 row1\" >2</th>\n",
       "                        <td id=\"T_f7f8275e_7cb9_11ed_9447_1e0062143c78row1_col0\" class=\"data row1 col0\" >1</td>\n",
       "            </tr>\n",
       "            <tr>\n",
       "                        <th id=\"T_f7f8275e_7cb9_11ed_9447_1e0062143c78level0_row2\" class=\"row_heading level0 row2\" >3</th>\n",
       "                        <td id=\"T_f7f8275e_7cb9_11ed_9447_1e0062143c78row2_col0\" class=\"data row2 col0\" >1#</td>\n",
       "            </tr>\n",
       "    </tbody></table>"
      ],
      "text/plain": [
       "<pandas.io.formats.style.Styler at 0x7fe728f8d280>"
      ]
     },
     "metadata": {},
     "output_type": "display_data"
    },
    {
     "name": "stdout",
     "output_type": "stream",
     "text": [
      "\n",
      "The formal snapshot is 11111111##1###11##111###\n",
      "\n",
      "Step 7:\n",
      "Execute instruction 8: go backward 7 to instruction 1.\n"
     ]
    },
    {
     "data": {
      "text/html": [
       "<style  type=\"text/css\" >\n",
       "#T_f7f8ae40_7cb9_11ed_9447_1e0062143c78row0_col0,#T_f7f8ae40_7cb9_11ed_9447_1e0062143c78row1_col0,#T_f7f8ae40_7cb9_11ed_9447_1e0062143c78row2_col0{\n",
       "            background-color:  #FFFFCC;\n",
       "            text-align:  left;\n",
       "        }</style><table id=\"T_f7f8ae40_7cb9_11ed_9447_1e0062143c78\" ><thead>    <tr>        <th class=\"blank level0\" ></th>        <th class=\"col_heading level0 col0\" >contents</th>    </tr></thead><tbody>\n",
       "                <tr>\n",
       "                        <th id=\"T_f7f8ae40_7cb9_11ed_9447_1e0062143c78level0_row0\" class=\"row_heading level0 row0\" >1</th>\n",
       "                        <td id=\"T_f7f8ae40_7cb9_11ed_9447_1e0062143c78row0_col0\" class=\"data row0 col0\" >#</td>\n",
       "            </tr>\n",
       "            <tr>\n",
       "                        <th id=\"T_f7f8ae40_7cb9_11ed_9447_1e0062143c78level0_row1\" class=\"row_heading level0 row1\" >2</th>\n",
       "                        <td id=\"T_f7f8ae40_7cb9_11ed_9447_1e0062143c78row1_col0\" class=\"data row1 col0\" >1</td>\n",
       "            </tr>\n",
       "            <tr>\n",
       "                        <th id=\"T_f7f8ae40_7cb9_11ed_9447_1e0062143c78level0_row2\" class=\"row_heading level0 row2\" >3</th>\n",
       "                        <td id=\"T_f7f8ae40_7cb9_11ed_9447_1e0062143c78row2_col0\" class=\"data row2 col0\" >1#</td>\n",
       "            </tr>\n",
       "    </tbody></table>"
      ],
      "text/plain": [
       "<pandas.io.formats.style.Styler at 0x7fe75a56af70>"
      ]
     },
     "metadata": {},
     "output_type": "display_data"
    },
    {
     "name": "stdout",
     "output_type": "stream",
     "text": [
      "\n",
      "The formal snapshot is 1##1###11##111###\n",
      "\n",
      "Step 8:\n",
      "Execute instruction 1: cases on R1.\n",
      "The first symbol in that register is #, so we delete that symbol and go forward 3 instructions.\n"
     ]
    },
    {
     "data": {
      "text/html": [
       "<style  type=\"text/css\" >\n",
       "#T_f7f93982_7cb9_11ed_9447_1e0062143c78row0_col0,#T_f7f93982_7cb9_11ed_9447_1e0062143c78row1_col0,#T_f7f93982_7cb9_11ed_9447_1e0062143c78row2_col0{\n",
       "            background-color:  #FFFFCC;\n",
       "            text-align:  left;\n",
       "        }</style><table id=\"T_f7f93982_7cb9_11ed_9447_1e0062143c78\" ><thead>    <tr>        <th class=\"blank level0\" ></th>        <th class=\"col_heading level0 col0\" >contents</th>    </tr></thead><tbody>\n",
       "                <tr>\n",
       "                        <th id=\"T_f7f93982_7cb9_11ed_9447_1e0062143c78level0_row0\" class=\"row_heading level0 row0\" >1</th>\n",
       "                        <td id=\"T_f7f93982_7cb9_11ed_9447_1e0062143c78row0_col0\" class=\"data row0 col0\" ></td>\n",
       "            </tr>\n",
       "            <tr>\n",
       "                        <th id=\"T_f7f93982_7cb9_11ed_9447_1e0062143c78level0_row1\" class=\"row_heading level0 row1\" >2</th>\n",
       "                        <td id=\"T_f7f93982_7cb9_11ed_9447_1e0062143c78row1_col0\" class=\"data row1 col0\" >1</td>\n",
       "            </tr>\n",
       "            <tr>\n",
       "                        <th id=\"T_f7f93982_7cb9_11ed_9447_1e0062143c78level0_row2\" class=\"row_heading level0 row2\" >3</th>\n",
       "                        <td id=\"T_f7f93982_7cb9_11ed_9447_1e0062143c78row2_col0\" class=\"data row2 col0\" >1#</td>\n",
       "            </tr>\n",
       "    </tbody></table>"
      ],
      "text/plain": [
       "<pandas.io.formats.style.Styler at 0x7fe75a56a130>"
      ]
     },
     "metadata": {},
     "output_type": "display_data"
    },
    {
     "name": "stdout",
     "output_type": "stream",
     "text": [
      "\n",
      "The formal snapshot is 1111####11##111###\n",
      "\n",
      "Step 9:\n",
      "Execute instruction 4: add # to R2.\n"
     ]
    },
    {
     "data": {
      "text/html": [
       "<style  type=\"text/css\" >\n",
       "#T_f7f9aebc_7cb9_11ed_9447_1e0062143c78row0_col0,#T_f7f9aebc_7cb9_11ed_9447_1e0062143c78row1_col0,#T_f7f9aebc_7cb9_11ed_9447_1e0062143c78row2_col0{\n",
       "            background-color:  #FFFFCC;\n",
       "            text-align:  left;\n",
       "        }</style><table id=\"T_f7f9aebc_7cb9_11ed_9447_1e0062143c78\" ><thead>    <tr>        <th class=\"blank level0\" ></th>        <th class=\"col_heading level0 col0\" >contents</th>    </tr></thead><tbody>\n",
       "                <tr>\n",
       "                        <th id=\"T_f7f9aebc_7cb9_11ed_9447_1e0062143c78level0_row0\" class=\"row_heading level0 row0\" >1</th>\n",
       "                        <td id=\"T_f7f9aebc_7cb9_11ed_9447_1e0062143c78row0_col0\" class=\"data row0 col0\" ></td>\n",
       "            </tr>\n",
       "            <tr>\n",
       "                        <th id=\"T_f7f9aebc_7cb9_11ed_9447_1e0062143c78level0_row1\" class=\"row_heading level0 row1\" >2</th>\n",
       "                        <td id=\"T_f7f9aebc_7cb9_11ed_9447_1e0062143c78row1_col0\" class=\"data row1 col0\" >1#</td>\n",
       "            </tr>\n",
       "            <tr>\n",
       "                        <th id=\"T_f7f9aebc_7cb9_11ed_9447_1e0062143c78level0_row2\" class=\"row_heading level0 row2\" >3</th>\n",
       "                        <td id=\"T_f7f9aebc_7cb9_11ed_9447_1e0062143c78row2_col0\" class=\"data row2 col0\" >1#</td>\n",
       "            </tr>\n",
       "    </tbody></table>"
      ],
      "text/plain": [
       "<pandas.io.formats.style.Styler at 0x7fe75a56ab80>"
      ]
     },
     "metadata": {},
     "output_type": "display_data"
    },
    {
     "name": "stdout",
     "output_type": "stream",
     "text": [
      "\n",
      "The formal snapshot is 11111####111###111###\n",
      "\n",
      "Step 10:\n",
      "Execute instruction 5: add 1 to R3.\n"
     ]
    },
    {
     "data": {
      "text/html": [
       "<style  type=\"text/css\" >\n",
       "#T_f7fa1f28_7cb9_11ed_9447_1e0062143c78row0_col0,#T_f7fa1f28_7cb9_11ed_9447_1e0062143c78row1_col0,#T_f7fa1f28_7cb9_11ed_9447_1e0062143c78row2_col0{\n",
       "            background-color:  #FFFFCC;\n",
       "            text-align:  left;\n",
       "        }</style><table id=\"T_f7fa1f28_7cb9_11ed_9447_1e0062143c78\" ><thead>    <tr>        <th class=\"blank level0\" ></th>        <th class=\"col_heading level0 col0\" >contents</th>    </tr></thead><tbody>\n",
       "                <tr>\n",
       "                        <th id=\"T_f7fa1f28_7cb9_11ed_9447_1e0062143c78level0_row0\" class=\"row_heading level0 row0\" >1</th>\n",
       "                        <td id=\"T_f7fa1f28_7cb9_11ed_9447_1e0062143c78row0_col0\" class=\"data row0 col0\" ></td>\n",
       "            </tr>\n",
       "            <tr>\n",
       "                        <th id=\"T_f7fa1f28_7cb9_11ed_9447_1e0062143c78level0_row1\" class=\"row_heading level0 row1\" >2</th>\n",
       "                        <td id=\"T_f7fa1f28_7cb9_11ed_9447_1e0062143c78row1_col0\" class=\"data row1 col0\" >1#</td>\n",
       "            </tr>\n",
       "            <tr>\n",
       "                        <th id=\"T_f7fa1f28_7cb9_11ed_9447_1e0062143c78level0_row2\" class=\"row_heading level0 row2\" >3</th>\n",
       "                        <td id=\"T_f7fa1f28_7cb9_11ed_9447_1e0062143c78row2_col0\" class=\"data row2 col0\" >1#1</td>\n",
       "            </tr>\n",
       "    </tbody></table>"
      ],
      "text/plain": [
       "<pandas.io.formats.style.Styler at 0x7fe72893a3a0>"
      ]
     },
     "metadata": {},
     "output_type": "display_data"
    },
    {
     "name": "stdout",
     "output_type": "stream",
     "text": [
      "\n",
      "The formal snapshot is 111111####111###111#11##\n",
      "\n",
      "Step 11:\n",
      "Execute instruction 6: add # to R3.\n"
     ]
    },
    {
     "data": {
      "text/html": [
       "<style  type=\"text/css\" >\n",
       "#T_f7fa91a6_7cb9_11ed_9447_1e0062143c78row0_col0,#T_f7fa91a6_7cb9_11ed_9447_1e0062143c78row1_col0,#T_f7fa91a6_7cb9_11ed_9447_1e0062143c78row2_col0{\n",
       "            background-color:  #FFFFCC;\n",
       "            text-align:  left;\n",
       "        }</style><table id=\"T_f7fa91a6_7cb9_11ed_9447_1e0062143c78\" ><thead>    <tr>        <th class=\"blank level0\" ></th>        <th class=\"col_heading level0 col0\" >contents</th>    </tr></thead><tbody>\n",
       "                <tr>\n",
       "                        <th id=\"T_f7fa91a6_7cb9_11ed_9447_1e0062143c78level0_row0\" class=\"row_heading level0 row0\" >1</th>\n",
       "                        <td id=\"T_f7fa91a6_7cb9_11ed_9447_1e0062143c78row0_col0\" class=\"data row0 col0\" ></td>\n",
       "            </tr>\n",
       "            <tr>\n",
       "                        <th id=\"T_f7fa91a6_7cb9_11ed_9447_1e0062143c78level0_row1\" class=\"row_heading level0 row1\" >2</th>\n",
       "                        <td id=\"T_f7fa91a6_7cb9_11ed_9447_1e0062143c78row1_col0\" class=\"data row1 col0\" >1#</td>\n",
       "            </tr>\n",
       "            <tr>\n",
       "                        <th id=\"T_f7fa91a6_7cb9_11ed_9447_1e0062143c78level0_row2\" class=\"row_heading level0 row2\" >3</th>\n",
       "                        <td id=\"T_f7fa91a6_7cb9_11ed_9447_1e0062143c78row2_col0\" class=\"data row2 col0\" >1#1#</td>\n",
       "            </tr>\n",
       "    </tbody></table>"
      ],
      "text/plain": [
       "<pandas.io.formats.style.Styler at 0x7fe7597ae220>"
      ]
     },
     "metadata": {},
     "output_type": "display_data"
    },
    {
     "name": "stdout",
     "output_type": "stream",
     "text": [
      "\n",
      "The formal snapshot is 1111111####111###111#111###\n",
      "\n",
      "Step 12:\n",
      "Execute instruction 7: add # to R3.\n"
     ]
    },
    {
     "data": {
      "text/html": [
       "<style  type=\"text/css\" >\n",
       "#T_f7fb136a_7cb9_11ed_9447_1e0062143c78row0_col0,#T_f7fb136a_7cb9_11ed_9447_1e0062143c78row1_col0,#T_f7fb136a_7cb9_11ed_9447_1e0062143c78row2_col0{\n",
       "            background-color:  #FFFFCC;\n",
       "            text-align:  left;\n",
       "        }</style><table id=\"T_f7fb136a_7cb9_11ed_9447_1e0062143c78\" ><thead>    <tr>        <th class=\"blank level0\" ></th>        <th class=\"col_heading level0 col0\" >contents</th>    </tr></thead><tbody>\n",
       "                <tr>\n",
       "                        <th id=\"T_f7fb136a_7cb9_11ed_9447_1e0062143c78level0_row0\" class=\"row_heading level0 row0\" >1</th>\n",
       "                        <td id=\"T_f7fb136a_7cb9_11ed_9447_1e0062143c78row0_col0\" class=\"data row0 col0\" ></td>\n",
       "            </tr>\n",
       "            <tr>\n",
       "                        <th id=\"T_f7fb136a_7cb9_11ed_9447_1e0062143c78level0_row1\" class=\"row_heading level0 row1\" >2</th>\n",
       "                        <td id=\"T_f7fb136a_7cb9_11ed_9447_1e0062143c78row1_col0\" class=\"data row1 col0\" >1#</td>\n",
       "            </tr>\n",
       "            <tr>\n",
       "                        <th id=\"T_f7fb136a_7cb9_11ed_9447_1e0062143c78level0_row2\" class=\"row_heading level0 row2\" >3</th>\n",
       "                        <td id=\"T_f7fb136a_7cb9_11ed_9447_1e0062143c78row2_col0\" class=\"data row2 col0\" >1#1##</td>\n",
       "            </tr>\n",
       "    </tbody></table>"
      ],
      "text/plain": [
       "<pandas.io.formats.style.Styler at 0x7fe75a567730>"
      ]
     },
     "metadata": {},
     "output_type": "display_data"
    },
    {
     "name": "stdout",
     "output_type": "stream",
     "text": [
      "\n",
      "The formal snapshot is 11111111####111###111#111#1###\n",
      "\n",
      "Step 13:\n",
      "Execute instruction 8: go backward 7 to instruction 1.\n"
     ]
    },
    {
     "data": {
      "text/html": [
       "<style  type=\"text/css\" >\n",
       "#T_f7fb8d22_7cb9_11ed_9447_1e0062143c78row0_col0,#T_f7fb8d22_7cb9_11ed_9447_1e0062143c78row1_col0,#T_f7fb8d22_7cb9_11ed_9447_1e0062143c78row2_col0{\n",
       "            background-color:  #FFFFCC;\n",
       "            text-align:  left;\n",
       "        }</style><table id=\"T_f7fb8d22_7cb9_11ed_9447_1e0062143c78\" ><thead>    <tr>        <th class=\"blank level0\" ></th>        <th class=\"col_heading level0 col0\" >contents</th>    </tr></thead><tbody>\n",
       "                <tr>\n",
       "                        <th id=\"T_f7fb8d22_7cb9_11ed_9447_1e0062143c78level0_row0\" class=\"row_heading level0 row0\" >1</th>\n",
       "                        <td id=\"T_f7fb8d22_7cb9_11ed_9447_1e0062143c78row0_col0\" class=\"data row0 col0\" ></td>\n",
       "            </tr>\n",
       "            <tr>\n",
       "                        <th id=\"T_f7fb8d22_7cb9_11ed_9447_1e0062143c78level0_row1\" class=\"row_heading level0 row1\" >2</th>\n",
       "                        <td id=\"T_f7fb8d22_7cb9_11ed_9447_1e0062143c78row1_col0\" class=\"data row1 col0\" >1#</td>\n",
       "            </tr>\n",
       "            <tr>\n",
       "                        <th id=\"T_f7fb8d22_7cb9_11ed_9447_1e0062143c78level0_row2\" class=\"row_heading level0 row2\" >3</th>\n",
       "                        <td id=\"T_f7fb8d22_7cb9_11ed_9447_1e0062143c78row2_col0\" class=\"data row2 col0\" >1#1##</td>\n",
       "            </tr>\n",
       "    </tbody></table>"
      ],
      "text/plain": [
       "<pandas.io.formats.style.Styler at 0x7fe7597ae310>"
      ]
     },
     "metadata": {},
     "output_type": "display_data"
    },
    {
     "name": "stdout",
     "output_type": "stream",
     "text": [
      "\n",
      "The formal snapshot is 1####111###111#111#1###\n",
      "\n",
      "Step 14:\n",
      "Execute instruction 1: cases on R1.\n",
      "The register is empty, so we go ahead 1 instruction.\n"
     ]
    },
    {
     "data": {
      "text/html": [
       "<style  type=\"text/css\" >\n",
       "#T_f7fbf5b4_7cb9_11ed_9447_1e0062143c78row0_col0,#T_f7fbf5b4_7cb9_11ed_9447_1e0062143c78row1_col0,#T_f7fbf5b4_7cb9_11ed_9447_1e0062143c78row2_col0{\n",
       "            background-color:  #FFFFCC;\n",
       "            text-align:  left;\n",
       "        }</style><table id=\"T_f7fbf5b4_7cb9_11ed_9447_1e0062143c78\" ><thead>    <tr>        <th class=\"blank level0\" ></th>        <th class=\"col_heading level0 col0\" >contents</th>    </tr></thead><tbody>\n",
       "                <tr>\n",
       "                        <th id=\"T_f7fbf5b4_7cb9_11ed_9447_1e0062143c78level0_row0\" class=\"row_heading level0 row0\" >1</th>\n",
       "                        <td id=\"T_f7fbf5b4_7cb9_11ed_9447_1e0062143c78row0_col0\" class=\"data row0 col0\" ></td>\n",
       "            </tr>\n",
       "            <tr>\n",
       "                        <th id=\"T_f7fbf5b4_7cb9_11ed_9447_1e0062143c78level0_row1\" class=\"row_heading level0 row1\" >2</th>\n",
       "                        <td id=\"T_f7fbf5b4_7cb9_11ed_9447_1e0062143c78row1_col0\" class=\"data row1 col0\" >1#</td>\n",
       "            </tr>\n",
       "            <tr>\n",
       "                        <th id=\"T_f7fbf5b4_7cb9_11ed_9447_1e0062143c78level0_row2\" class=\"row_heading level0 row2\" >3</th>\n",
       "                        <td id=\"T_f7fbf5b4_7cb9_11ed_9447_1e0062143c78row2_col0\" class=\"data row2 col0\" >1#1##</td>\n",
       "            </tr>\n",
       "    </tbody></table>"
      ],
      "text/plain": [
       "<pandas.io.formats.style.Styler at 0x7fe75a2a89a0>"
      ]
     },
     "metadata": {},
     "output_type": "display_data"
    },
    {
     "name": "stdout",
     "output_type": "stream",
     "text": [
      "\n",
      "The formal snapshot is 11####111###111#111#1###\n",
      "\n",
      "Step 15:\n",
      "Execute instruction 2: go forward 11 to instruction 13.\n"
     ]
    },
    {
     "data": {
      "text/html": [
       "<style  type=\"text/css\" >\n",
       "#T_f7fc5fae_7cb9_11ed_9447_1e0062143c78row0_col0,#T_f7fc5fae_7cb9_11ed_9447_1e0062143c78row1_col0,#T_f7fc5fae_7cb9_11ed_9447_1e0062143c78row2_col0{\n",
       "            background-color:  #FFFFCC;\n",
       "            text-align:  left;\n",
       "        }</style><table id=\"T_f7fc5fae_7cb9_11ed_9447_1e0062143c78\" ><thead>    <tr>        <th class=\"blank level0\" ></th>        <th class=\"col_heading level0 col0\" >contents</th>    </tr></thead><tbody>\n",
       "                <tr>\n",
       "                        <th id=\"T_f7fc5fae_7cb9_11ed_9447_1e0062143c78level0_row0\" class=\"row_heading level0 row0\" >1</th>\n",
       "                        <td id=\"T_f7fc5fae_7cb9_11ed_9447_1e0062143c78row0_col0\" class=\"data row0 col0\" ></td>\n",
       "            </tr>\n",
       "            <tr>\n",
       "                        <th id=\"T_f7fc5fae_7cb9_11ed_9447_1e0062143c78level0_row1\" class=\"row_heading level0 row1\" >2</th>\n",
       "                        <td id=\"T_f7fc5fae_7cb9_11ed_9447_1e0062143c78row1_col0\" class=\"data row1 col0\" >1#</td>\n",
       "            </tr>\n",
       "            <tr>\n",
       "                        <th id=\"T_f7fc5fae_7cb9_11ed_9447_1e0062143c78level0_row2\" class=\"row_heading level0 row2\" >3</th>\n",
       "                        <td id=\"T_f7fc5fae_7cb9_11ed_9447_1e0062143c78row2_col0\" class=\"data row2 col0\" >1#1##</td>\n",
       "            </tr>\n",
       "    </tbody></table>"
      ],
      "text/plain": [
       "<pandas.io.formats.style.Styler at 0x7fe7597ae250>"
      ]
     },
     "metadata": {},
     "output_type": "display_data"
    },
    {
     "name": "stdout",
     "output_type": "stream",
     "text": [
      "\n",
      "The formal snapshot is 1111111111111####111###111#111#1###\n",
      "\n",
      "Step 16:\n",
      "Execute instruction 13: cases on R3.\n",
      "The first symbol in that register is 1, so we delete that symbol and go forward 2 instructions.\n"
     ]
    },
    {
     "data": {
      "text/html": [
       "<style  type=\"text/css\" >\n",
       "#T_f7fcc854_7cb9_11ed_9447_1e0062143c78row0_col0,#T_f7fcc854_7cb9_11ed_9447_1e0062143c78row1_col0,#T_f7fcc854_7cb9_11ed_9447_1e0062143c78row2_col0{\n",
       "            background-color:  #FFFFCC;\n",
       "            text-align:  left;\n",
       "        }</style><table id=\"T_f7fcc854_7cb9_11ed_9447_1e0062143c78\" ><thead>    <tr>        <th class=\"blank level0\" ></th>        <th class=\"col_heading level0 col0\" >contents</th>    </tr></thead><tbody>\n",
       "                <tr>\n",
       "                        <th id=\"T_f7fcc854_7cb9_11ed_9447_1e0062143c78level0_row0\" class=\"row_heading level0 row0\" >1</th>\n",
       "                        <td id=\"T_f7fcc854_7cb9_11ed_9447_1e0062143c78row0_col0\" class=\"data row0 col0\" ></td>\n",
       "            </tr>\n",
       "            <tr>\n",
       "                        <th id=\"T_f7fcc854_7cb9_11ed_9447_1e0062143c78level0_row1\" class=\"row_heading level0 row1\" >2</th>\n",
       "                        <td id=\"T_f7fcc854_7cb9_11ed_9447_1e0062143c78row1_col0\" class=\"data row1 col0\" >1#</td>\n",
       "            </tr>\n",
       "            <tr>\n",
       "                        <th id=\"T_f7fcc854_7cb9_11ed_9447_1e0062143c78level0_row2\" class=\"row_heading level0 row2\" >3</th>\n",
       "                        <td id=\"T_f7fcc854_7cb9_11ed_9447_1e0062143c78row2_col0\" class=\"data row2 col0\" >#1##</td>\n",
       "            </tr>\n",
       "    </tbody></table>"
      ],
      "text/plain": [
       "<pandas.io.formats.style.Styler at 0x7fe728f8d190>"
      ]
     },
     "metadata": {},
     "output_type": "display_data"
    },
    {
     "name": "stdout",
     "output_type": "stream",
     "text": [
      "\n",
      "The formal snapshot is 111111111111111####111###1#111#1###\n",
      "\n",
      "Step 17:\n",
      "Execute instruction 15: go forward 3 to instruction 18.\n"
     ]
    },
    {
     "data": {
      "text/html": [
       "<style  type=\"text/css\" >\n",
       "#T_f7fd2cb8_7cb9_11ed_9447_1e0062143c78row0_col0,#T_f7fd2cb8_7cb9_11ed_9447_1e0062143c78row1_col0,#T_f7fd2cb8_7cb9_11ed_9447_1e0062143c78row2_col0{\n",
       "            background-color:  #FFFFCC;\n",
       "            text-align:  left;\n",
       "        }</style><table id=\"T_f7fd2cb8_7cb9_11ed_9447_1e0062143c78\" ><thead>    <tr>        <th class=\"blank level0\" ></th>        <th class=\"col_heading level0 col0\" >contents</th>    </tr></thead><tbody>\n",
       "                <tr>\n",
       "                        <th id=\"T_f7fd2cb8_7cb9_11ed_9447_1e0062143c78level0_row0\" class=\"row_heading level0 row0\" >1</th>\n",
       "                        <td id=\"T_f7fd2cb8_7cb9_11ed_9447_1e0062143c78row0_col0\" class=\"data row0 col0\" ></td>\n",
       "            </tr>\n",
       "            <tr>\n",
       "                        <th id=\"T_f7fd2cb8_7cb9_11ed_9447_1e0062143c78level0_row1\" class=\"row_heading level0 row1\" >2</th>\n",
       "                        <td id=\"T_f7fd2cb8_7cb9_11ed_9447_1e0062143c78row1_col0\" class=\"data row1 col0\" >1#</td>\n",
       "            </tr>\n",
       "            <tr>\n",
       "                        <th id=\"T_f7fd2cb8_7cb9_11ed_9447_1e0062143c78level0_row2\" class=\"row_heading level0 row2\" >3</th>\n",
       "                        <td id=\"T_f7fd2cb8_7cb9_11ed_9447_1e0062143c78row2_col0\" class=\"data row2 col0\" >#1##</td>\n",
       "            </tr>\n",
       "    </tbody></table>"
      ],
      "text/plain": [
       "<pandas.io.formats.style.Styler at 0x7fe75a56adc0>"
      ]
     },
     "metadata": {},
     "output_type": "display_data"
    },
    {
     "name": "stdout",
     "output_type": "stream",
     "text": [
      "\n",
      "The formal snapshot is 111111111111111111####111###1#111#1###\n",
      "\n",
      "Step 18:\n",
      "Execute instruction 18: add 1 to R1.\n"
     ]
    },
    {
     "data": {
      "text/html": [
       "<style  type=\"text/css\" >\n",
       "#T_f7fd9bee_7cb9_11ed_9447_1e0062143c78row0_col0,#T_f7fd9bee_7cb9_11ed_9447_1e0062143c78row1_col0,#T_f7fd9bee_7cb9_11ed_9447_1e0062143c78row2_col0{\n",
       "            background-color:  #FFFFCC;\n",
       "            text-align:  left;\n",
       "        }</style><table id=\"T_f7fd9bee_7cb9_11ed_9447_1e0062143c78\" ><thead>    <tr>        <th class=\"blank level0\" ></th>        <th class=\"col_heading level0 col0\" >contents</th>    </tr></thead><tbody>\n",
       "                <tr>\n",
       "                        <th id=\"T_f7fd9bee_7cb9_11ed_9447_1e0062143c78level0_row0\" class=\"row_heading level0 row0\" >1</th>\n",
       "                        <td id=\"T_f7fd9bee_7cb9_11ed_9447_1e0062143c78row0_col0\" class=\"data row0 col0\" >1</td>\n",
       "            </tr>\n",
       "            <tr>\n",
       "                        <th id=\"T_f7fd9bee_7cb9_11ed_9447_1e0062143c78level0_row1\" class=\"row_heading level0 row1\" >2</th>\n",
       "                        <td id=\"T_f7fd9bee_7cb9_11ed_9447_1e0062143c78row1_col0\" class=\"data row1 col0\" >1#</td>\n",
       "            </tr>\n",
       "            <tr>\n",
       "                        <th id=\"T_f7fd9bee_7cb9_11ed_9447_1e0062143c78level0_row2\" class=\"row_heading level0 row2\" >3</th>\n",
       "                        <td id=\"T_f7fd9bee_7cb9_11ed_9447_1e0062143c78row2_col0\" class=\"data row2 col0\" >#1##</td>\n",
       "            </tr>\n",
       "    </tbody></table>"
      ],
      "text/plain": [
       "<pandas.io.formats.style.Styler at 0x7fe759729af0>"
      ]
     },
     "metadata": {},
     "output_type": "display_data"
    },
    {
     "name": "stdout",
     "output_type": "stream",
     "text": [
      "\n",
      "The formal snapshot is 1111111111111111111##11##111###1#111#1###\n",
      "\n",
      "Step 19:\n",
      "Execute instruction 19: go backward 2 to instruction 17.\n"
     ]
    },
    {
     "data": {
      "text/html": [
       "<style  type=\"text/css\" >\n",
       "#T_f7fe0868_7cb9_11ed_9447_1e0062143c78row0_col0,#T_f7fe0868_7cb9_11ed_9447_1e0062143c78row1_col0,#T_f7fe0868_7cb9_11ed_9447_1e0062143c78row2_col0{\n",
       "            background-color:  #FFFFCC;\n",
       "            text-align:  left;\n",
       "        }</style><table id=\"T_f7fe0868_7cb9_11ed_9447_1e0062143c78\" ><thead>    <tr>        <th class=\"blank level0\" ></th>        <th class=\"col_heading level0 col0\" >contents</th>    </tr></thead><tbody>\n",
       "                <tr>\n",
       "                        <th id=\"T_f7fe0868_7cb9_11ed_9447_1e0062143c78level0_row0\" class=\"row_heading level0 row0\" >1</th>\n",
       "                        <td id=\"T_f7fe0868_7cb9_11ed_9447_1e0062143c78row0_col0\" class=\"data row0 col0\" >1</td>\n",
       "            </tr>\n",
       "            <tr>\n",
       "                        <th id=\"T_f7fe0868_7cb9_11ed_9447_1e0062143c78level0_row1\" class=\"row_heading level0 row1\" >2</th>\n",
       "                        <td id=\"T_f7fe0868_7cb9_11ed_9447_1e0062143c78row1_col0\" class=\"data row1 col0\" >1#</td>\n",
       "            </tr>\n",
       "            <tr>\n",
       "                        <th id=\"T_f7fe0868_7cb9_11ed_9447_1e0062143c78level0_row2\" class=\"row_heading level0 row2\" >3</th>\n",
       "                        <td id=\"T_f7fe0868_7cb9_11ed_9447_1e0062143c78row2_col0\" class=\"data row2 col0\" >#1##</td>\n",
       "            </tr>\n",
       "    </tbody></table>"
      ],
      "text/plain": [
       "<pandas.io.formats.style.Styler at 0x7fe75a55dd00>"
      ]
     },
     "metadata": {},
     "output_type": "display_data"
    },
    {
     "name": "stdout",
     "output_type": "stream",
     "text": [
      "\n",
      "The formal snapshot is 11111111111111111##11##111###1#111#1###\n",
      "\n",
      "Step 20:\n",
      "Execute instruction 17: go backward 4 to instruction 13.\n"
     ]
    },
    {
     "data": {
      "text/html": [
       "<style  type=\"text/css\" >\n",
       "#T_f7fe6d8a_7cb9_11ed_9447_1e0062143c78row0_col0,#T_f7fe6d8a_7cb9_11ed_9447_1e0062143c78row1_col0,#T_f7fe6d8a_7cb9_11ed_9447_1e0062143c78row2_col0{\n",
       "            background-color:  #FFFFCC;\n",
       "            text-align:  left;\n",
       "        }</style><table id=\"T_f7fe6d8a_7cb9_11ed_9447_1e0062143c78\" ><thead>    <tr>        <th class=\"blank level0\" ></th>        <th class=\"col_heading level0 col0\" >contents</th>    </tr></thead><tbody>\n",
       "                <tr>\n",
       "                        <th id=\"T_f7fe6d8a_7cb9_11ed_9447_1e0062143c78level0_row0\" class=\"row_heading level0 row0\" >1</th>\n",
       "                        <td id=\"T_f7fe6d8a_7cb9_11ed_9447_1e0062143c78row0_col0\" class=\"data row0 col0\" >1</td>\n",
       "            </tr>\n",
       "            <tr>\n",
       "                        <th id=\"T_f7fe6d8a_7cb9_11ed_9447_1e0062143c78level0_row1\" class=\"row_heading level0 row1\" >2</th>\n",
       "                        <td id=\"T_f7fe6d8a_7cb9_11ed_9447_1e0062143c78row1_col0\" class=\"data row1 col0\" >1#</td>\n",
       "            </tr>\n",
       "            <tr>\n",
       "                        <th id=\"T_f7fe6d8a_7cb9_11ed_9447_1e0062143c78level0_row2\" class=\"row_heading level0 row2\" >3</th>\n",
       "                        <td id=\"T_f7fe6d8a_7cb9_11ed_9447_1e0062143c78row2_col0\" class=\"data row2 col0\" >#1##</td>\n",
       "            </tr>\n",
       "    </tbody></table>"
      ],
      "text/plain": [
       "<pandas.io.formats.style.Styler at 0x7fe72893a0a0>"
      ]
     },
     "metadata": {},
     "output_type": "display_data"
    },
    {
     "name": "stdout",
     "output_type": "stream",
     "text": [
      "\n",
      "The formal snapshot is 1111111111111##11##111###1#111#1###\n",
      "\n",
      "Step 21:\n",
      "Execute instruction 13: cases on R3.\n",
      "The first symbol in that register is #, so we delete that symbol and go forward 3 instructions.\n"
     ]
    },
    {
     "data": {
      "text/html": [
       "<style  type=\"text/css\" >\n",
       "#T_f7fedc16_7cb9_11ed_9447_1e0062143c78row0_col0,#T_f7fedc16_7cb9_11ed_9447_1e0062143c78row1_col0,#T_f7fedc16_7cb9_11ed_9447_1e0062143c78row2_col0{\n",
       "            background-color:  #FFFFCC;\n",
       "            text-align:  left;\n",
       "        }</style><table id=\"T_f7fedc16_7cb9_11ed_9447_1e0062143c78\" ><thead>    <tr>        <th class=\"blank level0\" ></th>        <th class=\"col_heading level0 col0\" >contents</th>    </tr></thead><tbody>\n",
       "                <tr>\n",
       "                        <th id=\"T_f7fedc16_7cb9_11ed_9447_1e0062143c78level0_row0\" class=\"row_heading level0 row0\" >1</th>\n",
       "                        <td id=\"T_f7fedc16_7cb9_11ed_9447_1e0062143c78row0_col0\" class=\"data row0 col0\" >1</td>\n",
       "            </tr>\n",
       "            <tr>\n",
       "                        <th id=\"T_f7fedc16_7cb9_11ed_9447_1e0062143c78level0_row1\" class=\"row_heading level0 row1\" >2</th>\n",
       "                        <td id=\"T_f7fedc16_7cb9_11ed_9447_1e0062143c78row1_col0\" class=\"data row1 col0\" >1#</td>\n",
       "            </tr>\n",
       "            <tr>\n",
       "                        <th id=\"T_f7fedc16_7cb9_11ed_9447_1e0062143c78level0_row2\" class=\"row_heading level0 row2\" >3</th>\n",
       "                        <td id=\"T_f7fedc16_7cb9_11ed_9447_1e0062143c78row2_col0\" class=\"data row2 col0\" >1##</td>\n",
       "            </tr>\n",
       "    </tbody></table>"
      ],
      "text/plain": [
       "<pandas.io.formats.style.Styler at 0x7fe75a55da30>"
      ]
     },
     "metadata": {},
     "output_type": "display_data"
    },
    {
     "name": "stdout",
     "output_type": "stream",
     "text": [
      "\n",
      "The formal snapshot is 1111111111111111##11##111###111#1###\n",
      "\n",
      "Step 22:\n",
      "Execute instruction 16: add # to R1.\n"
     ]
    },
    {
     "data": {
      "text/html": [
       "<style  type=\"text/css\" >\n",
       "#T_f7ff493a_7cb9_11ed_9447_1e0062143c78row0_col0,#T_f7ff493a_7cb9_11ed_9447_1e0062143c78row1_col0,#T_f7ff493a_7cb9_11ed_9447_1e0062143c78row2_col0{\n",
       "            background-color:  #FFFFCC;\n",
       "            text-align:  left;\n",
       "        }</style><table id=\"T_f7ff493a_7cb9_11ed_9447_1e0062143c78\" ><thead>    <tr>        <th class=\"blank level0\" ></th>        <th class=\"col_heading level0 col0\" >contents</th>    </tr></thead><tbody>\n",
       "                <tr>\n",
       "                        <th id=\"T_f7ff493a_7cb9_11ed_9447_1e0062143c78level0_row0\" class=\"row_heading level0 row0\" >1</th>\n",
       "                        <td id=\"T_f7ff493a_7cb9_11ed_9447_1e0062143c78row0_col0\" class=\"data row0 col0\" >1#</td>\n",
       "            </tr>\n",
       "            <tr>\n",
       "                        <th id=\"T_f7ff493a_7cb9_11ed_9447_1e0062143c78level0_row1\" class=\"row_heading level0 row1\" >2</th>\n",
       "                        <td id=\"T_f7ff493a_7cb9_11ed_9447_1e0062143c78row1_col0\" class=\"data row1 col0\" >1#</td>\n",
       "            </tr>\n",
       "            <tr>\n",
       "                        <th id=\"T_f7ff493a_7cb9_11ed_9447_1e0062143c78level0_row2\" class=\"row_heading level0 row2\" >3</th>\n",
       "                        <td id=\"T_f7ff493a_7cb9_11ed_9447_1e0062143c78row2_col0\" class=\"data row2 col0\" >1##</td>\n",
       "            </tr>\n",
       "    </tbody></table>"
      ],
      "text/plain": [
       "<pandas.io.formats.style.Styler at 0x7fe7597ae580>"
      ]
     },
     "metadata": {},
     "output_type": "display_data"
    },
    {
     "name": "stdout",
     "output_type": "stream",
     "text": [
      "\n",
      "The formal snapshot is 11111111111111111##111###111###111#1###\n",
      "\n",
      "Step 23:\n",
      "Execute instruction 17: go backward 4 to instruction 13.\n"
     ]
    },
    {
     "data": {
      "text/html": [
       "<style  type=\"text/css\" >\n",
       "#T_f7ffb60e_7cb9_11ed_9447_1e0062143c78row0_col0,#T_f7ffb60e_7cb9_11ed_9447_1e0062143c78row1_col0,#T_f7ffb60e_7cb9_11ed_9447_1e0062143c78row2_col0{\n",
       "            background-color:  #FFFFCC;\n",
       "            text-align:  left;\n",
       "        }</style><table id=\"T_f7ffb60e_7cb9_11ed_9447_1e0062143c78\" ><thead>    <tr>        <th class=\"blank level0\" ></th>        <th class=\"col_heading level0 col0\" >contents</th>    </tr></thead><tbody>\n",
       "                <tr>\n",
       "                        <th id=\"T_f7ffb60e_7cb9_11ed_9447_1e0062143c78level0_row0\" class=\"row_heading level0 row0\" >1</th>\n",
       "                        <td id=\"T_f7ffb60e_7cb9_11ed_9447_1e0062143c78row0_col0\" class=\"data row0 col0\" >1#</td>\n",
       "            </tr>\n",
       "            <tr>\n",
       "                        <th id=\"T_f7ffb60e_7cb9_11ed_9447_1e0062143c78level0_row1\" class=\"row_heading level0 row1\" >2</th>\n",
       "                        <td id=\"T_f7ffb60e_7cb9_11ed_9447_1e0062143c78row1_col0\" class=\"data row1 col0\" >1#</td>\n",
       "            </tr>\n",
       "            <tr>\n",
       "                        <th id=\"T_f7ffb60e_7cb9_11ed_9447_1e0062143c78level0_row2\" class=\"row_heading level0 row2\" >3</th>\n",
       "                        <td id=\"T_f7ffb60e_7cb9_11ed_9447_1e0062143c78row2_col0\" class=\"data row2 col0\" >1##</td>\n",
       "            </tr>\n",
       "    </tbody></table>"
      ],
      "text/plain": [
       "<pandas.io.formats.style.Styler at 0x7fe75a56abb0>"
      ]
     },
     "metadata": {},
     "output_type": "display_data"
    },
    {
     "name": "stdout",
     "output_type": "stream",
     "text": [
      "\n",
      "The formal snapshot is 1111111111111##111###111###111#1###\n",
      "\n",
      "Step 24:\n",
      "Execute instruction 13: cases on R3.\n",
      "The first symbol in that register is 1, so we delete that symbol and go forward 2 instructions.\n"
     ]
    },
    {
     "data": {
      "text/html": [
       "<style  type=\"text/css\" >\n",
       "#T_f8002dd2_7cb9_11ed_9447_1e0062143c78row0_col0,#T_f8002dd2_7cb9_11ed_9447_1e0062143c78row1_col0,#T_f8002dd2_7cb9_11ed_9447_1e0062143c78row2_col0{\n",
       "            background-color:  #FFFFCC;\n",
       "            text-align:  left;\n",
       "        }</style><table id=\"T_f8002dd2_7cb9_11ed_9447_1e0062143c78\" ><thead>    <tr>        <th class=\"blank level0\" ></th>        <th class=\"col_heading level0 col0\" >contents</th>    </tr></thead><tbody>\n",
       "                <tr>\n",
       "                        <th id=\"T_f8002dd2_7cb9_11ed_9447_1e0062143c78level0_row0\" class=\"row_heading level0 row0\" >1</th>\n",
       "                        <td id=\"T_f8002dd2_7cb9_11ed_9447_1e0062143c78row0_col0\" class=\"data row0 col0\" >1#</td>\n",
       "            </tr>\n",
       "            <tr>\n",
       "                        <th id=\"T_f8002dd2_7cb9_11ed_9447_1e0062143c78level0_row1\" class=\"row_heading level0 row1\" >2</th>\n",
       "                        <td id=\"T_f8002dd2_7cb9_11ed_9447_1e0062143c78row1_col0\" class=\"data row1 col0\" >1#</td>\n",
       "            </tr>\n",
       "            <tr>\n",
       "                        <th id=\"T_f8002dd2_7cb9_11ed_9447_1e0062143c78level0_row2\" class=\"row_heading level0 row2\" >3</th>\n",
       "                        <td id=\"T_f8002dd2_7cb9_11ed_9447_1e0062143c78row2_col0\" class=\"data row2 col0\" >##</td>\n",
       "            </tr>\n",
       "    </tbody></table>"
      ],
      "text/plain": [
       "<pandas.io.formats.style.Styler at 0x7fe7597ae9d0>"
      ]
     },
     "metadata": {},
     "output_type": "display_data"
    },
    {
     "name": "stdout",
     "output_type": "stream",
     "text": [
      "\n",
      "The formal snapshot is 111111111111111##111###111###1#1###\n",
      "\n",
      "Step 25:\n",
      "Execute instruction 15: go forward 3 to instruction 18.\n"
     ]
    },
    {
     "data": {
      "text/html": [
       "<style  type=\"text/css\" >\n",
       "#T_f8009bfa_7cb9_11ed_9447_1e0062143c78row0_col0,#T_f8009bfa_7cb9_11ed_9447_1e0062143c78row1_col0,#T_f8009bfa_7cb9_11ed_9447_1e0062143c78row2_col0{\n",
       "            background-color:  #FFFFCC;\n",
       "            text-align:  left;\n",
       "        }</style><table id=\"T_f8009bfa_7cb9_11ed_9447_1e0062143c78\" ><thead>    <tr>        <th class=\"blank level0\" ></th>        <th class=\"col_heading level0 col0\" >contents</th>    </tr></thead><tbody>\n",
       "                <tr>\n",
       "                        <th id=\"T_f8009bfa_7cb9_11ed_9447_1e0062143c78level0_row0\" class=\"row_heading level0 row0\" >1</th>\n",
       "                        <td id=\"T_f8009bfa_7cb9_11ed_9447_1e0062143c78row0_col0\" class=\"data row0 col0\" >1#</td>\n",
       "            </tr>\n",
       "            <tr>\n",
       "                        <th id=\"T_f8009bfa_7cb9_11ed_9447_1e0062143c78level0_row1\" class=\"row_heading level0 row1\" >2</th>\n",
       "                        <td id=\"T_f8009bfa_7cb9_11ed_9447_1e0062143c78row1_col0\" class=\"data row1 col0\" >1#</td>\n",
       "            </tr>\n",
       "            <tr>\n",
       "                        <th id=\"T_f8009bfa_7cb9_11ed_9447_1e0062143c78level0_row2\" class=\"row_heading level0 row2\" >3</th>\n",
       "                        <td id=\"T_f8009bfa_7cb9_11ed_9447_1e0062143c78row2_col0\" class=\"data row2 col0\" >##</td>\n",
       "            </tr>\n",
       "    </tbody></table>"
      ],
      "text/plain": [
       "<pandas.io.formats.style.Styler at 0x7fe75a2a89a0>"
      ]
     },
     "metadata": {},
     "output_type": "display_data"
    },
    {
     "name": "stdout",
     "output_type": "stream",
     "text": [
      "\n",
      "The formal snapshot is 111111111111111111##111###111###1#1###\n",
      "\n",
      "Step 26:\n",
      "Execute instruction 18: add 1 to R1.\n"
     ]
    },
    {
     "data": {
      "text/html": [
       "<style  type=\"text/css\" >\n",
       "#T_f8010806_7cb9_11ed_9447_1e0062143c78row0_col0,#T_f8010806_7cb9_11ed_9447_1e0062143c78row1_col0,#T_f8010806_7cb9_11ed_9447_1e0062143c78row2_col0{\n",
       "            background-color:  #FFFFCC;\n",
       "            text-align:  left;\n",
       "        }</style><table id=\"T_f8010806_7cb9_11ed_9447_1e0062143c78\" ><thead>    <tr>        <th class=\"blank level0\" ></th>        <th class=\"col_heading level0 col0\" >contents</th>    </tr></thead><tbody>\n",
       "                <tr>\n",
       "                        <th id=\"T_f8010806_7cb9_11ed_9447_1e0062143c78level0_row0\" class=\"row_heading level0 row0\" >1</th>\n",
       "                        <td id=\"T_f8010806_7cb9_11ed_9447_1e0062143c78row0_col0\" class=\"data row0 col0\" >1#1</td>\n",
       "            </tr>\n",
       "            <tr>\n",
       "                        <th id=\"T_f8010806_7cb9_11ed_9447_1e0062143c78level0_row1\" class=\"row_heading level0 row1\" >2</th>\n",
       "                        <td id=\"T_f8010806_7cb9_11ed_9447_1e0062143c78row1_col0\" class=\"data row1 col0\" >1#</td>\n",
       "            </tr>\n",
       "            <tr>\n",
       "                        <th id=\"T_f8010806_7cb9_11ed_9447_1e0062143c78level0_row2\" class=\"row_heading level0 row2\" >3</th>\n",
       "                        <td id=\"T_f8010806_7cb9_11ed_9447_1e0062143c78row2_col0\" class=\"data row2 col0\" >##</td>\n",
       "            </tr>\n",
       "    </tbody></table>"
      ],
      "text/plain": [
       "<pandas.io.formats.style.Styler at 0x7fe728f758e0>"
      ]
     },
     "metadata": {},
     "output_type": "display_data"
    },
    {
     "name": "stdout",
     "output_type": "stream",
     "text": [
      "\n",
      "The formal snapshot is 1111111111111111111##111#11##111###1#1###\n",
      "\n",
      "Step 27:\n",
      "Execute instruction 19: go backward 2 to instruction 17.\n"
     ]
    },
    {
     "data": {
      "text/html": [
       "<style  type=\"text/css\" >\n",
       "#T_f8017ae8_7cb9_11ed_9447_1e0062143c78row0_col0,#T_f8017ae8_7cb9_11ed_9447_1e0062143c78row1_col0,#T_f8017ae8_7cb9_11ed_9447_1e0062143c78row2_col0{\n",
       "            background-color:  #FFFFCC;\n",
       "            text-align:  left;\n",
       "        }</style><table id=\"T_f8017ae8_7cb9_11ed_9447_1e0062143c78\" ><thead>    <tr>        <th class=\"blank level0\" ></th>        <th class=\"col_heading level0 col0\" >contents</th>    </tr></thead><tbody>\n",
       "                <tr>\n",
       "                        <th id=\"T_f8017ae8_7cb9_11ed_9447_1e0062143c78level0_row0\" class=\"row_heading level0 row0\" >1</th>\n",
       "                        <td id=\"T_f8017ae8_7cb9_11ed_9447_1e0062143c78row0_col0\" class=\"data row0 col0\" >1#1</td>\n",
       "            </tr>\n",
       "            <tr>\n",
       "                        <th id=\"T_f8017ae8_7cb9_11ed_9447_1e0062143c78level0_row1\" class=\"row_heading level0 row1\" >2</th>\n",
       "                        <td id=\"T_f8017ae8_7cb9_11ed_9447_1e0062143c78row1_col0\" class=\"data row1 col0\" >1#</td>\n",
       "            </tr>\n",
       "            <tr>\n",
       "                        <th id=\"T_f8017ae8_7cb9_11ed_9447_1e0062143c78level0_row2\" class=\"row_heading level0 row2\" >3</th>\n",
       "                        <td id=\"T_f8017ae8_7cb9_11ed_9447_1e0062143c78row2_col0\" class=\"data row2 col0\" >##</td>\n",
       "            </tr>\n",
       "    </tbody></table>"
      ],
      "text/plain": [
       "<pandas.io.formats.style.Styler at 0x7fe75a5673a0>"
      ]
     },
     "metadata": {},
     "output_type": "display_data"
    },
    {
     "name": "stdout",
     "output_type": "stream",
     "text": [
      "\n",
      "The formal snapshot is 11111111111111111##111#11##111###1#1###\n",
      "\n",
      "Step 28:\n",
      "Execute instruction 17: go backward 4 to instruction 13.\n"
     ]
    },
    {
     "data": {
      "text/html": [
       "<style  type=\"text/css\" >\n",
       "#T_f8021fde_7cb9_11ed_9447_1e0062143c78row0_col0,#T_f8021fde_7cb9_11ed_9447_1e0062143c78row1_col0,#T_f8021fde_7cb9_11ed_9447_1e0062143c78row2_col0{\n",
       "            background-color:  #FFFFCC;\n",
       "            text-align:  left;\n",
       "        }</style><table id=\"T_f8021fde_7cb9_11ed_9447_1e0062143c78\" ><thead>    <tr>        <th class=\"blank level0\" ></th>        <th class=\"col_heading level0 col0\" >contents</th>    </tr></thead><tbody>\n",
       "                <tr>\n",
       "                        <th id=\"T_f8021fde_7cb9_11ed_9447_1e0062143c78level0_row0\" class=\"row_heading level0 row0\" >1</th>\n",
       "                        <td id=\"T_f8021fde_7cb9_11ed_9447_1e0062143c78row0_col0\" class=\"data row0 col0\" >1#1</td>\n",
       "            </tr>\n",
       "            <tr>\n",
       "                        <th id=\"T_f8021fde_7cb9_11ed_9447_1e0062143c78level0_row1\" class=\"row_heading level0 row1\" >2</th>\n",
       "                        <td id=\"T_f8021fde_7cb9_11ed_9447_1e0062143c78row1_col0\" class=\"data row1 col0\" >1#</td>\n",
       "            </tr>\n",
       "            <tr>\n",
       "                        <th id=\"T_f8021fde_7cb9_11ed_9447_1e0062143c78level0_row2\" class=\"row_heading level0 row2\" >3</th>\n",
       "                        <td id=\"T_f8021fde_7cb9_11ed_9447_1e0062143c78row2_col0\" class=\"data row2 col0\" >##</td>\n",
       "            </tr>\n",
       "    </tbody></table>"
      ],
      "text/plain": [
       "<pandas.io.formats.style.Styler at 0x7fe7597ae0a0>"
      ]
     },
     "metadata": {},
     "output_type": "display_data"
    },
    {
     "name": "stdout",
     "output_type": "stream",
     "text": [
      "\n",
      "The formal snapshot is 1111111111111##111#11##111###1#1###\n",
      "\n",
      "Step 29:\n",
      "Execute instruction 13: cases on R3.\n",
      "The first symbol in that register is #, so we delete that symbol and go forward 3 instructions.\n"
     ]
    },
    {
     "data": {
      "text/html": [
       "<style  type=\"text/css\" >\n",
       "#T_f802ee96_7cb9_11ed_9447_1e0062143c78row0_col0,#T_f802ee96_7cb9_11ed_9447_1e0062143c78row1_col0,#T_f802ee96_7cb9_11ed_9447_1e0062143c78row2_col0{\n",
       "            background-color:  #FFFFCC;\n",
       "            text-align:  left;\n",
       "        }</style><table id=\"T_f802ee96_7cb9_11ed_9447_1e0062143c78\" ><thead>    <tr>        <th class=\"blank level0\" ></th>        <th class=\"col_heading level0 col0\" >contents</th>    </tr></thead><tbody>\n",
       "                <tr>\n",
       "                        <th id=\"T_f802ee96_7cb9_11ed_9447_1e0062143c78level0_row0\" class=\"row_heading level0 row0\" >1</th>\n",
       "                        <td id=\"T_f802ee96_7cb9_11ed_9447_1e0062143c78row0_col0\" class=\"data row0 col0\" >1#1</td>\n",
       "            </tr>\n",
       "            <tr>\n",
       "                        <th id=\"T_f802ee96_7cb9_11ed_9447_1e0062143c78level0_row1\" class=\"row_heading level0 row1\" >2</th>\n",
       "                        <td id=\"T_f802ee96_7cb9_11ed_9447_1e0062143c78row1_col0\" class=\"data row1 col0\" >1#</td>\n",
       "            </tr>\n",
       "            <tr>\n",
       "                        <th id=\"T_f802ee96_7cb9_11ed_9447_1e0062143c78level0_row2\" class=\"row_heading level0 row2\" >3</th>\n",
       "                        <td id=\"T_f802ee96_7cb9_11ed_9447_1e0062143c78row2_col0\" class=\"data row2 col0\" >#</td>\n",
       "            </tr>\n",
       "    </tbody></table>"
      ],
      "text/plain": [
       "<pandas.io.formats.style.Styler at 0x7fe75a576e80>"
      ]
     },
     "metadata": {},
     "output_type": "display_data"
    },
    {
     "name": "stdout",
     "output_type": "stream",
     "text": [
      "\n",
      "The formal snapshot is 1111111111111111##111#11##111###1###\n",
      "\n",
      "Step 30:\n",
      "Execute instruction 16: add # to R1.\n"
     ]
    },
    {
     "data": {
      "text/html": [
       "<style  type=\"text/css\" >\n",
       "#T_f803a52a_7cb9_11ed_9447_1e0062143c78row0_col0,#T_f803a52a_7cb9_11ed_9447_1e0062143c78row1_col0,#T_f803a52a_7cb9_11ed_9447_1e0062143c78row2_col0{\n",
       "            background-color:  #FFFFCC;\n",
       "            text-align:  left;\n",
       "        }</style><table id=\"T_f803a52a_7cb9_11ed_9447_1e0062143c78\" ><thead>    <tr>        <th class=\"blank level0\" ></th>        <th class=\"col_heading level0 col0\" >contents</th>    </tr></thead><tbody>\n",
       "                <tr>\n",
       "                        <th id=\"T_f803a52a_7cb9_11ed_9447_1e0062143c78level0_row0\" class=\"row_heading level0 row0\" >1</th>\n",
       "                        <td id=\"T_f803a52a_7cb9_11ed_9447_1e0062143c78row0_col0\" class=\"data row0 col0\" >1#1#</td>\n",
       "            </tr>\n",
       "            <tr>\n",
       "                        <th id=\"T_f803a52a_7cb9_11ed_9447_1e0062143c78level0_row1\" class=\"row_heading level0 row1\" >2</th>\n",
       "                        <td id=\"T_f803a52a_7cb9_11ed_9447_1e0062143c78row1_col0\" class=\"data row1 col0\" >1#</td>\n",
       "            </tr>\n",
       "            <tr>\n",
       "                        <th id=\"T_f803a52a_7cb9_11ed_9447_1e0062143c78level0_row2\" class=\"row_heading level0 row2\" >3</th>\n",
       "                        <td id=\"T_f803a52a_7cb9_11ed_9447_1e0062143c78row2_col0\" class=\"data row2 col0\" >#</td>\n",
       "            </tr>\n",
       "    </tbody></table>"
      ],
      "text/plain": [
       "<pandas.io.formats.style.Styler at 0x7fe75a5760a0>"
      ]
     },
     "metadata": {},
     "output_type": "display_data"
    },
    {
     "name": "stdout",
     "output_type": "stream",
     "text": [
      "\n",
      "The formal snapshot is 11111111111111111##111#111###111###1###\n",
      "\n",
      "Step 31:\n",
      "Execute instruction 17: go backward 4 to instruction 13.\n"
     ]
    },
    {
     "data": {
      "text/html": [
       "<style  type=\"text/css\" >\n",
       "#T_f8045c0e_7cb9_11ed_9447_1e0062143c78row0_col0,#T_f8045c0e_7cb9_11ed_9447_1e0062143c78row1_col0,#T_f8045c0e_7cb9_11ed_9447_1e0062143c78row2_col0{\n",
       "            background-color:  #FFFFCC;\n",
       "            text-align:  left;\n",
       "        }</style><table id=\"T_f8045c0e_7cb9_11ed_9447_1e0062143c78\" ><thead>    <tr>        <th class=\"blank level0\" ></th>        <th class=\"col_heading level0 col0\" >contents</th>    </tr></thead><tbody>\n",
       "                <tr>\n",
       "                        <th id=\"T_f8045c0e_7cb9_11ed_9447_1e0062143c78level0_row0\" class=\"row_heading level0 row0\" >1</th>\n",
       "                        <td id=\"T_f8045c0e_7cb9_11ed_9447_1e0062143c78row0_col0\" class=\"data row0 col0\" >1#1#</td>\n",
       "            </tr>\n",
       "            <tr>\n",
       "                        <th id=\"T_f8045c0e_7cb9_11ed_9447_1e0062143c78level0_row1\" class=\"row_heading level0 row1\" >2</th>\n",
       "                        <td id=\"T_f8045c0e_7cb9_11ed_9447_1e0062143c78row1_col0\" class=\"data row1 col0\" >1#</td>\n",
       "            </tr>\n",
       "            <tr>\n",
       "                        <th id=\"T_f8045c0e_7cb9_11ed_9447_1e0062143c78level0_row2\" class=\"row_heading level0 row2\" >3</th>\n",
       "                        <td id=\"T_f8045c0e_7cb9_11ed_9447_1e0062143c78row2_col0\" class=\"data row2 col0\" >#</td>\n",
       "            </tr>\n",
       "    </tbody></table>"
      ],
      "text/plain": [
       "<pandas.io.formats.style.Styler at 0x7fe75a576af0>"
      ]
     },
     "metadata": {},
     "output_type": "display_data"
    },
    {
     "name": "stdout",
     "output_type": "stream",
     "text": [
      "\n",
      "The formal snapshot is 1111111111111##111#111###111###1###\n",
      "\n",
      "Step 32:\n",
      "Execute instruction 13: cases on R3.\n",
      "The first symbol in that register is #, so we delete that symbol and go forward 3 instructions.\n"
     ]
    },
    {
     "data": {
      "text/html": [
       "<style  type=\"text/css\" >\n",
       "#T_f805196e_7cb9_11ed_9447_1e0062143c78row0_col0,#T_f805196e_7cb9_11ed_9447_1e0062143c78row1_col0,#T_f805196e_7cb9_11ed_9447_1e0062143c78row2_col0{\n",
       "            background-color:  #FFFFCC;\n",
       "            text-align:  left;\n",
       "        }</style><table id=\"T_f805196e_7cb9_11ed_9447_1e0062143c78\" ><thead>    <tr>        <th class=\"blank level0\" ></th>        <th class=\"col_heading level0 col0\" >contents</th>    </tr></thead><tbody>\n",
       "                <tr>\n",
       "                        <th id=\"T_f805196e_7cb9_11ed_9447_1e0062143c78level0_row0\" class=\"row_heading level0 row0\" >1</th>\n",
       "                        <td id=\"T_f805196e_7cb9_11ed_9447_1e0062143c78row0_col0\" class=\"data row0 col0\" >1#1#</td>\n",
       "            </tr>\n",
       "            <tr>\n",
       "                        <th id=\"T_f805196e_7cb9_11ed_9447_1e0062143c78level0_row1\" class=\"row_heading level0 row1\" >2</th>\n",
       "                        <td id=\"T_f805196e_7cb9_11ed_9447_1e0062143c78row1_col0\" class=\"data row1 col0\" >1#</td>\n",
       "            </tr>\n",
       "            <tr>\n",
       "                        <th id=\"T_f805196e_7cb9_11ed_9447_1e0062143c78level0_row2\" class=\"row_heading level0 row2\" >3</th>\n",
       "                        <td id=\"T_f805196e_7cb9_11ed_9447_1e0062143c78row2_col0\" class=\"data row2 col0\" ></td>\n",
       "            </tr>\n",
       "    </tbody></table>"
      ],
      "text/plain": [
       "<pandas.io.formats.style.Styler at 0x7fe75a2a89a0>"
      ]
     },
     "metadata": {},
     "output_type": "display_data"
    },
    {
     "name": "stdout",
     "output_type": "stream",
     "text": [
      "\n",
      "The formal snapshot is 1111111111111111##111#111###111#####\n",
      "\n",
      "Step 33:\n",
      "Execute instruction 16: add # to R1.\n"
     ]
    },
    {
     "data": {
      "text/html": [
       "<style  type=\"text/css\" >\n",
       "#T_f805ba18_7cb9_11ed_9447_1e0062143c78row0_col0,#T_f805ba18_7cb9_11ed_9447_1e0062143c78row1_col0,#T_f805ba18_7cb9_11ed_9447_1e0062143c78row2_col0{\n",
       "            background-color:  #FFFFCC;\n",
       "            text-align:  left;\n",
       "        }</style><table id=\"T_f805ba18_7cb9_11ed_9447_1e0062143c78\" ><thead>    <tr>        <th class=\"blank level0\" ></th>        <th class=\"col_heading level0 col0\" >contents</th>    </tr></thead><tbody>\n",
       "                <tr>\n",
       "                        <th id=\"T_f805ba18_7cb9_11ed_9447_1e0062143c78level0_row0\" class=\"row_heading level0 row0\" >1</th>\n",
       "                        <td id=\"T_f805ba18_7cb9_11ed_9447_1e0062143c78row0_col0\" class=\"data row0 col0\" >1#1##</td>\n",
       "            </tr>\n",
       "            <tr>\n",
       "                        <th id=\"T_f805ba18_7cb9_11ed_9447_1e0062143c78level0_row1\" class=\"row_heading level0 row1\" >2</th>\n",
       "                        <td id=\"T_f805ba18_7cb9_11ed_9447_1e0062143c78row1_col0\" class=\"data row1 col0\" >1#</td>\n",
       "            </tr>\n",
       "            <tr>\n",
       "                        <th id=\"T_f805ba18_7cb9_11ed_9447_1e0062143c78level0_row2\" class=\"row_heading level0 row2\" >3</th>\n",
       "                        <td id=\"T_f805ba18_7cb9_11ed_9447_1e0062143c78row2_col0\" class=\"data row2 col0\" ></td>\n",
       "            </tr>\n",
       "    </tbody></table>"
      ],
      "text/plain": [
       "<pandas.io.formats.style.Styler at 0x7fe75a576670>"
      ]
     },
     "metadata": {},
     "output_type": "display_data"
    },
    {
     "name": "stdout",
     "output_type": "stream",
     "text": [
      "\n",
      "The formal snapshot is 11111111111111111##111#111#1###111#####\n",
      "\n",
      "Step 34:\n",
      "Execute instruction 17: go backward 4 to instruction 13.\n"
     ]
    },
    {
     "data": {
      "text/html": [
       "<style  type=\"text/css\" >\n",
       "#T_f8064618_7cb9_11ed_9447_1e0062143c78row0_col0,#T_f8064618_7cb9_11ed_9447_1e0062143c78row1_col0,#T_f8064618_7cb9_11ed_9447_1e0062143c78row2_col0{\n",
       "            background-color:  #FFFFCC;\n",
       "            text-align:  left;\n",
       "        }</style><table id=\"T_f8064618_7cb9_11ed_9447_1e0062143c78\" ><thead>    <tr>        <th class=\"blank level0\" ></th>        <th class=\"col_heading level0 col0\" >contents</th>    </tr></thead><tbody>\n",
       "                <tr>\n",
       "                        <th id=\"T_f8064618_7cb9_11ed_9447_1e0062143c78level0_row0\" class=\"row_heading level0 row0\" >1</th>\n",
       "                        <td id=\"T_f8064618_7cb9_11ed_9447_1e0062143c78row0_col0\" class=\"data row0 col0\" >1#1##</td>\n",
       "            </tr>\n",
       "            <tr>\n",
       "                        <th id=\"T_f8064618_7cb9_11ed_9447_1e0062143c78level0_row1\" class=\"row_heading level0 row1\" >2</th>\n",
       "                        <td id=\"T_f8064618_7cb9_11ed_9447_1e0062143c78row1_col0\" class=\"data row1 col0\" >1#</td>\n",
       "            </tr>\n",
       "            <tr>\n",
       "                        <th id=\"T_f8064618_7cb9_11ed_9447_1e0062143c78level0_row2\" class=\"row_heading level0 row2\" >3</th>\n",
       "                        <td id=\"T_f8064618_7cb9_11ed_9447_1e0062143c78row2_col0\" class=\"data row2 col0\" ></td>\n",
       "            </tr>\n",
       "    </tbody></table>"
      ],
      "text/plain": [
       "<pandas.io.formats.style.Styler at 0x7fe75a567e20>"
      ]
     },
     "metadata": {},
     "output_type": "display_data"
    },
    {
     "name": "stdout",
     "output_type": "stream",
     "text": [
      "\n",
      "The formal snapshot is 1111111111111##111#111#1###111#####\n",
      "\n",
      "Step 35:\n",
      "Execute instruction 13: cases on R3.\n",
      "The register is empty, so we go ahead 1 instruction.\n"
     ]
    },
    {
     "data": {
      "text/html": [
       "<style  type=\"text/css\" >\n",
       "#T_f806fb80_7cb9_11ed_9447_1e0062143c78row0_col0,#T_f806fb80_7cb9_11ed_9447_1e0062143c78row1_col0,#T_f806fb80_7cb9_11ed_9447_1e0062143c78row2_col0{\n",
       "            background-color:  #FFFFCC;\n",
       "            text-align:  left;\n",
       "        }</style><table id=\"T_f806fb80_7cb9_11ed_9447_1e0062143c78\" ><thead>    <tr>        <th class=\"blank level0\" ></th>        <th class=\"col_heading level0 col0\" >contents</th>    </tr></thead><tbody>\n",
       "                <tr>\n",
       "                        <th id=\"T_f806fb80_7cb9_11ed_9447_1e0062143c78level0_row0\" class=\"row_heading level0 row0\" >1</th>\n",
       "                        <td id=\"T_f806fb80_7cb9_11ed_9447_1e0062143c78row0_col0\" class=\"data row0 col0\" >1#1##</td>\n",
       "            </tr>\n",
       "            <tr>\n",
       "                        <th id=\"T_f806fb80_7cb9_11ed_9447_1e0062143c78level0_row1\" class=\"row_heading level0 row1\" >2</th>\n",
       "                        <td id=\"T_f806fb80_7cb9_11ed_9447_1e0062143c78row1_col0\" class=\"data row1 col0\" >1#</td>\n",
       "            </tr>\n",
       "            <tr>\n",
       "                        <th id=\"T_f806fb80_7cb9_11ed_9447_1e0062143c78level0_row2\" class=\"row_heading level0 row2\" >3</th>\n",
       "                        <td id=\"T_f806fb80_7cb9_11ed_9447_1e0062143c78row2_col0\" class=\"data row2 col0\" ></td>\n",
       "            </tr>\n",
       "    </tbody></table>"
      ],
      "text/plain": [
       "<pandas.io.formats.style.Styler at 0x7fe7482ca1f0>"
      ]
     },
     "metadata": {},
     "output_type": "display_data"
    },
    {
     "name": "stdout",
     "output_type": "stream",
     "text": [
      "\n",
      "The formal snapshot is 11111111111111##111#111#1###111#####\n",
      "\n",
      "Step 36:\n",
      "Execute instruction 14: go forward 6 to instruction 20.\n"
     ]
    },
    {
     "data": {
      "text/html": [
       "<style  type=\"text/css\" >\n",
       "#T_f807acf6_7cb9_11ed_9447_1e0062143c78row0_col0,#T_f807acf6_7cb9_11ed_9447_1e0062143c78row1_col0,#T_f807acf6_7cb9_11ed_9447_1e0062143c78row2_col0{\n",
       "            background-color:  #FFFFCC;\n",
       "            text-align:  left;\n",
       "        }</style><table id=\"T_f807acf6_7cb9_11ed_9447_1e0062143c78\" ><thead>    <tr>        <th class=\"blank level0\" ></th>        <th class=\"col_heading level0 col0\" >contents</th>    </tr></thead><tbody>\n",
       "                <tr>\n",
       "                        <th id=\"T_f807acf6_7cb9_11ed_9447_1e0062143c78level0_row0\" class=\"row_heading level0 row0\" >1</th>\n",
       "                        <td id=\"T_f807acf6_7cb9_11ed_9447_1e0062143c78row0_col0\" class=\"data row0 col0\" >1#1##</td>\n",
       "            </tr>\n",
       "            <tr>\n",
       "                        <th id=\"T_f807acf6_7cb9_11ed_9447_1e0062143c78level0_row1\" class=\"row_heading level0 row1\" >2</th>\n",
       "                        <td id=\"T_f807acf6_7cb9_11ed_9447_1e0062143c78row1_col0\" class=\"data row1 col0\" >1#</td>\n",
       "            </tr>\n",
       "            <tr>\n",
       "                        <th id=\"T_f807acf6_7cb9_11ed_9447_1e0062143c78level0_row2\" class=\"row_heading level0 row2\" >3</th>\n",
       "                        <td id=\"T_f807acf6_7cb9_11ed_9447_1e0062143c78row2_col0\" class=\"data row2 col0\" ></td>\n",
       "            </tr>\n",
       "    </tbody></table>"
      ],
      "text/plain": [
       "<pandas.io.formats.style.Styler at 0x7fe728936730>"
      ]
     },
     "metadata": {},
     "output_type": "display_data"
    },
    {
     "name": "stdout",
     "output_type": "stream",
     "text": [
      "\n",
      "The formal snapshot is 11111111111111111111##111#111#1###111#####\n",
      "\n",
      "Step 37:\n",
      "Execute instruction 20: cases on R2.\n",
      "The first symbol in that register is 1, so we delete that symbol and go forward 2 instructions.\n"
     ]
    },
    {
     "data": {
      "text/html": [
       "<style  type=\"text/css\" >\n",
       "#T_f8088d42_7cb9_11ed_9447_1e0062143c78row0_col0,#T_f8088d42_7cb9_11ed_9447_1e0062143c78row1_col0,#T_f8088d42_7cb9_11ed_9447_1e0062143c78row2_col0{\n",
       "            background-color:  #FFFFCC;\n",
       "            text-align:  left;\n",
       "        }</style><table id=\"T_f8088d42_7cb9_11ed_9447_1e0062143c78\" ><thead>    <tr>        <th class=\"blank level0\" ></th>        <th class=\"col_heading level0 col0\" >contents</th>    </tr></thead><tbody>\n",
       "                <tr>\n",
       "                        <th id=\"T_f8088d42_7cb9_11ed_9447_1e0062143c78level0_row0\" class=\"row_heading level0 row0\" >1</th>\n",
       "                        <td id=\"T_f8088d42_7cb9_11ed_9447_1e0062143c78row0_col0\" class=\"data row0 col0\" >1#1##</td>\n",
       "            </tr>\n",
       "            <tr>\n",
       "                        <th id=\"T_f8088d42_7cb9_11ed_9447_1e0062143c78level0_row1\" class=\"row_heading level0 row1\" >2</th>\n",
       "                        <td id=\"T_f8088d42_7cb9_11ed_9447_1e0062143c78row1_col0\" class=\"data row1 col0\" >#</td>\n",
       "            </tr>\n",
       "            <tr>\n",
       "                        <th id=\"T_f8088d42_7cb9_11ed_9447_1e0062143c78level0_row2\" class=\"row_heading level0 row2\" >3</th>\n",
       "                        <td id=\"T_f8088d42_7cb9_11ed_9447_1e0062143c78row2_col0\" class=\"data row2 col0\" ></td>\n",
       "            </tr>\n",
       "    </tbody></table>"
      ],
      "text/plain": [
       "<pandas.io.formats.style.Styler at 0x7fe75972d790>"
      ]
     },
     "metadata": {},
     "output_type": "display_data"
    },
    {
     "name": "stdout",
     "output_type": "stream",
     "text": [
      "\n",
      "The formal snapshot is 1111111111111111111111##111#111#1###1#####\n",
      "\n",
      "Step 38:\n",
      "Execute instruction 22: go forward 3 to instruction 25.\n"
     ]
    },
    {
     "data": {
      "text/html": [
       "<style  type=\"text/css\" >\n",
       "#T_f80945ca_7cb9_11ed_9447_1e0062143c78row0_col0,#T_f80945ca_7cb9_11ed_9447_1e0062143c78row1_col0,#T_f80945ca_7cb9_11ed_9447_1e0062143c78row2_col0{\n",
       "            background-color:  #FFFFCC;\n",
       "            text-align:  left;\n",
       "        }</style><table id=\"T_f80945ca_7cb9_11ed_9447_1e0062143c78\" ><thead>    <tr>        <th class=\"blank level0\" ></th>        <th class=\"col_heading level0 col0\" >contents</th>    </tr></thead><tbody>\n",
       "                <tr>\n",
       "                        <th id=\"T_f80945ca_7cb9_11ed_9447_1e0062143c78level0_row0\" class=\"row_heading level0 row0\" >1</th>\n",
       "                        <td id=\"T_f80945ca_7cb9_11ed_9447_1e0062143c78row0_col0\" class=\"data row0 col0\" >1#1##</td>\n",
       "            </tr>\n",
       "            <tr>\n",
       "                        <th id=\"T_f80945ca_7cb9_11ed_9447_1e0062143c78level0_row1\" class=\"row_heading level0 row1\" >2</th>\n",
       "                        <td id=\"T_f80945ca_7cb9_11ed_9447_1e0062143c78row1_col0\" class=\"data row1 col0\" >#</td>\n",
       "            </tr>\n",
       "            <tr>\n",
       "                        <th id=\"T_f80945ca_7cb9_11ed_9447_1e0062143c78level0_row2\" class=\"row_heading level0 row2\" >3</th>\n",
       "                        <td id=\"T_f80945ca_7cb9_11ed_9447_1e0062143c78row2_col0\" class=\"data row2 col0\" ></td>\n",
       "            </tr>\n",
       "    </tbody></table>"
      ],
      "text/plain": [
       "<pandas.io.formats.style.Styler at 0x7fe75a56aa30>"
      ]
     },
     "metadata": {},
     "output_type": "display_data"
    },
    {
     "name": "stdout",
     "output_type": "stream",
     "text": [
      "\n",
      "The formal snapshot is 1111111111111111111111111##111#111#1###1#####\n",
      "\n",
      "Step 39:\n",
      "Execute instruction 25: add 1 to R1.\n"
     ]
    },
    {
     "data": {
      "text/html": [
       "<style  type=\"text/css\" >\n",
       "#T_f809fc18_7cb9_11ed_9447_1e0062143c78row0_col0,#T_f809fc18_7cb9_11ed_9447_1e0062143c78row1_col0,#T_f809fc18_7cb9_11ed_9447_1e0062143c78row2_col0{\n",
       "            background-color:  #FFFFCC;\n",
       "            text-align:  left;\n",
       "        }</style><table id=\"T_f809fc18_7cb9_11ed_9447_1e0062143c78\" ><thead>    <tr>        <th class=\"blank level0\" ></th>        <th class=\"col_heading level0 col0\" >contents</th>    </tr></thead><tbody>\n",
       "                <tr>\n",
       "                        <th id=\"T_f809fc18_7cb9_11ed_9447_1e0062143c78level0_row0\" class=\"row_heading level0 row0\" >1</th>\n",
       "                        <td id=\"T_f809fc18_7cb9_11ed_9447_1e0062143c78row0_col0\" class=\"data row0 col0\" >1#1##1</td>\n",
       "            </tr>\n",
       "            <tr>\n",
       "                        <th id=\"T_f809fc18_7cb9_11ed_9447_1e0062143c78level0_row1\" class=\"row_heading level0 row1\" >2</th>\n",
       "                        <td id=\"T_f809fc18_7cb9_11ed_9447_1e0062143c78row1_col0\" class=\"data row1 col0\" >#</td>\n",
       "            </tr>\n",
       "            <tr>\n",
       "                        <th id=\"T_f809fc18_7cb9_11ed_9447_1e0062143c78level0_row2\" class=\"row_heading level0 row2\" >3</th>\n",
       "                        <td id=\"T_f809fc18_7cb9_11ed_9447_1e0062143c78row2_col0\" class=\"data row2 col0\" ></td>\n",
       "            </tr>\n",
       "    </tbody></table>"
      ],
      "text/plain": [
       "<pandas.io.formats.style.Styler at 0x7fe728f8ddf0>"
      ]
     },
     "metadata": {},
     "output_type": "display_data"
    },
    {
     "name": "stdout",
     "output_type": "stream",
     "text": [
      "\n",
      "The formal snapshot is 11111111111111111111111111##111#111#1#11##1#####\n",
      "\n",
      "Step 40:\n",
      "Execute instruction 26: go backward 2 to instruction 24.\n"
     ]
    },
    {
     "data": {
      "text/html": [
       "<style  type=\"text/css\" >\n",
       "#T_f80ad0ca_7cb9_11ed_9447_1e0062143c78row0_col0,#T_f80ad0ca_7cb9_11ed_9447_1e0062143c78row1_col0,#T_f80ad0ca_7cb9_11ed_9447_1e0062143c78row2_col0{\n",
       "            background-color:  #FFFFCC;\n",
       "            text-align:  left;\n",
       "        }</style><table id=\"T_f80ad0ca_7cb9_11ed_9447_1e0062143c78\" ><thead>    <tr>        <th class=\"blank level0\" ></th>        <th class=\"col_heading level0 col0\" >contents</th>    </tr></thead><tbody>\n",
       "                <tr>\n",
       "                        <th id=\"T_f80ad0ca_7cb9_11ed_9447_1e0062143c78level0_row0\" class=\"row_heading level0 row0\" >1</th>\n",
       "                        <td id=\"T_f80ad0ca_7cb9_11ed_9447_1e0062143c78row0_col0\" class=\"data row0 col0\" >1#1##1</td>\n",
       "            </tr>\n",
       "            <tr>\n",
       "                        <th id=\"T_f80ad0ca_7cb9_11ed_9447_1e0062143c78level0_row1\" class=\"row_heading level0 row1\" >2</th>\n",
       "                        <td id=\"T_f80ad0ca_7cb9_11ed_9447_1e0062143c78row1_col0\" class=\"data row1 col0\" >#</td>\n",
       "            </tr>\n",
       "            <tr>\n",
       "                        <th id=\"T_f80ad0ca_7cb9_11ed_9447_1e0062143c78level0_row2\" class=\"row_heading level0 row2\" >3</th>\n",
       "                        <td id=\"T_f80ad0ca_7cb9_11ed_9447_1e0062143c78row2_col0\" class=\"data row2 col0\" ></td>\n",
       "            </tr>\n",
       "    </tbody></table>"
      ],
      "text/plain": [
       "<pandas.io.formats.style.Styler at 0x7fe75a576760>"
      ]
     },
     "metadata": {},
     "output_type": "display_data"
    },
    {
     "name": "stdout",
     "output_type": "stream",
     "text": [
      "\n",
      "The formal snapshot is 111111111111111111111111##111#111#1#11##1#####\n",
      "\n",
      "Step 41:\n",
      "Execute instruction 24: go backward 4 to instruction 20.\n"
     ]
    },
    {
     "data": {
      "text/html": [
       "<style  type=\"text/css\" >\n",
       "#T_f80b7e58_7cb9_11ed_9447_1e0062143c78row0_col0,#T_f80b7e58_7cb9_11ed_9447_1e0062143c78row1_col0,#T_f80b7e58_7cb9_11ed_9447_1e0062143c78row2_col0{\n",
       "            background-color:  #FFFFCC;\n",
       "            text-align:  left;\n",
       "        }</style><table id=\"T_f80b7e58_7cb9_11ed_9447_1e0062143c78\" ><thead>    <tr>        <th class=\"blank level0\" ></th>        <th class=\"col_heading level0 col0\" >contents</th>    </tr></thead><tbody>\n",
       "                <tr>\n",
       "                        <th id=\"T_f80b7e58_7cb9_11ed_9447_1e0062143c78level0_row0\" class=\"row_heading level0 row0\" >1</th>\n",
       "                        <td id=\"T_f80b7e58_7cb9_11ed_9447_1e0062143c78row0_col0\" class=\"data row0 col0\" >1#1##1</td>\n",
       "            </tr>\n",
       "            <tr>\n",
       "                        <th id=\"T_f80b7e58_7cb9_11ed_9447_1e0062143c78level0_row1\" class=\"row_heading level0 row1\" >2</th>\n",
       "                        <td id=\"T_f80b7e58_7cb9_11ed_9447_1e0062143c78row1_col0\" class=\"data row1 col0\" >#</td>\n",
       "            </tr>\n",
       "            <tr>\n",
       "                        <th id=\"T_f80b7e58_7cb9_11ed_9447_1e0062143c78level0_row2\" class=\"row_heading level0 row2\" >3</th>\n",
       "                        <td id=\"T_f80b7e58_7cb9_11ed_9447_1e0062143c78row2_col0\" class=\"data row2 col0\" ></td>\n",
       "            </tr>\n",
       "    </tbody></table>"
      ],
      "text/plain": [
       "<pandas.io.formats.style.Styler at 0x7fe75a576e50>"
      ]
     },
     "metadata": {},
     "output_type": "display_data"
    },
    {
     "name": "stdout",
     "output_type": "stream",
     "text": [
      "\n",
      "The formal snapshot is 11111111111111111111##111#111#1#11##1#####\n",
      "\n",
      "Step 42:\n",
      "Execute instruction 20: cases on R2.\n",
      "The first symbol in that register is #, so we delete that symbol and go forward 3 instructions.\n"
     ]
    },
    {
     "data": {
      "text/html": [
       "<style  type=\"text/css\" >\n",
       "#T_f80c3d84_7cb9_11ed_9447_1e0062143c78row0_col0,#T_f80c3d84_7cb9_11ed_9447_1e0062143c78row1_col0,#T_f80c3d84_7cb9_11ed_9447_1e0062143c78row2_col0{\n",
       "            background-color:  #FFFFCC;\n",
       "            text-align:  left;\n",
       "        }</style><table id=\"T_f80c3d84_7cb9_11ed_9447_1e0062143c78\" ><thead>    <tr>        <th class=\"blank level0\" ></th>        <th class=\"col_heading level0 col0\" >contents</th>    </tr></thead><tbody>\n",
       "                <tr>\n",
       "                        <th id=\"T_f80c3d84_7cb9_11ed_9447_1e0062143c78level0_row0\" class=\"row_heading level0 row0\" >1</th>\n",
       "                        <td id=\"T_f80c3d84_7cb9_11ed_9447_1e0062143c78row0_col0\" class=\"data row0 col0\" >1#1##1</td>\n",
       "            </tr>\n",
       "            <tr>\n",
       "                        <th id=\"T_f80c3d84_7cb9_11ed_9447_1e0062143c78level0_row1\" class=\"row_heading level0 row1\" >2</th>\n",
       "                        <td id=\"T_f80c3d84_7cb9_11ed_9447_1e0062143c78row1_col0\" class=\"data row1 col0\" ></td>\n",
       "            </tr>\n",
       "            <tr>\n",
       "                        <th id=\"T_f80c3d84_7cb9_11ed_9447_1e0062143c78level0_row2\" class=\"row_heading level0 row2\" >3</th>\n",
       "                        <td id=\"T_f80c3d84_7cb9_11ed_9447_1e0062143c78row2_col0\" class=\"data row2 col0\" ></td>\n",
       "            </tr>\n",
       "    </tbody></table>"
      ],
      "text/plain": [
       "<pandas.io.formats.style.Styler at 0x7fe75a576af0>"
      ]
     },
     "metadata": {},
     "output_type": "display_data"
    },
    {
     "name": "stdout",
     "output_type": "stream",
     "text": [
      "\n",
      "The formal snapshot is 11111111111111111111111##111#111#1#11######\n",
      "\n",
      "Step 43:\n",
      "Execute instruction 23: add # to R1.\n"
     ]
    },
    {
     "data": {
      "text/html": [
       "<style  type=\"text/css\" >\n",
       "#T_f80cdb5e_7cb9_11ed_9447_1e0062143c78row0_col0,#T_f80cdb5e_7cb9_11ed_9447_1e0062143c78row1_col0,#T_f80cdb5e_7cb9_11ed_9447_1e0062143c78row2_col0{\n",
       "            background-color:  #FFFFCC;\n",
       "            text-align:  left;\n",
       "        }</style><table id=\"T_f80cdb5e_7cb9_11ed_9447_1e0062143c78\" ><thead>    <tr>        <th class=\"blank level0\" ></th>        <th class=\"col_heading level0 col0\" >contents</th>    </tr></thead><tbody>\n",
       "                <tr>\n",
       "                        <th id=\"T_f80cdb5e_7cb9_11ed_9447_1e0062143c78level0_row0\" class=\"row_heading level0 row0\" >1</th>\n",
       "                        <td id=\"T_f80cdb5e_7cb9_11ed_9447_1e0062143c78row0_col0\" class=\"data row0 col0\" >1#1##1#</td>\n",
       "            </tr>\n",
       "            <tr>\n",
       "                        <th id=\"T_f80cdb5e_7cb9_11ed_9447_1e0062143c78level0_row1\" class=\"row_heading level0 row1\" >2</th>\n",
       "                        <td id=\"T_f80cdb5e_7cb9_11ed_9447_1e0062143c78row1_col0\" class=\"data row1 col0\" ></td>\n",
       "            </tr>\n",
       "            <tr>\n",
       "                        <th id=\"T_f80cdb5e_7cb9_11ed_9447_1e0062143c78level0_row2\" class=\"row_heading level0 row2\" >3</th>\n",
       "                        <td id=\"T_f80cdb5e_7cb9_11ed_9447_1e0062143c78row2_col0\" class=\"data row2 col0\" ></td>\n",
       "            </tr>\n",
       "    </tbody></table>"
      ],
      "text/plain": [
       "<pandas.io.formats.style.Styler at 0x7fe75a2a8df0>"
      ]
     },
     "metadata": {},
     "output_type": "display_data"
    },
    {
     "name": "stdout",
     "output_type": "stream",
     "text": [
      "\n",
      "The formal snapshot is 111111111111111111111111##111#111#1#111#######\n",
      "\n",
      "Step 44:\n",
      "Execute instruction 24: go backward 4 to instruction 20.\n"
     ]
    },
    {
     "data": {
      "text/html": [
       "<style  type=\"text/css\" >\n",
       "#T_f80d585e_7cb9_11ed_9447_1e0062143c78row0_col0,#T_f80d585e_7cb9_11ed_9447_1e0062143c78row1_col0,#T_f80d585e_7cb9_11ed_9447_1e0062143c78row2_col0{\n",
       "            background-color:  #FFFFCC;\n",
       "            text-align:  left;\n",
       "        }</style><table id=\"T_f80d585e_7cb9_11ed_9447_1e0062143c78\" ><thead>    <tr>        <th class=\"blank level0\" ></th>        <th class=\"col_heading level0 col0\" >contents</th>    </tr></thead><tbody>\n",
       "                <tr>\n",
       "                        <th id=\"T_f80d585e_7cb9_11ed_9447_1e0062143c78level0_row0\" class=\"row_heading level0 row0\" >1</th>\n",
       "                        <td id=\"T_f80d585e_7cb9_11ed_9447_1e0062143c78row0_col0\" class=\"data row0 col0\" >1#1##1#</td>\n",
       "            </tr>\n",
       "            <tr>\n",
       "                        <th id=\"T_f80d585e_7cb9_11ed_9447_1e0062143c78level0_row1\" class=\"row_heading level0 row1\" >2</th>\n",
       "                        <td id=\"T_f80d585e_7cb9_11ed_9447_1e0062143c78row1_col0\" class=\"data row1 col0\" ></td>\n",
       "            </tr>\n",
       "            <tr>\n",
       "                        <th id=\"T_f80d585e_7cb9_11ed_9447_1e0062143c78level0_row2\" class=\"row_heading level0 row2\" >3</th>\n",
       "                        <td id=\"T_f80d585e_7cb9_11ed_9447_1e0062143c78row2_col0\" class=\"data row2 col0\" ></td>\n",
       "            </tr>\n",
       "    </tbody></table>"
      ],
      "text/plain": [
       "<pandas.io.formats.style.Styler at 0x7fe75a576d30>"
      ]
     },
     "metadata": {},
     "output_type": "display_data"
    },
    {
     "name": "stdout",
     "output_type": "stream",
     "text": [
      "\n",
      "The formal snapshot is 11111111111111111111##111#111#1#111#######\n",
      "\n",
      "Step 45:\n",
      "Execute instruction 20: cases on R2.\n",
      "The register is empty, so we go ahead 1 instruction.\n"
     ]
    },
    {
     "data": {
      "text/html": [
       "<style  type=\"text/css\" >\n",
       "#T_f80dd284_7cb9_11ed_9447_1e0062143c78row0_col0,#T_f80dd284_7cb9_11ed_9447_1e0062143c78row1_col0,#T_f80dd284_7cb9_11ed_9447_1e0062143c78row2_col0{\n",
       "            background-color:  #FFFFCC;\n",
       "            text-align:  left;\n",
       "        }</style><table id=\"T_f80dd284_7cb9_11ed_9447_1e0062143c78\" ><thead>    <tr>        <th class=\"blank level0\" ></th>        <th class=\"col_heading level0 col0\" >contents</th>    </tr></thead><tbody>\n",
       "                <tr>\n",
       "                        <th id=\"T_f80dd284_7cb9_11ed_9447_1e0062143c78level0_row0\" class=\"row_heading level0 row0\" >1</th>\n",
       "                        <td id=\"T_f80dd284_7cb9_11ed_9447_1e0062143c78row0_col0\" class=\"data row0 col0\" >1#1##1#</td>\n",
       "            </tr>\n",
       "            <tr>\n",
       "                        <th id=\"T_f80dd284_7cb9_11ed_9447_1e0062143c78level0_row1\" class=\"row_heading level0 row1\" >2</th>\n",
       "                        <td id=\"T_f80dd284_7cb9_11ed_9447_1e0062143c78row1_col0\" class=\"data row1 col0\" ></td>\n",
       "            </tr>\n",
       "            <tr>\n",
       "                        <th id=\"T_f80dd284_7cb9_11ed_9447_1e0062143c78level0_row2\" class=\"row_heading level0 row2\" >3</th>\n",
       "                        <td id=\"T_f80dd284_7cb9_11ed_9447_1e0062143c78row2_col0\" class=\"data row2 col0\" ></td>\n",
       "            </tr>\n",
       "    </tbody></table>"
      ],
      "text/plain": [
       "<pandas.io.formats.style.Styler at 0x7fe728f8d7c0>"
      ]
     },
     "metadata": {},
     "output_type": "display_data"
    },
    {
     "name": "stdout",
     "output_type": "stream",
     "text": [
      "\n",
      "The formal snapshot is 111111111111111111111##111#111#1#111#######\n",
      "\n",
      "Step 46:\n",
      "Execute instruction 21: go forward 6 to instruction 27.\n",
      "The computation then halts properly because the control is just below the last line of the program,\n",
      "and because all registers other than R1 are empty.\n",
      "\n"
     ]
    },
    {
     "data": {
      "text/html": [
       "<style  type=\"text/css\" >\n",
       "#T_f80e4692_7cb9_11ed_9447_1e0062143c78row0_col0,#T_f80e4692_7cb9_11ed_9447_1e0062143c78row1_col0,#T_f80e4692_7cb9_11ed_9447_1e0062143c78row2_col0{\n",
       "            background-color:  #FFFFCC;\n",
       "            text-align:  left;\n",
       "        }</style><table id=\"T_f80e4692_7cb9_11ed_9447_1e0062143c78\" ><thead>    <tr>        <th class=\"blank level0\" ></th>        <th class=\"col_heading level0 col0\" >contents</th>    </tr></thead><tbody>\n",
       "                <tr>\n",
       "                        <th id=\"T_f80e4692_7cb9_11ed_9447_1e0062143c78level0_row0\" class=\"row_heading level0 row0\" >1</th>\n",
       "                        <td id=\"T_f80e4692_7cb9_11ed_9447_1e0062143c78row0_col0\" class=\"data row0 col0\" >1#1##1#</td>\n",
       "            </tr>\n",
       "            <tr>\n",
       "                        <th id=\"T_f80e4692_7cb9_11ed_9447_1e0062143c78level0_row1\" class=\"row_heading level0 row1\" >2</th>\n",
       "                        <td id=\"T_f80e4692_7cb9_11ed_9447_1e0062143c78row1_col0\" class=\"data row1 col0\" ></td>\n",
       "            </tr>\n",
       "            <tr>\n",
       "                        <th id=\"T_f80e4692_7cb9_11ed_9447_1e0062143c78level0_row2\" class=\"row_heading level0 row2\" >3</th>\n",
       "                        <td id=\"T_f80e4692_7cb9_11ed_9447_1e0062143c78row2_col0\" class=\"data row2 col0\" ></td>\n",
       "            </tr>\n",
       "    </tbody></table>"
      ],
      "text/plain": [
       "<pandas.io.formats.style.Styler at 0x7fe728f758e0>"
      ]
     },
     "metadata": {},
     "output_type": "display_data"
    },
    {
     "name": "stdout",
     "output_type": "stream",
     "text": [
      "\n",
      "The formal snapshot is 111111111111111111111111111##111#111#1#111#######\n",
      "\n",
      "The trace is shown below:\n",
      "1##111########1111##1########1111111111##1########11111111111##1###11#####111111111111##1###11##11###1111111111111##1###11##111####111111111##1###11##111####11##1###11##111####11111####11##111####111111####111###111####1111111####111###111#11###11111111####111###111#111####111111111####111###111#111#1####11####111###111#111#1####111####111###111#111#1####11111111111111####111###111#111#1####1111111111111111####111###1#111#1####1111111111111111111####111###1#111#1####11111111111111111111##11##111###1#111#1####111111111111111111##11##111###1#111#1####11111111111111##11##111###1#111#1####11111111111111111##11##111###111#1####111111111111111111##111###111###111#1####11111111111111##111###111###111#1####1111111111111111##111###111###1#1####1111111111111111111##111###111###1#1####11111111111111111111##111#11##111###1#1####111111111111111111##111#11##111###1#1####11111111111111##111#11##111###1#1####11111111111111111##111#11##111###1####111111111111111111##111#111###111###1####11111111111111##111#111###111###1####11111111111111111##111#111###111######111111111111111111##111#111#1###111######11111111111111##111#111#1###111######111111111111111##111#111#1###111######111111111111111111111##111#111#1###111######11111111111111111111111##111#111#1###1######11111111111111111111111111##111#111#1###1######111111111111111111111111111##111#111#1#11##1######1111111111111111111111111##111#111#1#11##1######111111111111111111111##111#111#1#11##1######111111111111111111111111##111#111#1#11#######1111111111111111111111111##111#111#1#111########111111111111111111111##111#111#1#111########1111111111111111111111##111#111#1#111########1111111111111111111111111111##111#111#1#111########1\n",
      "\n",
      "The output is 1#1##1#.\n"
     ]
    }
   ],
   "source": [
    "#@title\n",
    "step_by_step_with_snapshots(diag,['1#'])\n"
   ]
  },
  {
   "cell_type": "markdown",
   "metadata": {
    "id": "5QITuuDvu0XA"
   },
   "source": [
    "### We also want to check that various relations leading up to the T predicate are computable.  This part is work in progress, with the results obtained so far shown below."
   ]
  },
  {
   "cell_type": "code",
   "execution_count": 5,
   "metadata": {
    "id": "6JN-Jns_GKjY"
   },
   "outputs": [],
   "source": [
    "def snapshot_check(w):  ## tells True or False if the input is a snapshot\n",
    "  index = w.index('##')\n",
    "  front = w[:index] ## divide the string by the first occurrence of ##\n",
    "  back = w[index:]\n",
    "  first_truth_value = all([(x == '1') for x in front]) \n",
    "  ## first_truth_value tells if all symbols in the front are 1\n",
    "  j = len(back)\n",
    "  indices_of_sharp = [(2*i) for i in range(j//2) if back[2*i]=='#']\n",
    "  second_truth_value = all([(back[1 + i] == '#') for i in indices_of_sharp])\n",
    "  ## the second truth value tells the separators ## are done correctly \n",
    "  return(first_truth_value and second_truth_value)\n",
    "\n",
    "def halting_snapshot_check(p,w):  \n",
    "  ## tells True or False if the input is a snapshot\n",
    "  # which suggests that the program p has halted properly\n",
    "  # So we check that p is a program, \n",
    "  # that the number at the front of w is 1 + (the number of instructions in p),\n",
    "  # and that in w, all registers after R1 are empty\n",
    "  parsed_p = parse(p)\n",
    "  N = len(parsed_p)\n",
    "  #print('N =' + str(N))\n",
    "  index = w.index('##')\n",
    "  front = w[:index] ## divide the string by the first occurrence of ##\n",
    "  #print('len front = '+ str(len(front)))\n",
    "  length_check = (N + 1 == len(front))\n",
    "  #print(length_check)\n",
    "  back = w[index:]\n",
    "  first_truth_value = all([(x == '1') for x in front]) \n",
    "  ## first_truth_value tells if all symbols in the front are 1\n",
    "  j = len(back)\n",
    "  indices_of_sharp = [(2*i) for i in range(j//2) if back[2*i]=='#']\n",
    "  second_truth_value = all([(back[1 + i] == '#') for i in indices_of_sharp])\n",
    "  ## the second truth value tells the separators ## are done correctly \n",
    "  w2 = back[2:]\n",
    "  #print('w2' +w2)\n",
    "  index2 =w2.index('##') \n",
    "  #print(index2)\n",
    "  back2 = w2[index2:]\n",
    "  #print(back2)\n",
    "  emptiness_check = all(x=='#' for x in back2)\n",
    "  #print(emptiness_check)\n",
    "  return(first_truth_value and second_truth_value and length_check and emptiness_check)\n"
   ]
  },
  {
   "cell_type": "code",
   "execution_count": 6,
   "metadata": {
    "colab": {
     "base_uri": "https://localhost:8080/"
    },
    "id": "0NVduL92jkIe",
    "outputId": "a59e7504-21aa-49d8-fd22-69171975bc8a"
   },
   "outputs": [
    {
     "data": {
      "text/plain": [
       "False"
      ]
     },
     "execution_count": 6,
     "metadata": {},
     "output_type": "execute_result"
    }
   ],
   "source": [
    "snapshot_check('111##1#11#1111##')"
   ]
  },
  {
   "cell_type": "code",
   "execution_count": 7,
   "metadata": {
    "colab": {
     "base_uri": "https://localhost:8080/"
    },
    "id": "gLf2HFceEzzd",
    "outputId": "a61c88fd-73ce-4cd1-cd6b-a3424e83fb2b"
   },
   "outputs": [
    {
     "name": "stdout",
     "output_type": "stream",
     "text": [
      "[2, 3, 4, 5]\n",
      "['1#', '1#']\n"
     ]
    },
    {
     "data": {
      "text/plain": [
       "False"
      ]
     },
     "execution_count": 7,
     "metadata": {},
     "output_type": "execute_result"
    }
   ],
   "source": [
    "print([0,1,2,3,4,5][2:])\n",
    "print(parse('1#1#'))\n",
    "halting_snapshot_check('1#1#','111##1#1#1111##1###')"
   ]
  },
  {
   "cell_type": "markdown",
   "metadata": {
    "id": "ZXrlT9nLazi2"
   },
   "source": [
    "<img src=\"https://github.com/lmoss/onesharp/blob/main/pianotrumpet.jpg?raw=1\" width=\"200\" height=\"160\">"
   ]
  },
  {
   "cell_type": "code",
   "execution_count": 8,
   "metadata": {
    "id": "1zSGcVNASYpU"
   },
   "outputs": [],
   "source": [
    "import math\n",
    "\n",
    "def log2int(x):\n",
    "  return(math.frexp(x)[1] - 1)\n",
    "\n",
    "def length(n):\n",
    "  return(log2int(n+1))\n",
    "\n",
    "def index(n,m): ## this is what I write as (n)_m\n",
    "  a = (n+1)%(2**(m+1))\n",
    "  b = 2**m\n",
    "  if a < b:\n",
    "    return(0)\n",
    "  else:\n",
    "    return(1)\n",
    "\n",
    "def convert_numeral_to_onesharp(x):\n",
    "   if x == 0:\n",
    "     return('#')\n",
    "   else:\n",
    "     return('1')    \n",
    "\n",
    "def s(n):\n",
    "  k = length(n)  \n",
    "  s = [convert_numeral_to_onesharp(index(n,k-i-1)) for i in range(k)] \n",
    "  t = \"\".join(s) \n",
    "  return(t)\n",
    "\n",
    "def s_inverse(w):\n",
    "  n = len(w)\n",
    "  a = (2**n - 1)\n",
    "  b = [(2** (n-i-1)) for i in range(n) if (w[i] == '1')]\n",
    "  c = sum(b)\n",
    "  d = c+a\n",
    "  return(d)\n"
   ]
  },
  {
   "cell_type": "markdown",
   "metadata": {
    "id": "hPrmCBl2O2Fq"
   },
   "source": [
    "We can check that ```s``` and ```s_inverse``` really are inverses."
   ]
  },
  {
   "cell_type": "code",
   "execution_count": 9,
   "metadata": {
    "colab": {
     "base_uri": "https://localhost:8080/",
     "height": 35
    },
    "id": "aZmEUM3bMfbB",
    "outputId": "c379f40b-07d2-4a8b-e6c2-c6b28db6e002"
   },
   "outputs": [
    {
     "data": {
      "text/plain": [
       "'##111##1'"
      ]
     },
     "execution_count": 9,
     "metadata": {},
     "output_type": "execute_result"
    }
   ],
   "source": [
    "s(s_inverse('##111##1'))"
   ]
  },
  {
   "cell_type": "code",
   "execution_count": 10,
   "metadata": {
    "colab": {
     "base_uri": "https://localhost:8080/"
    },
    "id": "V7ZdL2VlOwg-",
    "outputId": "8af90054-1abb-44b5-b0ea-d782db870723"
   },
   "outputs": [
    {
     "data": {
      "text/plain": [
       "4234"
      ]
     },
     "execution_count": 10,
     "metadata": {},
     "output_type": "execute_result"
    }
   ],
   "source": [
    "s_inverse(s(4234))"
   ]
  },
  {
   "cell_type": "code",
   "execution_count": 11,
   "metadata": {
    "id": "UCmVDOcndqdN"
   },
   "outputs": [
    {
     "name": "stdout",
     "output_type": "stream",
     "text": [
      "(0, '', 0)\n",
      "(1, '#', 1)\n",
      "(2, '1', 2)\n",
      "(3, '##', 3)\n",
      "(4, '#1', 4)\n",
      "(5, '1#', 5)\n",
      "(6, '11', 6)\n",
      "(7, '###', 7)\n",
      "(8, '##1', 8)\n",
      "(9, '#1#', 9)\n",
      "(10, '#11', 10)\n",
      "(11, '1##', 11)\n",
      "(12, '1#1', 12)\n",
      "(13, '11#', 13)\n",
      "(14, '111', 14)\n",
      "(15, '####', 15)\n",
      "(16, '###1', 16)\n",
      "(17, '##1#', 17)\n",
      "(18, '##11', 18)\n",
      "(19, '#1##', 19)\n",
      "(20, '#1#1', 20)\n",
      "(21, '#11#', 21)\n",
      "(22, '#111', 22)\n",
      "(23, '1###', 23)\n",
      "(24, '1##1', 24)\n",
      "(25, '1#1#', 25)\n",
      "(26, '1#11', 26)\n",
      "(27, '11##', 27)\n",
      "(28, '11#1', 28)\n",
      "(29, '111#', 29)\n",
      "(30, '1111', 30)\n",
      "(31, '#####', 31)\n",
      "(32, '####1', 32)\n",
      "(33, '###1#', 33)\n",
      "(34, '###11', 34)\n",
      "(35, '##1##', 35)\n",
      "(36, '##1#1', 36)\n",
      "(37, '##11#', 37)\n",
      "(38, '##111', 38)\n",
      "(39, '#1###', 39)\n",
      "(40, '#1##1', 40)\n",
      "(41, '#1#1#', 41)\n",
      "(42, '#1#11', 42)\n",
      "(43, '#11##', 43)\n",
      "(44, '#11#1', 44)\n",
      "(45, '#111#', 45)\n",
      "(46, '#1111', 46)\n",
      "(47, '1####', 47)\n",
      "(48, '1###1', 48)\n",
      "(49, '1##1#', 49)\n",
      "(50, '1##11', 50)\n",
      "(51, '1#1##', 51)\n",
      "(52, '1#1#1', 52)\n",
      "(53, '1#11#', 53)\n",
      "(54, '1#111', 54)\n",
      "(55, '11###', 55)\n",
      "(56, '11##1', 56)\n",
      "(57, '11#1#', 57)\n",
      "(58, '11#11', 58)\n",
      "(59, '111##', 59)\n",
      "(60, '111#1', 60)\n",
      "(61, '1111#', 61)\n",
      "(62, '11111', 62)\n",
      "(63, '######', 63)\n",
      "(64, '#####1', 64)\n",
      "(65, '####1#', 65)\n",
      "(66, '####11', 66)\n",
      "(67, '###1##', 67)\n",
      "(68, '###1#1', 68)\n",
      "(69, '###11#', 69)\n",
      "(70, '###111', 70)\n",
      "(71, '##1###', 71)\n",
      "(72, '##1##1', 72)\n",
      "(73, '##1#1#', 73)\n",
      "(74, '##1#11', 74)\n",
      "(75, '##11##', 75)\n",
      "(76, '##11#1', 76)\n",
      "(77, '##111#', 77)\n",
      "(78, '##1111', 78)\n",
      "(79, '#1####', 79)\n",
      "(80, '#1###1', 80)\n",
      "(81, '#1##1#', 81)\n",
      "(82, '#1##11', 82)\n",
      "(83, '#1#1##', 83)\n",
      "(84, '#1#1#1', 84)\n",
      "(85, '#1#11#', 85)\n",
      "(86, '#1#111', 86)\n",
      "(87, '#11###', 87)\n",
      "(88, '#11##1', 88)\n",
      "(89, '#11#1#', 89)\n",
      "(90, '#11#11', 90)\n",
      "(91, '#111##', 91)\n",
      "(92, '#111#1', 92)\n",
      "(93, '#1111#', 93)\n",
      "(94, '#11111', 94)\n",
      "(95, '1#####', 95)\n",
      "(96, '1####1', 96)\n",
      "(97, '1###1#', 97)\n",
      "(98, '1###11', 98)\n",
      "(99, '1##1##', 99)\n",
      "(100, '1##1#1', 100)\n",
      "(101, '1##11#', 101)\n",
      "(102, '1##111', 102)\n",
      "(103, '1#1###', 103)\n",
      "(104, '1#1##1', 104)\n",
      "(105, '1#1#1#', 105)\n",
      "(106, '1#1#11', 106)\n",
      "(107, '1#11##', 107)\n",
      "(108, '1#11#1', 108)\n",
      "(109, '1#111#', 109)\n",
      "(110, '1#1111', 110)\n",
      "(111, '11####', 111)\n",
      "(112, '11###1', 112)\n",
      "(113, '11##1#', 113)\n",
      "(114, '11##11', 114)\n",
      "(115, '11#1##', 115)\n",
      "(116, '11#1#1', 116)\n",
      "(117, '11#11#', 117)\n",
      "(118, '11#111', 118)\n",
      "(119, '111###', 119)\n",
      "(120, '111##1', 120)\n",
      "(121, '111#1#', 121)\n",
      "(122, '111#11', 122)\n",
      "(123, '1111##', 123)\n",
      "(124, '1111#1', 124)\n",
      "(125, '11111#', 125)\n",
      "(126, '111111', 126)\n",
      "(127, '#######', 127)\n",
      "(128, '######1', 128)\n",
      "(129, '#####1#', 129)\n",
      "(130, '#####11', 130)\n",
      "(131, '####1##', 131)\n",
      "(132, '####1#1', 132)\n",
      "(133, '####11#', 133)\n",
      "(134, '####111', 134)\n",
      "(135, '###1###', 135)\n",
      "(136, '###1##1', 136)\n",
      "(137, '###1#1#', 137)\n",
      "(138, '###1#11', 138)\n",
      "(139, '###11##', 139)\n",
      "(140, '###11#1', 140)\n",
      "(141, '###111#', 141)\n",
      "(142, '###1111', 142)\n",
      "(143, '##1####', 143)\n",
      "(144, '##1###1', 144)\n",
      "(145, '##1##1#', 145)\n",
      "(146, '##1##11', 146)"
     ]
    },
    {
     "name": "stdout",
     "output_type": "stream",
     "text": [
      "\n",
      "(147, '##1#1##', 147)\n",
      "(148, '##1#1#1', 148)\n",
      "(149, '##1#11#', 149)\n",
      "(150, '##1#111', 150)\n",
      "(151, '##11###', 151)\n",
      "(152, '##11##1', 152)\n",
      "(153, '##11#1#', 153)\n",
      "(154, '##11#11', 154)\n",
      "(155, '##111##', 155)\n",
      "(156, '##111#1', 156)\n",
      "(157, '##1111#', 157)\n",
      "(158, '##11111', 158)\n",
      "(159, '#1#####', 159)\n",
      "(160, '#1####1', 160)\n",
      "(161, '#1###1#', 161)\n",
      "(162, '#1###11', 162)\n",
      "(163, '#1##1##', 163)\n",
      "(164, '#1##1#1', 164)\n",
      "(165, '#1##11#', 165)\n",
      "(166, '#1##111', 166)\n",
      "(167, '#1#1###', 167)\n",
      "(168, '#1#1##1', 168)\n",
      "(169, '#1#1#1#', 169)\n",
      "(170, '#1#1#11', 170)\n",
      "(171, '#1#11##', 171)\n",
      "(172, '#1#11#1', 172)\n",
      "(173, '#1#111#', 173)\n",
      "(174, '#1#1111', 174)\n",
      "(175, '#11####', 175)\n",
      "(176, '#11###1', 176)\n",
      "(177, '#11##1#', 177)\n",
      "(178, '#11##11', 178)\n",
      "(179, '#11#1##', 179)\n",
      "(180, '#11#1#1', 180)\n",
      "(181, '#11#11#', 181)\n",
      "(182, '#11#111', 182)\n",
      "(183, '#111###', 183)\n",
      "(184, '#111##1', 184)\n",
      "(185, '#111#1#', 185)\n",
      "(186, '#111#11', 186)\n",
      "(187, '#1111##', 187)\n",
      "(188, '#1111#1', 188)\n",
      "(189, '#11111#', 189)\n",
      "(190, '#111111', 190)\n",
      "(191, '1######', 191)\n",
      "(192, '1#####1', 192)\n",
      "(193, '1####1#', 193)\n",
      "(194, '1####11', 194)\n",
      "(195, '1###1##', 195)\n",
      "(196, '1###1#1', 196)\n",
      "(197, '1###11#', 197)\n",
      "(198, '1###111', 198)\n",
      "(199, '1##1###', 199)\n",
      "(200, '1##1##1', 200)\n",
      "(201, '1##1#1#', 201)\n",
      "(202, '1##1#11', 202)\n",
      "(203, '1##11##', 203)\n",
      "(204, '1##11#1', 204)\n",
      "(205, '1##111#', 205)\n",
      "(206, '1##1111', 206)\n",
      "(207, '1#1####', 207)\n",
      "(208, '1#1###1', 208)\n",
      "(209, '1#1##1#', 209)\n",
      "(210, '1#1##11', 210)\n",
      "(211, '1#1#1##', 211)\n",
      "(212, '1#1#1#1', 212)\n",
      "(213, '1#1#11#', 213)\n",
      "(214, '1#1#111', 214)\n",
      "(215, '1#11###', 215)\n",
      "(216, '1#11##1', 216)\n",
      "(217, '1#11#1#', 217)\n",
      "(218, '1#11#11', 218)\n",
      "(219, '1#111##', 219)\n",
      "(220, '1#111#1', 220)\n",
      "(221, '1#1111#', 221)\n",
      "(222, '1#11111', 222)\n",
      "(223, '11#####', 223)\n",
      "(224, '11####1', 224)\n",
      "(225, '11###1#', 225)\n",
      "(226, '11###11', 226)\n",
      "(227, '11##1##', 227)\n",
      "(228, '11##1#1', 228)\n",
      "(229, '11##11#', 229)\n",
      "(230, '11##111', 230)\n",
      "(231, '11#1###', 231)\n",
      "(232, '11#1##1', 232)\n",
      "(233, '11#1#1#', 233)\n",
      "(234, '11#1#11', 234)\n",
      "(235, '11#11##', 235)\n",
      "(236, '11#11#1', 236)\n",
      "(237, '11#111#', 237)\n",
      "(238, '11#1111', 238)\n",
      "(239, '111####', 239)\n",
      "(240, '111###1', 240)\n",
      "(241, '111##1#', 241)\n",
      "(242, '111##11', 242)\n",
      "(243, '111#1##', 243)\n",
      "(244, '111#1#1', 244)\n",
      "(245, '111#11#', 245)\n",
      "(246, '111#111', 246)\n",
      "(247, '1111###', 247)\n",
      "(248, '1111##1', 248)\n",
      "(249, '1111#1#', 249)\n",
      "(250, '1111#11', 250)\n",
      "(251, '11111##', 251)\n",
      "(252, '11111#1', 252)\n",
      "(253, '111111#', 253)\n",
      "(254, '1111111', 254)\n",
      "(255, '########', 255)\n"
     ]
    }
   ],
   "source": [
    "for n in range(256):\n",
    "  print((n,s(n), s_inverse(s(n))))\n",
    " "
   ]
  },
  {
   "cell_type": "code",
   "execution_count": 12,
   "metadata": {
    "colab": {
     "base_uri": "https://localhost:8080/",
     "height": 35
    },
    "id": "qZnud4B1SZdp",
    "outputId": "4988e9ec-ff84-4f67-f19d-61f37863c656"
   },
   "outputs": [
    {
     "data": {
      "text/plain": [
       "'11###'"
      ]
     },
     "execution_count": 12,
     "metadata": {},
     "output_type": "execute_result"
    }
   ],
   "source": [
    "s(55)"
   ]
  },
  {
   "cell_type": "code",
   "execution_count": 13,
   "metadata": {
    "colab": {
     "base_uri": "https://localhost:8080/"
    },
    "id": "bWbLxZVmFSkS",
    "outputId": "ed7d6ad1-fd3c-40f9-e850-90de9450a605"
   },
   "outputs": [
    {
     "name": "stdout",
     "output_type": "stream",
     "text": [
      "['1#', '', '1']\n"
     ]
    }
   ],
   "source": [
    "a = ['1#','','1','','']\n",
    "first_index = a.index('')\n",
    "reversed_list = a[::-1]\n",
    "first_index_in_reversed = reversed_list.index('')\n",
    "last_index = len(a) -1 - first_index_in_reversed\n",
    "last_index\n",
    "print(a[:last_index-1])"
   ]
  },
  {
   "cell_type": "code",
   "execution_count": 14,
   "metadata": {
    "colab": {
     "base_uri": "https://localhost:8080/"
    },
    "id": "2_v48hnPqnnn",
    "outputId": "229605e1-8baa-401b-b433-39887e727e36"
   },
   "outputs": [
    {
     "name": "stdout",
     "output_type": "stream",
     "text": [
      "['1#1#', '11', '', '#', '']\n",
      "['', '#', '', '11', '1#1#']\n",
      "4\n",
      "['1#1#', '11', '', '#']\n"
     ]
    }
   ],
   "source": [
    "a = ['1#1#', '11', '','#','']\n",
    "print(a)\n",
    "first_index = a.index('')\n",
    "reversed_list = a[::-1]\n",
    "print(reversed_list)\n",
    "first_index_in_reversed = reversed_list.index('')\n",
    "last_index = len(a) -1 - first_index_in_reversed\n",
    "print(last_index)\n",
    "non_empty_registers = a[:last_index]\n",
    "print(non_empty_registers)"
   ]
  },
  {
   "cell_type": "code",
   "execution_count": null,
   "metadata": {
    "id": "-Y_xY3P3Repy"
   },
   "outputs": [],
   "source": []
  }
 ],
 "metadata": {
  "colab": {
   "authorship_tag": "ABX9TyOxbeII3I6wzQV2BfGqg31G",
   "include_colab_link": true,
   "provenance": []
  },
  "kernelspec": {
   "display_name": "Python 3",
   "name": "python3"
  },
  "language_info": {
   "codemirror_mode": {
    "name": "ipython",
    "version": 3
   },
   "file_extension": ".py",
   "mimetype": "text/x-python",
   "name": "python",
   "nbconvert_exporter": "python",
   "pygments_lexer": "ipython3",
   "version": "3.8.5"
  }
 },
 "nbformat": 4,
 "nbformat_minor": 0
}