{
 "cells": [
  {
   "cell_type": "markdown",
   "metadata": {
    "colab_type": "text",
    "id": "view-in-github"
   },
   "source": [
    "<a href=\"https://colab.research.google.com/github/lmoss/onesharp/blob/main/sanity.ipynb\" target=\"_parent\"><img src=\"https://colab.research.google.com/assets/colab-badge.svg\" alt=\"Open In Colab\"/></a>"
   ]
  },
  {
   "cell_type": "markdown",
   "metadata": {
    "id": "kG-CqHl2esSx"
   },
   "source": [
    "# Tools to help write programs"
   ]
  },
  {
   "cell_type": "markdown",
   "metadata": {
    "id": "LKMj7KdP0_vi"
   },
   "source": [
    "The main tool here is a Python program called Sanity.\n",
    "This tool makes it easier for someone to organize 1# programs and to write them without having to count lines for all of the forward- and backward-transfer statements.\n",
    "\n",
    "The concept and the name come from Jon Bowman, who once took my class and felt that construction 1# programs by hand was crazy, and that counting all the 1's in a long expression \"made his eyeballs bleed.\"\n",
    "\n",
    "To start, run the next code cell to install the 1# Python package in your Colab environment. Then run the second code cell to import the functions from the 1# package which are used in this notebook."
   ]
  },
  {
   "cell_type": "code",
   "execution_count": 1,
   "metadata": {
    "id": "i2pvp3dz9io_"
   },
   "outputs": [
    {
     "name": "stdout",
     "output_type": "stream",
     "text": [
      "Requirement already up-to-date: setuptools in /Users/lsm/Dropbox/invitationBook/lmoss.github.io/.venv/lib/python3.8/site-packages (65.6.3)\r\n"
     ]
    },
    {
     "name": "stdout",
     "output_type": "stream",
     "text": [
      "\u001b[33mWARNING: You are using pip version 20.1.1; however, version 22.3.1 is available.\r\n",
      "You should consider upgrading via the '/Users/lsm/Dropbox/invitationBook/lmoss.github.io/.venv/bin/python -m pip install --upgrade pip' command.\u001b[0m\r\n"
     ]
    },
    {
     "name": "stdout",
     "output_type": "stream",
     "text": [
      "Collecting git+https://github.com/lmoss/onesharp.git@main\r\n",
      "  Cloning https://github.com/lmoss/onesharp.git (to revision main) to /private/var/folders/kt/458_ttf57hvdmjpsh88m1fzh0000gp/T/pip-req-build-j27bhvbl\r\n",
      "  Running command git clone -q https://github.com/lmoss/onesharp.git /private/var/folders/kt/458_ttf57hvdmjpsh88m1fzh0000gp/T/pip-req-build-j27bhvbl\r\n"
     ]
    },
    {
     "name": "stdout",
     "output_type": "stream",
     "text": [
      "  Installing build dependencies ... \u001b[?25l-"
     ]
    },
    {
     "name": "stdout",
     "output_type": "stream",
     "text": [
      "\b \b\\"
     ]
    },
    {
     "name": "stdout",
     "output_type": "stream",
     "text": [
      "\b \b|"
     ]
    },
    {
     "name": "stdout",
     "output_type": "stream",
     "text": [
      "\b \bdone\r\n"
     ]
    },
    {
     "name": "stdout",
     "output_type": "stream",
     "text": [
      "\u001b[?25h  Getting requirements to build wheel ... \u001b[?25l-"
     ]
    },
    {
     "name": "stdout",
     "output_type": "stream",
     "text": [
      "\b \bdone\r\n"
     ]
    },
    {
     "name": "stdout",
     "output_type": "stream",
     "text": [
      "\u001b[?25h  Installing backend dependencies ... \u001b[?25l-"
     ]
    },
    {
     "name": "stdout",
     "output_type": "stream",
     "text": [
      "\b \b\\"
     ]
    },
    {
     "name": "stdout",
     "output_type": "stream",
     "text": [
      "\b \bdone\r\n"
     ]
    },
    {
     "name": "stdout",
     "output_type": "stream",
     "text": [
      "\u001b[?25h    Preparing wheel metadata ... \u001b[?25l-"
     ]
    },
    {
     "name": "stdout",
     "output_type": "stream",
     "text": [
      "\b \bdone\r\n",
      "\u001b[?25hRequirement already satisfied, skipping upgrade: numpy in /Users/lsm/Dropbox/invitationBook/lmoss.github.io/.venv/lib/python3.8/site-packages (from onesharp==0.0.0) (1.23.5)\r\n",
      "Requirement already satisfied, skipping upgrade: pandas in /Users/lsm/Dropbox/invitationBook/lmoss.github.io/.venv/lib/python3.8/site-packages (from onesharp==0.0.0) (1.5.2)\r\n",
      "Requirement already satisfied, skipping upgrade: IPython in /Users/lsm/Dropbox/invitationBook/lmoss.github.io/.venv/lib/python3.8/site-packages (from onesharp==0.0.0) (8.7.0)\r\n"
     ]
    },
    {
     "name": "stdout",
     "output_type": "stream",
     "text": [
      "Requirement already satisfied, skipping upgrade: pytz>=2020.1 in /Users/lsm/Dropbox/invitationBook/lmoss.github.io/.venv/lib/python3.8/site-packages (from pandas->onesharp==0.0.0) (2022.6)\r\n",
      "Requirement already satisfied, skipping upgrade: python-dateutil>=2.8.1 in /Users/lsm/Dropbox/invitationBook/lmoss.github.io/.venv/lib/python3.8/site-packages (from pandas->onesharp==0.0.0) (2.8.2)\r\n",
      "Requirement already satisfied, skipping upgrade: backcall in /Users/lsm/Dropbox/invitationBook/lmoss.github.io/.venv/lib/python3.8/site-packages (from IPython->onesharp==0.0.0) (0.2.0)\r\n",
      "Requirement already satisfied, skipping upgrade: decorator in /Users/lsm/Dropbox/invitationBook/lmoss.github.io/.venv/lib/python3.8/site-packages (from IPython->onesharp==0.0.0) (5.1.1)\r\n",
      "Requirement already satisfied, skipping upgrade: pygments>=2.4.0 in /Users/lsm/Dropbox/invitationBook/lmoss.github.io/.venv/lib/python3.8/site-packages (from IPython->onesharp==0.0.0) (2.13.0)\r\n",
      "Requirement already satisfied, skipping upgrade: jedi>=0.16 in /Users/lsm/Dropbox/invitationBook/lmoss.github.io/.venv/lib/python3.8/site-packages (from IPython->onesharp==0.0.0) (0.18.2)\r\n",
      "Requirement already satisfied, skipping upgrade: appnope; sys_platform == \"darwin\" in /Users/lsm/Dropbox/invitationBook/lmoss.github.io/.venv/lib/python3.8/site-packages (from IPython->onesharp==0.0.0) (0.1.3)\r\n"
     ]
    },
    {
     "name": "stdout",
     "output_type": "stream",
     "text": [
      "Requirement already satisfied, skipping upgrade: pickleshare in /Users/lsm/Dropbox/invitationBook/lmoss.github.io/.venv/lib/python3.8/site-packages (from IPython->onesharp==0.0.0) (0.7.5)\r\n",
      "Requirement already satisfied, skipping upgrade: prompt-toolkit<3.1.0,>=3.0.11 in /Users/lsm/Dropbox/invitationBook/lmoss.github.io/.venv/lib/python3.8/site-packages (from IPython->onesharp==0.0.0) (3.0.36)\r\n",
      "Requirement already satisfied, skipping upgrade: matplotlib-inline in /Users/lsm/Dropbox/invitationBook/lmoss.github.io/.venv/lib/python3.8/site-packages (from IPython->onesharp==0.0.0) (0.1.6)\r\n",
      "Requirement already satisfied, skipping upgrade: stack-data in /Users/lsm/Dropbox/invitationBook/lmoss.github.io/.venv/lib/python3.8/site-packages (from IPython->onesharp==0.0.0) (0.6.2)\r\n",
      "Requirement already satisfied, skipping upgrade: traitlets>=5 in /Users/lsm/Dropbox/invitationBook/lmoss.github.io/.venv/lib/python3.8/site-packages (from IPython->onesharp==0.0.0) (5.7.1)\r\n",
      "Requirement already satisfied, skipping upgrade: pexpect>4.3; sys_platform != \"win32\" in /Users/lsm/Dropbox/invitationBook/lmoss.github.io/.venv/lib/python3.8/site-packages (from IPython->onesharp==0.0.0) (4.8.0)\r\n",
      "Requirement already satisfied, skipping upgrade: six>=1.5 in /Users/lsm/Dropbox/invitationBook/lmoss.github.io/.venv/lib/python3.8/site-packages (from python-dateutil>=2.8.1->pandas->onesharp==0.0.0) (1.16.0)\r\n",
      "Requirement already satisfied, skipping upgrade: parso<0.9.0,>=0.8.0 in /Users/lsm/Dropbox/invitationBook/lmoss.github.io/.venv/lib/python3.8/site-packages (from jedi>=0.16->IPython->onesharp==0.0.0) (0.8.3)\r\n",
      "Requirement already satisfied, skipping upgrade: wcwidth in /Users/lsm/Dropbox/invitationBook/lmoss.github.io/.venv/lib/python3.8/site-packages (from prompt-toolkit<3.1.0,>=3.0.11->IPython->onesharp==0.0.0) (0.2.5)\r\n",
      "Requirement already satisfied, skipping upgrade: pure-eval in /Users/lsm/Dropbox/invitationBook/lmoss.github.io/.venv/lib/python3.8/site-packages (from stack-data->IPython->onesharp==0.0.0) (0.2.2)\r\n",
      "Requirement already satisfied, skipping upgrade: executing>=1.2.0 in /Users/lsm/Dropbox/invitationBook/lmoss.github.io/.venv/lib/python3.8/site-packages (from stack-data->IPython->onesharp==0.0.0) (1.2.0)\r\n",
      "Requirement already satisfied, skipping upgrade: asttokens>=2.1.0 in /Users/lsm/Dropbox/invitationBook/lmoss.github.io/.venv/lib/python3.8/site-packages (from stack-data->IPython->onesharp==0.0.0) (2.2.1)\r\n",
      "Requirement already satisfied, skipping upgrade: ptyprocess>=0.5 in /Users/lsm/Dropbox/invitationBook/lmoss.github.io/.venv/lib/python3.8/site-packages (from pexpect>4.3; sys_platform != \"win32\"->IPython->onesharp==0.0.0) (0.7.0)\r\n",
      "Building wheels for collected packages: onesharp\r\n"
     ]
    },
    {
     "name": "stdout",
     "output_type": "stream",
     "text": [
      "  Building wheel for onesharp (PEP 517) ... \u001b[?25l-"
     ]
    },
    {
     "name": "stdout",
     "output_type": "stream",
     "text": [
      "\b \bdone\r\n",
      "\u001b[?25h  Created wheel for onesharp: filename=onesharp-0.0.0-py3-none-any.whl size=4718 sha256=2c33ec26c368cbd02239fd5d68b6e49b898414b884dab5ba9008484c9747119e\r\n",
      "  Stored in directory: /private/var/folders/kt/458_ttf57hvdmjpsh88m1fzh0000gp/T/pip-ephem-wheel-cache-qyx88e71/wheels/cb/13/1a/64ec8142ccf1600c3b99118b5de1c9a0658745edd091e426e7\r\n",
      "Successfully built onesharp\r\n"
     ]
    },
    {
     "name": "stdout",
     "output_type": "stream",
     "text": [
      "Installing collected packages: onesharp\r\n"
     ]
    },
    {
     "name": "stdout",
     "output_type": "stream",
     "text": [
      "  Attempting uninstall: onesharp\r\n",
      "    Found existing installation: onesharp 0.0.0\r\n",
      "    Uninstalling onesharp-0.0.0:\r\n",
      "      Successfully uninstalled onesharp-0.0.0\r\n",
      "Successfully installed onesharp-0.0.0\r\n"
     ]
    },
    {
     "name": "stdout",
     "output_type": "stream",
     "text": [
      "\u001b[33mWARNING: You are using pip version 20.1.1; however, version 22.3.1 is available.\r\n",
      "You should consider upgrading via the '/Users/lsm/Dropbox/invitationBook/lmoss.github.io/.venv/bin/python -m pip install --upgrade pip' command.\u001b[0m\r\n"
     ]
    }
   ],
   "source": [
    "!python -m pip install -U setuptools\n",
    "!python -m pip install -U git+https://github.com/lmoss/onesharp.git@main"
   ]
  },
  {
   "cell_type": "code",
   "execution_count": 2,
   "metadata": {
    "id": "SwhANNcC-s2o"
   },
   "outputs": [],
   "source": [
    "from onesharp.interpreter.interpreter import onesharp\n",
    "from onesharp.tools.sanity import sanity\n",
    "from onesharp.tools.ones import ones\n",
    "from onesharp.programs.clear import clear\n",
    "from onesharp.programs.move import move\n",
    "from onesharp.programs.copy import copy\n",
    "from onesharp.programs.successor import successor\n",
    "from onesharp.programs.compare import compare\n",
    "from onesharp.programs.add import add"
   ]
  },
  {
   "cell_type": "markdown",
   "metadata": {
    "id": "ist0RI8rH78c"
   },
   "source": [
    "As a way to show what the tool does, we'll go through an example.  Let's write a program that takes a word \n",
    "\n",
    "$$ w = w_1 w_2 \\cdots w_n $$\n",
    "\n",
    "in R1 and reverses it.  Our program will work as follows.   It processes the letters in $w$ in order, using a loop. At the end of the $i$th iteration, we'll have $w_{i+1}\\cdots w_n$ in R1, and its prefix will be in R2 *backwards*: $w_{i}\\cdots w_2 w_1$.  \n",
    "\n",
    "The $i$th step itself copies $w_i$ into R3, and then, in order to put that symbol on the *front* of $w_{i}\\cdots w_2 w_1$, moves R2 on the end of R3, and then R3 back to R2.\n",
    "Once we have gone through the original $w$ in this fashion, R1 will be empty, and R2 will contain its reversal.  So we close by moving R2 back to the now-empty R1.\n",
    "\n",
    "With this in mind, have a look at the following array 'reverse_idea', itself containing 8 arrays."
   ]
  },
  {
   "cell_type": "code",
   "execution_count": 3,
   "metadata": {
    "id": "2FAj2rCASO0z"
   },
   "outputs": [],
   "source": [
    "reverse_idea = [\n",
    "    ['top', 'cases', 1, 'move_back', 'found_a_one', 'found_a_sharp'],\n",
    "    ['found_a_one','111#'],\n",
    "    ['goto', 'move_phase'],\n",
    "    ['found_a_sharp',  '111##'],\n",
    "    ['goto', 'move_phase'],\n",
    "    ['move_phase', move(2,3) + move(3,2)],\n",
    "    ['goto', 'top'],\n",
    "    ['move_back', move(2,1)]\n",
    "]"
   ]
  },
  {
   "cell_type": "markdown",
   "metadata": {
    "id": "EpHIPlFKzxIR"
   },
   "source": [
    "We have 8 *lines*. But a line is not the same as in instruction: lines 6 and 8 each contain move programs that are bigger than a single instruction.  Lines 2, 4 5, and 6 each begin with a *label*.  Labels are strings that other parts of the program could point to.  For example, the first line is a case statement 1#####, and it also contains the information that if R1 is empty, we should go to whichever line has the label 'move_phase'. (That would be the line named 'move_stuff_around'.) The first line also tells us that if R1 begins with 1 we should (delete is and) go to the line containing 'first-is_one'.   Note also that 'goto' is not a label.  \n",
    "\n",
    "Here is how these lines are used:\n",
    "\n"
   ]
  },
  {
   "cell_type": "code",
   "execution_count": 4,
   "metadata": {
    "colab": {
     "base_uri": "https://localhost:8080/",
     "height": 53
    },
    "id": "x64PWiqbzzv9",
    "outputId": "8ff1e323-826f-47f7-cd54-a0f10b47b366"
   },
   "outputs": [
    {
     "data": {
      "text/plain": [
       "'1#####1111111111111111111111###11###111###111#111###111##1###11#####11111 1###111###111##1111####111#11111 1####111#####11111 1###111###11##1111####11#11111 1####1111111111111111111111####11#####11111 1###111###1##1111####1#11111 1####'"
      ]
     },
     "execution_count": 4,
     "metadata": {},
     "output_type": "execute_result"
    }
   ],
   "source": [
    "rev = sanity(reverse_idea)\n",
    "# This run 'sanity' on 'reverse_idea', calling the result 'rev'.\n",
    "# We can refer to it in the rest of this notebook by 'rev'.\n",
    "# For example we can display our new program\n",
    "rev"
   ]
  },
  {
   "cell_type": "markdown",
   "metadata": {
    "id": "1FAIHp4R00ni"
   },
   "source": [
    "Now the program which we just constructed can be run, as usual:"
   ]
  },
  {
   "cell_type": "code",
   "execution_count": 5,
   "metadata": {
    "colab": {
     "base_uri": "https://localhost:8080/",
     "height": 35
    },
    "id": "OBRTkqiXxpCC",
    "outputId": "8618a18e-3421-47d9-d710-73df01e142a2"
   },
   "outputs": [
    {
     "data": {
      "text/plain": [
       "'####1'"
      ]
     },
     "execution_count": 5,
     "metadata": {},
     "output_type": "execute_result"
    }
   ],
   "source": [
    "onesharp(rev,['1####'])"
   ]
  },
  {
   "cell_type": "code",
   "execution_count": 6,
   "metadata": {
    "colab": {
     "base_uri": "https://localhost:8080/",
     "height": 35
    },
    "id": "WUTd0u_iG-A-",
    "outputId": "bdb5a36c-eaaa-4f6e-82f5-fe507e4bc11b"
   },
   "outputs": [
    {
     "data": {
      "text/plain": [
       "'1#####111###111###111###111###11111####111111####'"
      ]
     },
     "execution_count": 6,
     "metadata": {},
     "output_type": "execute_result"
    }
   ],
   "source": [
    "# Here is a way to write the program 'clear_1':\n",
    "sanity([\n",
    "    ['top', 'cases',1,'empty', 'one','hash'],\n",
    "    ['empty', 'goto', 'end'],\n",
    "    ['one','goto', 'top'],\n",
    "    ['hash', 'goto', 'top'],\n",
    "])"
   ]
  },
  {
   "cell_type": "markdown",
   "metadata": {
    "id": "5w8Ft8rkVzsV"
   },
   "source": [
    "Notice that in the last examples we had a line\n",
    "\n",
    "   ['empty', 'goto', 'end']\n",
    "\n",
    "In this, 'end' is not a label in any of the four lines.\n",
    "Indeed, 'end' is a special string in this program.   We can use 'end' in connection with 'goto', and also in one of the branches of a 'cases' statement.\n",
    "\n",
    "Other things to know: instead of (for example) 11#, we can write it in words as in the third line below.   Finally, all numbers in this program must be entered without quotes."
   ]
  },
  {
   "cell_type": "code",
   "execution_count": 7,
   "metadata": {
    "id": "hh-cJEpjVYQ7"
   },
   "outputs": [],
   "source": [
    "d = [\n",
    "    ['top','cases',1,'empty', 'one','hash'],\n",
    "    ['empty', 'goto', 'moveback'],\n",
    "    ['one', 'add1', 2],\n",
    "    ['111#111##'],\n",
    "    ['goto', 'top'],\n",
    "    ['hash', 'add#', 2],\n",
    "    ['111#111##111##'],\n",
    "    ['goto', 'top'],\n",
    "    ['moveback', move(3,1)+move(2,1)] \n",
    "]\n",
    "dg = sanity(d)"
   ]
  },
  {
   "cell_type": "code",
   "execution_count": 8,
   "metadata": {
    "colab": {
     "base_uri": "https://localhost:8080/",
     "height": 35
    },
    "id": "EMfyqkmNV5hm",
    "outputId": "e9061339-5c94-42fa-8a99-395bf074b80b"
   },
   "outputs": [
    {
     "data": {
      "text/plain": [
       "'1#1#1##11#'"
      ]
     },
     "execution_count": 8,
     "metadata": {},
     "output_type": "execute_result"
    }
   ],
   "source": [
    "onesharp(dg,['11#'])"
   ]
  },
  {
   "cell_type": "markdown",
   "metadata": {
    "id": "ZM8aBsOpbn6x"
   },
   "source": [
    "###Summary: here are some examples of 'lines' that the tool can handle:\n",
    "\n",
    "    ['top','cases',1,'empty', 'one_found','hash_found'],\n",
    "    ['empty', 'goto', 'moveback'],\n",
    "    ['one_found', 'add1', 2],\n",
    "    ['111#111##'],\n",
    "    ['goto', 'top'],\n",
    "    ['hash_found', 'add#', 2],\n",
    "    ['111#111##111##'],\n",
    "    ['goto', 'end'],\n",
    "    ['moveback', move(3,1)+move(2,1)]\n",
    "  \n",
    "A line can be snippet of 1# code surrounded by quotes.  It can also be a Python expression like \n",
    "\n",
    "   move(3,1) + move(2,1)\n",
    "   \n",
    "that denotes a 1# word.\n",
    "\n",
    "A line may begin with a *label* like 'top', or 'moveback' \n",
    "A label should not begin with '1' or '#, and it should not be one of the strings 'goto', 'end', 'add1', or 'add#'.\n",
    "\n",
    "*Labels are optional*, except a \"cases\" instruction\n",
    "must have a number and then three labels.  \n",
    "\n",
    "A line also can have the word 'goto' followed by a label or 'end'.\n",
    "\n",
    "A line can have 'add1' or 'add#' followed by a number (without quotes).\n",
    "\n",
    "Every label used inside a 'cases' or 'goto' statement must be the first label in some line.  Otherwise, the program will raise an error.\n"
   ]
  },
  {
   "cell_type": "markdown",
   "metadata": {
    "id": "CHiDS-cteu2Y"
   },
   "source": [
    "### Two more example Sane programs"
   ]
  },
  {
   "cell_type": "code",
   "execution_count": 9,
   "metadata": {
    "colab": {
     "base_uri": "https://localhost:8080/",
     "height": 35
    },
    "id": "l_A-morkdi8R",
    "outputId": "aab663f3-79f8-4f3c-d93f-142be6c384c7"
   },
   "outputs": [
    {
     "data": {
      "text/plain": [
       "'1111'"
      ]
     },
     "execution_count": 9,
     "metadata": {},
     "output_type": "execute_result"
    }
   ],
   "source": [
    "# This code cell contains a Sane program which multiplies the contents of\n",
    "#   registers one and two and stores the product back into register one\n",
    "\n",
    "sane_multiply = [\n",
    "  [move(1,4)],\n",
    "  ['1##'],\n",
    "  [copy(2,5,10)],\n",
    "  ['111##'],\n",
    "  [copy(3,6,10)],\n",
    "  [compare(2,3)],\n",
    "  ['multiply_loop', 'cases', 2, 'empty', 'one', 'sharp'],\n",
    "    ['empty', copy(4,7,10)],\n",
    "      [add(1,4,10)],\n",
    "      [move(7,4)],\n",
    "      [copy(5,2,10)],\n",
    "      [successor(6,10)],\n",
    "      [copy(6,3,10)],\n",
    "      [compare(2,3)],\n",
    "      ['goto', 'multiply_loop'],\n",
    "    ['one', 'goto', 'epilogue'],\n",
    "    ['sharp', 'goto', 'end'], # We shouldn't reach here because cmp shold never\n",
    "                              #   write sharp into register two\n",
    "  ['epilogue', clear(4)],\n",
    "    [clear(5)],\n",
    "    [clear(6)]\n",
    "]\n",
    "onesharp_multiply = sanity(sane_multiply)\n",
    "onesharp(onesharp_multiply, ['11', '1#1']) # 11*1#1 = 1111 <==> 3*5 = 15"
   ]
  },
  {
   "cell_type": "code",
   "execution_count": 10,
   "metadata": {
    "colab": {
     "base_uri": "https://localhost:8080/",
     "height": 35
    },
    "id": "gPm5rsTUdjfy",
    "outputId": "c804299f-8c27-4a58-f305-44267848a8eb"
   },
   "outputs": [
    {
     "data": {
      "text/plain": [
       "'11##1111'"
      ]
     },
     "execution_count": 10,
     "metadata": {},
     "output_type": "execute_result"
    }
   ],
   "source": [
    "# This code cell contains a Sane program which exponentiates the contents of\n",
    "#   register one to the power of the contents of register two and stores the\n",
    "#   result back into register one\n",
    "\n",
    "sane_exponentiate = [\n",
    "  [move(1,14)],\n",
    "  [ones(11)+'#'],\n",
    "  [move(2,12)],\n",
    "  [copy(12,15,20)],\n",
    "  [ones(13)+'##'],\n",
    "  [copy(13,16,20)],\n",
    "  [compare(12,13)],\n",
    "  ['exponentiate_loop', 'cases', 12, 'empty', 'one', 'sharp'],\n",
    "    ['empty', move(11,1)],\n",
    "      [copy(14,2,20)],\n",
    "      [onesharp_multiply],\n",
    "      [move(1,11)],\n",
    "      [copy(15,12,20)],\n",
    "      [successor(16,20)],\n",
    "      [copy(16,13,20)],\n",
    "      [compare(12,13)],\n",
    "      ['goto', 'exponentiate_loop'],\n",
    "    ['one', 'goto', 'epilogue'],\n",
    "    ['sharp', 'goto', 'end'], # We shouldn't reach here because cmp shold never\n",
    "                              #   write sharp into register two\n",
    "  ['epilogue', move(11,1)],\n",
    "    [clear(14)],\n",
    "    [clear(15)],\n",
    "    [clear(16)]\n",
    "]\n",
    "onesharp_exponentiate = sanity(sane_exponentiate)\n",
    "onesharp(onesharp_exponentiate, ['11', '1#1']) # 11^1#1 = 11##1111 <==> 3^5 = 243"
   ]
  },
  {
   "cell_type": "code",
   "execution_count": 11,
   "metadata": {
    "colab": {
     "base_uri": "https://localhost:8080/",
     "height": 35
    },
    "id": "a4H1SZi7XaTY",
    "outputId": "1d6afb43-19ec-485b-a4cc-884dae2c9bb5"
   },
   "outputs": [
    {
     "data": {
      "text/plain": [
       "'1####1#11##11'"
      ]
     },
     "execution_count": 11,
     "metadata": {},
     "output_type": "execute_result"
    }
   ],
   "source": [
    "onesharp(onesharp_exponentiate, ['11', '###1']) # 11^###1 = 1####1#11##11 <==> 3^8 = 6561\n",
    "# 6561 base 2 is 1100110100001"
   ]
  },
  {
   "cell_type": "code",
   "execution_count": 12,
   "metadata": {
    "id": "HCI5EAOgYAjt"
   },
   "outputs": [],
   "source": [
    "pre_pred = [\n",
    "   ['top', 'cases', 1, 'first_end', 'first_one', 'first_hash'],\n",
    "   ['first_one', 'cases', 1, 'hash_is_it', 'returnA','returnB'],\n",
    "   ['hash_is_it', '1##'],\n",
    "   ['goto', 'second_end'],\n",
    "   ['returnA', '11#11#'],\n",
    "   [move(1,2) + move(2,1)],\n",
    "   ['goto', 'end'], \n",
    "   ['returnB', '11#11##'],\n",
    "   [move(1,2) + move(2,1)],\n",
    "   ['goto', 'end'], \n",
    "   ['first_hash', 'cases', 1, 'first_end', 'hash_one', 'hash_hash'],\n",
    "   ['hash_one','11##'],\n",
    "   ['hash_hash','1###'],\n",
    "   ['second_end', '1111#'],\n",
    "   ['goto', 'end'],\n",
    "   ['first_end', '111#']\n",
    " ]"
   ]
  },
  {
   "cell_type": "code",
   "execution_count": 13,
   "metadata": {
    "colab": {
     "base_uri": "https://localhost:8080/",
     "height": 210
    },
    "id": "6rACbr-pbKGK",
    "outputId": "dd044cf6-3a4d-4337-b3bc-71ff558a78e9"
   },
   "outputs": [
    {
     "name": "stdout",
     "output_type": "stream",
     "text": [
      "This is undefined.\n",
      "The register contents at the end are shown below.\n"
     ]
    },
    {
     "data": {
      "text/html": [
       "<style  type=\"text/css\" >\n",
       "#T_3ac8a7d4_7cba_11ed_b63a_1e0062143c78row0_col0,#T_3ac8a7d4_7cba_11ed_b63a_1e0062143c78row1_col0,#T_3ac8a7d4_7cba_11ed_b63a_1e0062143c78row2_col0,#T_3ac8a7d4_7cba_11ed_b63a_1e0062143c78row3_col0{\n",
       "            background-color:  #FFFFCC;\n",
       "            text-align:  left;\n",
       "        }</style><table id=\"T_3ac8a7d4_7cba_11ed_b63a_1e0062143c78\" ><thead>    <tr>        <th class=\"blank level0\" ></th>        <th class=\"col_heading level0 col0\" >contents</th>    </tr></thead><tbody>\n",
       "                <tr>\n",
       "                        <th id=\"T_3ac8a7d4_7cba_11ed_b63a_1e0062143c78level0_row0\" class=\"row_heading level0 row0\" >1</th>\n",
       "                        <td id=\"T_3ac8a7d4_7cba_11ed_b63a_1e0062143c78row0_col0\" class=\"data row0 col0\" ></td>\n",
       "            </tr>\n",
       "            <tr>\n",
       "                        <th id=\"T_3ac8a7d4_7cba_11ed_b63a_1e0062143c78level0_row1\" class=\"row_heading level0 row1\" >2</th>\n",
       "                        <td id=\"T_3ac8a7d4_7cba_11ed_b63a_1e0062143c78row1_col0\" class=\"data row1 col0\" >#</td>\n",
       "            </tr>\n",
       "            <tr>\n",
       "                        <th id=\"T_3ac8a7d4_7cba_11ed_b63a_1e0062143c78level0_row2\" class=\"row_heading level0 row2\" >3</th>\n",
       "                        <td id=\"T_3ac8a7d4_7cba_11ed_b63a_1e0062143c78row2_col0\" class=\"data row2 col0\" ></td>\n",
       "            </tr>\n",
       "            <tr>\n",
       "                        <th id=\"T_3ac8a7d4_7cba_11ed_b63a_1e0062143c78level0_row3\" class=\"row_heading level0 row3\" >4</th>\n",
       "                        <td id=\"T_3ac8a7d4_7cba_11ed_b63a_1e0062143c78row3_col0\" class=\"data row3 col0\" >1</td>\n",
       "            </tr>\n",
       "    </tbody></table>"
      ],
      "text/plain": [
       "<pandas.io.formats.style.Styler at 0x7ff199cada30>"
      ]
     },
     "metadata": {},
     "output_type": "display_data"
    }
   ],
   "source": [
    "onesharp(sanity(pre_pred), ['#1'])"
   ]
  },
  {
   "cell_type": "code",
   "execution_count": 14,
   "metadata": {
    "id": "0RI_oHqycIE5"
   },
   "outputs": [],
   "source": [
    "pred = [\n",
    "     ['top','cases', 1, 'a', 'b','c'],   \n",
    "     ['a', 'goto', 'end'],\n",
    "     ['b', 'cases', 1, 'oe', 'oo', 'oh'],\n",
    "     ['oe', '1##'],\n",
    "     ['goto', 'end'],\n",
    "     ['oo', '11#11#'+move(1,2)+move(2,1)],\n",
    "     ['goto', 'main'],\n",
    "     ['oh', '11#11##'+move(1,2)+move(2,1)],\n",
    "     ['goto', 'main'],\n",
    "     ['c', 'cases', 1, 'he', 'ho', 'hh'],\n",
    "     ['he', '1##'],\n",
    "     ['goto', 'end'],\n",
    "     ['ho', '11##11#'+move(1,2)+move(2,1)],\n",
    "     ['goto', 'main'],\n",
    "     ['hh', '11##11##'+move(1,2)+move(2,1)],\n",
    "     ['goto', 'main'],    \n",
    "     ['main', 'cases', 1, 'empty', 'one','hash'],\n",
    "     ['empty', move(2,1)],\n",
    "     ['goto', 'end'],\n",
    "     ['one', '11##'],\n",
    "     [move(1,2) + move(2,1)],\n",
    "     ['goto', 'end'],\n",
    "     ['hash', '11#'],\n",
    "     ['borrowing', 'cases', 1, 'borrowing_empty', 'borrowing_one', 'borrowing_hash'],\n",
    "     ['borrowing_empty', move(2,1)],\n",
    "     ['goto', 'end'],\n",
    "     ['borrowing_one', '11##'],\n",
    "     [move(1,2) + move(2,1)],\n",
    "     ['goto', 'end'],\n",
    "     ['borrowing_hash', '11#'],\n",
    "     ['goto','borrowing']\n",
    "]"
   ]
  },
  {
   "cell_type": "code",
   "execution_count": 15,
   "metadata": {
    "id": "It_-TCiJhyHx"
   },
   "outputs": [],
   "source": [
    "p1 = sanity(pred)\n"
   ]
  },
  {
   "cell_type": "code",
   "execution_count": 16,
   "metadata": {
    "colab": {
     "base_uri": "https://localhost:8080/",
     "height": 35
    },
    "id": "wxlu8HIUhzxG",
    "outputId": "3553fa9e-9783-4f7c-e82b-7c29d9f9cca2"
   },
   "outputs": [
    {
     "data": {
      "text/plain": [
       "'##'"
      ]
     },
     "execution_count": 16,
     "metadata": {},
     "output_type": "execute_result"
    }
   ],
   "source": [
    "onesharp(p1,['1#'])"
   ]
  },
  {
   "cell_type": "code",
   "execution_count": 17,
   "metadata": {
    "id": "EZZsDX8Lh2yp"
   },
   "outputs": [],
   "source": [
    "id = [ ['all_h', 'cases', 1, 'a', 'b', 'c'],\n",
    "       ['a', '1##'+clear(2)],\n",
    "       ['goto', 'end'],\n",
    "       ['b', '11#'],\n",
    "       [move(1,2)+move(2,1)],\n",
    "       ['goto', 'end'],\n",
    "       ['c', '11##'],\n",
    "       ['goto', 'all_h']\n",
    "      ]\n",
    "\n",
    "rectify=sanity(id)"
   ]
  },
  {
   "cell_type": "code",
   "execution_count": 18,
   "metadata": {
    "colab": {
     "base_uri": "https://localhost:8080/",
     "height": 35
    },
    "id": "Sl3nbpituNZw",
    "outputId": "06b99d99-7aad-4516-d935-aab1dcaac826"
   },
   "outputs": [
    {
     "data": {
      "text/plain": [
       "'##1'"
      ]
     },
     "execution_count": 18,
     "metadata": {},
     "output_type": "execute_result"
    }
   ],
   "source": [
    "onesharp(rectify,['##1'])"
   ]
  },
  {
   "cell_type": "code",
   "execution_count": 19,
   "metadata": {
    "id": "cjLmQjgfubNV"
   },
   "outputs": [],
   "source": [
    "pr = p1 + rectify"
   ]
  },
  {
   "cell_type": "code",
   "execution_count": 20,
   "metadata": {
    "colab": {
     "base_uri": "https://localhost:8080/",
     "height": 35
    },
    "id": "Ud4Qoo91uvd1",
    "outputId": "bf984a22-8bd9-43ab-db71-e7cdb725502f"
   },
   "outputs": [
    {
     "data": {
      "text/plain": [
       "'#'"
      ]
     },
     "execution_count": 20,
     "metadata": {},
     "output_type": "execute_result"
    }
   ],
   "source": [
    "onesharp(pr,['1##'])"
   ]
  },
  {
   "cell_type": "code",
   "execution_count": 21,
   "metadata": {
    "colab": {
     "base_uri": "https://localhost:8080/",
     "height": 122
    },
    "id": "qAuTowHCux8r",
    "outputId": "ed06ddeb-a1f7-4a49-bd61-ed435b9b1f99"
   },
   "outputs": [
    {
     "data": {
      "text/plain": [
       "'1#####111###111###111111111111111111111111111111111111111111###11111111111111111111111111111111111111111111111111111111111111111111111111111111111111111111111111111111111111111111111111111111111111111111###1#####111###1111###11111111111111111111###1##11111111111111111111111111111111111111111111111111111111111111111111111111111111111111111111111111111111111111111111111111111111111111###11#11#1#####11111 1###111###11##1111####11#11111 1####11#####11111 1###111###1##1111####1#11111 1####1111111111111111111111111111111111111111111111111111111111###11#11##1#####11111 1###111###11##1111####11#11111 1####11#####11111 1###111###1##1111####1#11111 1####11111111111111111111111111111111111111111###1#####111###1111###11111111111111111111###1##1111111111111111111111111111111111111111111111111111111111111111111111111111111111111111111111###11##11#1#####11111 1###111###11##1111####11#11111 1####11#####11111 1###111###1##1111####1#11111 1####111111111111111111###11##11##1#####11111 1###111###11##1111####11#11111 1####11#####11111 1###111###1##1111####1#11111 1####1###1#####111###1111111111###1111111111111111111111111###11#####11111 1###111###1##1111####1#11111 1####111111111111111111111111111111111111111111111111###11##1#####11111 1###111###11##1111####11#11111 1####11#####11111 1###111###1##1111####1#11111 1####11111111111111111111111111111111###11#1#####111###1111111111###1111111111111111111111111###11#####11111 1###111###1##1111####1#11111 1####1111111111111111111###11##1#####11111 1###111###11##1111####11#11111 1####11#####11111 1###111###1##1111####1#11111 1####111###11#11111111111111111111111111111####1#####111###11111111###11111111111111111111111###1##11#####111###11####111####1111111111111111111###11#1#####11111 1###111###11##1111####11#11111 1####11#####11111 1###111###1##1111####1#11111 1####111###11##111111111111111111111111111####'"
      ]
     },
     "execution_count": 21,
     "metadata": {},
     "output_type": "execute_result"
    }
   ],
   "source": [
    "pr"
   ]
  }
 ],
 "metadata": {
  "colab": {
   "include_colab_link": true,
   "provenance": []
  },
  "kernelspec": {
   "display_name": "Python 3",
   "name": "python3"
  },
  "language_info": {
   "codemirror_mode": {
    "name": "ipython",
    "version": 3
   },
   "file_extension": ".py",
   "mimetype": "text/x-python",
   "name": "python",
   "nbconvert_exporter": "python",
   "pygments_lexer": "ipython3",
   "version": "3.8.5"
  }
 },
 "nbformat": 4,
 "nbformat_minor": 0
}