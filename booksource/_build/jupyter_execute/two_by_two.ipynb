{
 "cells": [
  {
   "cell_type": "markdown",
   "metadata": {
    "colab_type": "text",
    "id": "view-in-github"
   },
   "source": [
    "<a href=\"https://colab.research.google.com/github/lmoss/onesharp/blob/main/two_by_two.ipynb\" target=\"_parent\"><img src=\"https://colab.research.google.com/assets/colab-badge.svg\" alt=\"Open In Colab\"/></a>"
   ]
  },
  {
   "cell_type": "markdown",
   "metadata": {
    "id": "fDFD2HjfRMzO"
   },
   "source": [
    "# Two-by-Two Encoding\n",
    "\n",
    "This notebook shows that every 1# program may be modified to get a program with the special feature that when it runs, the case statement 1##### is never called on an empty R1.  (This technical feature will be put to use later, when we prove the undecidability of Post's Correspondence Problem).\n",
    "\n",
    "The work here also is a good illustration of the use of the Sanity tool."
   ]
  },
  {
   "cell_type": "code",
   "execution_count": 1,
   "metadata": {
    "cellView": "form",
    "colab": {
     "base_uri": "https://localhost:8080/"
    },
    "id": "NzHkyz3NJf9D",
    "outputId": "c809db53-94bc-4fe3-f564-cdf79528d174"
   },
   "outputs": [
    {
     "name": "stdout",
     "output_type": "stream",
     "text": [
      "Requirement already up-to-date: setuptools in /Users/lsm/Dropbox/invitationBook/lmoss.github.io/.venv/lib/python3.8/site-packages (65.6.3)\r\n"
     ]
    },
    {
     "name": "stdout",
     "output_type": "stream",
     "text": [
      "\u001b[33mWARNING: You are using pip version 20.1.1; however, version 22.3.1 is available.\r\n",
      "You should consider upgrading via the '/Users/lsm/Dropbox/invitationBook/lmoss.github.io/.venv/bin/python -m pip install --upgrade pip' command.\u001b[0m\r\n"
     ]
    },
    {
     "name": "stdout",
     "output_type": "stream",
     "text": [
      "Collecting git+https://github.com/lmoss/onesharp/\r\n",
      "  Cloning https://github.com/lmoss/onesharp/ to /private/var/folders/kt/458_ttf57hvdmjpsh88m1fzh0000gp/T/pip-req-build-yb6jy2mn\r\n",
      "  Running command git clone -q https://github.com/lmoss/onesharp/ /private/var/folders/kt/458_ttf57hvdmjpsh88m1fzh0000gp/T/pip-req-build-yb6jy2mn\r\n"
     ]
    },
    {
     "name": "stdout",
     "output_type": "stream",
     "text": [
      "  Installing build dependencies ... \u001b[?25l-"
     ]
    },
    {
     "name": "stdout",
     "output_type": "stream",
     "text": [
      "\b \b\\"
     ]
    },
    {
     "name": "stdout",
     "output_type": "stream",
     "text": [
      "\b \b|"
     ]
    },
    {
     "name": "stdout",
     "output_type": "stream",
     "text": [
      "\b \bdone\r\n"
     ]
    },
    {
     "name": "stdout",
     "output_type": "stream",
     "text": [
      "\u001b[?25h  Getting requirements to build wheel ... \u001b[?25l-\b \bdone\r\n"
     ]
    },
    {
     "name": "stdout",
     "output_type": "stream",
     "text": [
      "\u001b[?25h  Installing backend dependencies ... \u001b[?25l-"
     ]
    },
    {
     "name": "stdout",
     "output_type": "stream",
     "text": [
      "\b \b\\"
     ]
    },
    {
     "name": "stdout",
     "output_type": "stream",
     "text": [
      "\b \bdone\r\n"
     ]
    },
    {
     "name": "stdout",
     "output_type": "stream",
     "text": [
      "\u001b[?25h    Preparing wheel metadata ... \u001b[?25l-\b \bdone\r\n"
     ]
    },
    {
     "name": "stdout",
     "output_type": "stream",
     "text": [
      "\u001b[?25hRequirement already satisfied, skipping upgrade: numpy in /Users/lsm/Dropbox/invitationBook/lmoss.github.io/.venv/lib/python3.8/site-packages (from onesharp==0.0.0) (1.23.5)\r\n",
      "Requirement already satisfied, skipping upgrade: pandas in /Users/lsm/Dropbox/invitationBook/lmoss.github.io/.venv/lib/python3.8/site-packages (from onesharp==0.0.0) (1.5.2)\r\n",
      "Requirement already satisfied, skipping upgrade: IPython in /Users/lsm/Dropbox/invitationBook/lmoss.github.io/.venv/lib/python3.8/site-packages (from onesharp==0.0.0) (8.7.0)\r\n",
      "Requirement already satisfied, skipping upgrade: pytz>=2020.1 in /Users/lsm/Dropbox/invitationBook/lmoss.github.io/.venv/lib/python3.8/site-packages (from pandas->onesharp==0.0.0) (2022.6)\r\n"
     ]
    },
    {
     "name": "stdout",
     "output_type": "stream",
     "text": [
      "Requirement already satisfied, skipping upgrade: python-dateutil>=2.8.1 in /Users/lsm/Dropbox/invitationBook/lmoss.github.io/.venv/lib/python3.8/site-packages (from pandas->onesharp==0.0.0) (2.8.2)\r\n",
      "Requirement already satisfied, skipping upgrade: backcall in /Users/lsm/Dropbox/invitationBook/lmoss.github.io/.venv/lib/python3.8/site-packages (from IPython->onesharp==0.0.0) (0.2.0)\r\n",
      "Requirement already satisfied, skipping upgrade: pickleshare in /Users/lsm/Dropbox/invitationBook/lmoss.github.io/.venv/lib/python3.8/site-packages (from IPython->onesharp==0.0.0) (0.7.5)\r\n",
      "Requirement already satisfied, skipping upgrade: jedi>=0.16 in /Users/lsm/Dropbox/invitationBook/lmoss.github.io/.venv/lib/python3.8/site-packages (from IPython->onesharp==0.0.0) (0.18.2)\r\n",
      "Requirement already satisfied, skipping upgrade: matplotlib-inline in /Users/lsm/Dropbox/invitationBook/lmoss.github.io/.venv/lib/python3.8/site-packages (from IPython->onesharp==0.0.0) (0.1.6)\r\n",
      "Requirement already satisfied, skipping upgrade: prompt-toolkit<3.1.0,>=3.0.11 in /Users/lsm/Dropbox/invitationBook/lmoss.github.io/.venv/lib/python3.8/site-packages (from IPython->onesharp==0.0.0) (3.0.36)\r\n",
      "Requirement already satisfied, skipping upgrade: traitlets>=5 in /Users/lsm/Dropbox/invitationBook/lmoss.github.io/.venv/lib/python3.8/site-packages (from IPython->onesharp==0.0.0) (5.7.1)\r\n",
      "Requirement already satisfied, skipping upgrade: pexpect>4.3; sys_platform != \"win32\" in /Users/lsm/Dropbox/invitationBook/lmoss.github.io/.venv/lib/python3.8/site-packages (from IPython->onesharp==0.0.0) (4.8.0)\r\n",
      "Requirement already satisfied, skipping upgrade: decorator in /Users/lsm/Dropbox/invitationBook/lmoss.github.io/.venv/lib/python3.8/site-packages (from IPython->onesharp==0.0.0) (5.1.1)\r\n",
      "Requirement already satisfied, skipping upgrade: pygments>=2.4.0 in /Users/lsm/Dropbox/invitationBook/lmoss.github.io/.venv/lib/python3.8/site-packages (from IPython->onesharp==0.0.0) (2.13.0)\r\n",
      "Requirement already satisfied, skipping upgrade: appnope; sys_platform == \"darwin\" in /Users/lsm/Dropbox/invitationBook/lmoss.github.io/.venv/lib/python3.8/site-packages (from IPython->onesharp==0.0.0) (0.1.3)\r\n",
      "Requirement already satisfied, skipping upgrade: stack-data in /Users/lsm/Dropbox/invitationBook/lmoss.github.io/.venv/lib/python3.8/site-packages (from IPython->onesharp==0.0.0) (0.6.2)\r\n",
      "Requirement already satisfied, skipping upgrade: six>=1.5 in /Users/lsm/Dropbox/invitationBook/lmoss.github.io/.venv/lib/python3.8/site-packages (from python-dateutil>=2.8.1->pandas->onesharp==0.0.0) (1.16.0)\r\n",
      "Requirement already satisfied, skipping upgrade: parso<0.9.0,>=0.8.0 in /Users/lsm/Dropbox/invitationBook/lmoss.github.io/.venv/lib/python3.8/site-packages (from jedi>=0.16->IPython->onesharp==0.0.0) (0.8.3)\r\n",
      "Requirement already satisfied, skipping upgrade: wcwidth in /Users/lsm/Dropbox/invitationBook/lmoss.github.io/.venv/lib/python3.8/site-packages (from prompt-toolkit<3.1.0,>=3.0.11->IPython->onesharp==0.0.0) (0.2.5)\r\n",
      "Requirement already satisfied, skipping upgrade: ptyprocess>=0.5 in /Users/lsm/Dropbox/invitationBook/lmoss.github.io/.venv/lib/python3.8/site-packages (from pexpect>4.3; sys_platform != \"win32\"->IPython->onesharp==0.0.0) (0.7.0)\r\n",
      "Requirement already satisfied, skipping upgrade: executing>=1.2.0 in /Users/lsm/Dropbox/invitationBook/lmoss.github.io/.venv/lib/python3.8/site-packages (from stack-data->IPython->onesharp==0.0.0) (1.2.0)\r\n",
      "Requirement already satisfied, skipping upgrade: asttokens>=2.1.0 in /Users/lsm/Dropbox/invitationBook/lmoss.github.io/.venv/lib/python3.8/site-packages (from stack-data->IPython->onesharp==0.0.0) (2.2.1)\r\n",
      "Requirement already satisfied, skipping upgrade: pure-eval in /Users/lsm/Dropbox/invitationBook/lmoss.github.io/.venv/lib/python3.8/site-packages (from stack-data->IPython->onesharp==0.0.0) (0.2.2)\r\n"
     ]
    },
    {
     "name": "stdout",
     "output_type": "stream",
     "text": [
      "Building wheels for collected packages: onesharp\r\n"
     ]
    },
    {
     "name": "stdout",
     "output_type": "stream",
     "text": [
      "  Building wheel for onesharp (PEP 517) ... \u001b[?25l-"
     ]
    },
    {
     "name": "stdout",
     "output_type": "stream",
     "text": [
      "\b \bdone\r\n",
      "\u001b[?25h  Created wheel for onesharp: filename=onesharp-0.0.0-py3-none-any.whl size=4718 sha256=a70566f5552af478a8f26e7f981d06ab48fe83d6c89927c457e4ce896c59a3c5\r\n",
      "  Stored in directory: /private/var/folders/kt/458_ttf57hvdmjpsh88m1fzh0000gp/T/pip-ephem-wheel-cache-i7709px2/wheels/15/9c/2c/6af637859045d8eb5e7ee4346e0c814f026bb3e55232b522ca\r\n",
      "Successfully built onesharp\r\n"
     ]
    },
    {
     "name": "stdout",
     "output_type": "stream",
     "text": [
      "Installing collected packages: onesharp\r\n",
      "  Attempting uninstall: onesharp\r\n",
      "    Found existing installation: onesharp 0.0.0\r\n",
      "    Uninstalling onesharp-0.0.0:\r\n",
      "      Successfully uninstalled onesharp-0.0.0\r\n"
     ]
    },
    {
     "name": "stdout",
     "output_type": "stream",
     "text": [
      "Successfully installed onesharp-0.0.0\r\n",
      "\u001b[33mWARNING: You are using pip version 20.1.1; however, version 22.3.1 is available.\r\n",
      "You should consider upgrading via the '/Users/lsm/Dropbox/invitationBook/lmoss.github.io/.venv/bin/python -m pip install --upgrade pip' command.\u001b[0m\r\n"
     ]
    }
   ],
   "source": [
    "#@title\n",
    "!python -m pip install -U setuptools\n",
    "!python -m pip install -U git+https://github.com/lmoss/onesharp/\n",
    "from onesharp.interpreter.interpreter import *\n",
    "from onesharp.tools.sanity import *"
   ]
  },
  {
   "cell_type": "markdown",
   "metadata": {
    "id": "_iArgn-aRudm"
   },
   "source": [
    "The two-by-two encoding takes the symbol 1 and replaces it by 11, and the symbol # and replaces it by 1#.  Then a word in a given register is replace by the letter-by-letter encoding, followed by an \"end of register\" marker ##.   For example, if R1 has 1#1, then we encode this by 111#11##.  \n",
    "\n",
    "We want to translate programs into ones which work on the encoded words, and we want to be sure that the translated programs have the feature that we are looking for. The basic idea in the programs below is that we can grab the symbols in R1 in a \"two-by-two\" fashion, and since we have an \"end-of-register\" marker ##, we will never do a case statement on an empty register.\n",
    "\n",
    "For simplicity, we are going to work only with programs that are tidy and which only use R1, and which are then run on all empty registers.  This is what we need for the later use of this encoding, and these conditions could be relaxed a bit.\n"
   ]
  },
  {
   "cell_type": "markdown",
   "metadata": {
    "id": "QSPl__vkGg8-"
   },
   "source": [
    "## Encoding and decoding register 1\n"
   ]
  },
  {
   "cell_type": "code",
   "execution_count": 2,
   "metadata": {
    "id": "N4cLmME8Gna_"
   },
   "outputs": [],
   "source": [
    "decode_idea = [ # this is sanity code for decoding an encoded R1\n",
    "    ['top', 'cases', 1, 'empty', 'found_a_one', 'found_a_sharp'],\n",
    "    ['empty','1###'],\n",
    "    ['found_a_one', 'cases', 1, 'empty', 'one_one', 'one_sharp'],\n",
    "    ['found_a_sharp', 'cases', 1, 'empty', 'empty', 'sharp_sharp'],\n",
    "    ['one_one', '1#'],\n",
    "    ['goto', 'top'],\n",
    "    ['one_sharp', '1##'],\n",
    "    ['goto', 'top'],\n",
    "    ['sharp_sharp', 'goto', 'end']\n",
    "]\n",
    "decode = sanity(decode_idea)\n",
    "#onesharp(decode,['111###'])\n",
    "\n",
    "def atomic_replace(x):\n",
    "  if x == '1':\n",
    "    return '11'\n",
    "  if x == '#':\n",
    "    return '1#'\n",
    "    \n",
    "def encode(w):\n",
    "  a = [atomic_replace(x) for x in w]\n",
    "  b = unparse(a)\n",
    "  c = b + '##'\n",
    "  return(c)        "
   ]
  },
  {
   "cell_type": "markdown",
   "metadata": {
    "id": "cGDrWrrPGTxs"
   },
   "source": [
    "## Changing the instructions ```1#``` and ```1##``` "
   ]
  },
  {
   "cell_type": "code",
   "execution_count": 3,
   "metadata": {
    "id": "lvyw8aErKQJW"
   },
   "outputs": [],
   "source": [
    "two_by_two_addone_idea = [ # this is sanity code for 1#, run on encoded R1\n",
    "    ['top', 'cases', 1, 'empty', 'found_a_one', 'found_a_sharp'],\n",
    "    ['empty','1###'],\n",
    "    ['found_a_one', 'cases', 1, 'empty', 'one_one', 'one_sharp'],\n",
    "    ['found_a_sharp', 'cases', 1, 'empty', 'empty', 'sharp_sharp'],\n",
    "    ['one_one', '1#1#'],\n",
    "    ['goto', 'top'],\n",
    "    ['one_sharp', '1#1##'],\n",
    "    ['goto', 'top'],\n",
    "    ['sharp_sharp', '1#1#1##1##'], ## note that the 1#1# adds 11 before the end\n",
    "    ['goto', 'end']\n",
    "]\n",
    "\n",
    "two_by_two_addone = sanity(two_by_two_addone_idea)\n",
    "\n",
    "two_by_two_addsharp_idea = [ # this is sanity code for 1##, again run on encoded R1\n",
    "    ['top', 'cases', 1, 'empty', 'found_a_one', 'found_a_sharp'],\n",
    "    ['empty','1###'],\n",
    "    ['found_a_one', 'cases', 1, 'empty', 'one_one', 'one_sharp'],\n",
    "    ['found_a_sharp', 'cases', 1, 'empty', 'empty', 'sharp_sharp'],\n",
    "    ['one_one', '1#1#'],\n",
    "    ['goto', 'top'],\n",
    "    ['one_sharp', '1#1##'],\n",
    "    ['goto', 'top'],\n",
    "    ['sharp_sharp', '1#1##1##1##'], ## note that the 1#1## adds 11 before the end\n",
    "    ['goto', 'end']\n",
    "]\n",
    "\n",
    "two_by_two_addone = sanity(two_by_two_addone_idea)\n",
    "\n",
    "two_by_two_addsharp = sanity(two_by_two_addsharp_idea)\n",
    "\n"
   ]
  },
  {
   "cell_type": "markdown",
   "metadata": {
    "id": "TIWp8plfG_FF"
   },
   "source": [
    "## Changing the transfer instructions"
   ]
  },
  {
   "cell_type": "code",
   "execution_count": 4,
   "metadata": {
    "id": "laJA1U9LMpHd"
   },
   "outputs": [],
   "source": [
    "def numbered(parsed): ## words on a parsed program\n",
    "  n = len(parsed)\n",
    "  x = [['a'+str(i+1),parsed[i]] for i in range(n)]\n",
    "  return(x)\n",
    "\n",
    "def resolve_transfer(program,instruction,index): # for use on an instruction in a numbered, parsed program  \n",
    "  if instruction_type(instruction[1]) == 'forward':\n",
    "     offset = len(instruction[1]) - 3\n",
    "     #return([instruction[0], 'goto', str(index+offset)])\n",
    "     if index+offset -1 == len(program):\n",
    "       return([instruction[0], 'goto', 'end']) # note the special handling here\n",
    "     else:\n",
    "       return([instruction[0], 'goto', program[index+offset-1][0]])\n",
    "  if instruction_type(instruction[1]) == 'backward':\n",
    "     offset = len(instruction[1]) - 4\n",
    "     return([instruction[0], 'goto', program[index-offset-1][0]])   \n",
    "  else:\n",
    "     return(instruction)   \n",
    "\n",
    "def resolve_all_transfers(parsed): #for use on a parsed, numbered program \n",
    "  k = len(parsed)\n",
    "  answer = [resolve_transfer(parsed,parsed[i-1],i) for i in range(1,k+1)]\n",
    "  return(answer)\n",
    "\n",
    "def replace_add_instruction(x):\n",
    "  if x[1] == '1#':\n",
    "    return([x[0],two_by_two_addone])\n",
    "    ## this had been   return(two_by_two_addone])\n",
    "    # but due to the fact that sanity expects \n",
    "    # input like ['1#1##'] rather than ['4', '1#1##'], the numbers are out\n",
    "  elif  x[1] == '1##':   \n",
    "    return([x[0],two_by_two_addsharp]) \n",
    "  else:\n",
    "    return(x)\n",
    "\n",
    "def replace_all_add_instructions(parsed): #for use on a parsed, numbered program \n",
    "  answer = [replace_add_instruction(i) for i in parsed]\n",
    "  return(answer)\n",
    "\n"
   ]
  },
  {
   "cell_type": "markdown",
   "metadata": {
    "id": "mXd5lUKqHG80"
   },
   "source": [
    "## Changing the case instruction ```1#####```, and the overall modification program"
   ]
  },
  {
   "cell_type": "code",
   "execution_count": 5,
   "metadata": {
    "id": "QQAoHcTqHUhq"
   },
   "outputs": [],
   "source": [
    "def modify(p): # this modifies a program\n",
    "  # onesharp(onesharp(modify,[p]),[encoded(x)]) = encoded(onesharp(p,[x]))\n",
    "  p_one = parse(p)\n",
    "  p_two = numbered(p_one)\n",
    "  p_three =  resolve_all_transfers(p_two) \n",
    "  p_four =replace_all_add_instructions(p_three)\n",
    "  N = len(p_four)\n",
    "  temp = []\n",
    "  r = p_four\n",
    "  #print(r)\n",
    "  for i in range(N):\n",
    "    #print(r[i])\n",
    "    if r[i][1] == '1#####':\n",
    "       temp = temp +  [[r[i][0], 'cases', 1, str(i)+'empty', str(i)+'found_a_one', str(i)+'found_a_sharp'],\n",
    "       [str(i)+'empty','1###'],\n",
    "       [str(i)+'found_a_one', 'cases', 1, str(i)+'empty', str(i)+'one_one', str(i)+'one_sharp'],\n",
    "       [str(i)+'found_a_sharp', 'cases', 1, str(i)+'empty', str(i)+'empty', str(i)+'sharp_sharp'],\n",
    "       [str(i)+'one_one', 'goto', r[i+2][0]],\n",
    "       [str(i)+'one_sharp', 'goto', r[i+3][0]],\n",
    "       [str(i)+'sharp_sharp','1##1##'], # key point! return end marker to R1\n",
    "       ['goto', r[i+1][0]]]\n",
    "    else:\n",
    "       temp = temp + [r[i]]\n",
    "  #print(temp)\n",
    "  #print(len(temp))   \n",
    "  #print()\n",
    "  #return(temp)\n",
    "  santemp = sanity(temp)\n",
    "  return(santemp)"
   ]
  },
  {
   "cell_type": "markdown",
   "metadata": {
    "id": "2CQJqE3vHkfS"
   },
   "source": [
    "## Testing our work"
   ]
  },
  {
   "cell_type": "code",
   "execution_count": 6,
   "metadata": {
    "colab": {
     "base_uri": "https://localhost:8080/"
    },
    "id": "xS_hk4XHB_lv",
    "outputId": "d1740f1f-11d2-4f34-ac18-7bba017c0241"
   },
   "outputs": [
    {
     "name": "stdout",
     "output_type": "stream",
     "text": [
      "1#1##1#1##1##1#1##\n",
      "1#1##1#1##1##1#1##\n"
     ]
    }
   ],
   "source": [
    "# this checks that everything works correctly\n",
    "\n",
    "mod_diag = modify(diag)\n",
    "#print(mod_diag)\n",
    "w = encode('1#1##')\n",
    "x = onesharp(mod_diag,[w]) \n",
    "y = onesharp(decode, [x])\n",
    "print(y)\n",
    "print(onesharp(diag,['1#1##']))"
   ]
  },
  {
   "cell_type": "code",
   "execution_count": null,
   "metadata": {
    "id": "Dq37tI8DMRng"
   },
   "outputs": [],
   "source": []
  }
 ],
 "metadata": {
  "colab": {
   "authorship_tag": "ABX9TyNyX28qSBc3xJ6CiC9O+uiM",
   "include_colab_link": true,
   "provenance": [],
   "toc_visible": true
  },
  "kernelspec": {
   "display_name": "Python 3",
   "name": "python3"
  },
  "language_info": {
   "codemirror_mode": {
    "name": "ipython",
    "version": 3
   },
   "file_extension": ".py",
   "mimetype": "text/x-python",
   "name": "python",
   "nbconvert_exporter": "python",
   "pygments_lexer": "ipython3",
   "version": "3.8.5"
  }
 },
 "nbformat": 4,
 "nbformat_minor": 0
}